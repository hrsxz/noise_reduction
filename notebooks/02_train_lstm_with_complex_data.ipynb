{
 "cells": [
  {
   "cell_type": "markdown",
   "metadata": {},
   "source": [
    "## Prepare training data"
   ]
  },
  {
   "cell_type": "code",
   "execution_count": 1,
   "metadata": {},
   "outputs": [
    {
     "name": "stdout",
     "output_type": "stream",
     "text": [
      "Final clean batches for sequence length 50: torch.Size([400, 50, 1])\n",
      "Final noisy batches for sequence length 50: torch.Size([400, 50, 1])\n",
      "Final clean batches for sequence length 100: torch.Size([400, 100, 1])\n",
      "Final noisy batches for sequence length 100: torch.Size([400, 100, 1])\n",
      "Final clean batches for sequence length 200: torch.Size([400, 200, 1])\n",
      "Final noisy batches for sequence length 200: torch.Size([400, 200, 1])\n",
      "Final clean batches for sequence length 500: torch.Size([400, 500, 1])\n",
      "Final noisy batches for sequence length 500: torch.Size([400, 500, 1])\n",
      "Final clean batches for sequence length 800: torch.Size([400, 800, 1])\n",
      "Final noisy batches for sequence length 800: torch.Size([400, 800, 1])\n"
     ]
    }
   ],
   "source": [
    "import torch\n",
    "import numpy as np\n",
    "\n",
    "# 定义参数\n",
    "batch_size = 400\n",
    "input_size = 1\n",
    "\n",
    "# 定义随机性参数\n",
    "sequence_lengths = [50, 100, 200, 500, 800]  # 可选的采样点数\n",
    "period_range = (1, 100)  # 随机选择周期范围\n",
    "\n",
    "# 初始化用于存储所有信号的列表dd\n",
    "all_clean_batches = []\n",
    "all_noisy_batches = []\n",
    "\n",
    "# 生成多种随机信号并融合\n",
    "for sequence_length in sequence_lengths:\n",
    "    period = np.random.uniform(*period_range)  # 随机选择周期\n",
    "\n",
    "    # 生成干净信号\n",
    "    clean_signal = torch.sin(\n",
    "        torch.linspace(0, 2 * np.pi * period, batch_size * sequence_length)\n",
    "    ).unsqueeze(-1)   # 添加最后一维，使形状为 (batch_size * sequence_length, 1)\n",
    "\n",
    "    # # 检查生成信号的长度是否能整齐划分为 batch_size\n",
    "    # total_points = batch_size * sequence_length\n",
    "    # if clean_signal.size(0) != total_points:\n",
    "    #     print(f\"Skipping sequence length {sequence_length} due to incompatible size.\")\n",
    "    #     continue\n",
    "\n",
    "    # 划分为批次形式\n",
    "    clean_batches = clean_signal.view(batch_size, sequence_length, input_size)\n",
    "\n",
    "    # 生成噪声信号\n",
    "    noise = torch.randn_like(clean_signal) * 0.2  # 调整噪声强度\n",
    "    noisy_signal = clean_signal + noise\n",
    "    noisy_batches = noisy_signal.view(batch_size, sequence_length, input_size)\n",
    "\n",
    "    # 将生成的数据添加到列表中\n",
    "    all_clean_batches.append((sequence_length, clean_batches))\n",
    "    all_noisy_batches.append((sequence_length, noisy_batches))\n",
    "\n",
    "# 确保序列长度相同的批次分别拼接\n",
    "final_clean_batches = []\n",
    "final_noisy_batches = []\n",
    "\n",
    "for sequence_length in sequence_lengths:\n",
    "    clean_batches_group = [cb for sl, cb in all_clean_batches if sl == sequence_length]\n",
    "    noisy_batches_group = [nb for sl, nb in all_noisy_batches if sl == sequence_length]\n",
    "\n",
    "    if clean_batches_group and noisy_batches_group:\n",
    "        final_clean_batches.append(torch.cat(clean_batches_group, dim=0))\n",
    "        final_noisy_batches.append(torch.cat(noisy_batches_group, dim=0))\n",
    "\n",
    "# 打印拼接结果\n",
    "for i, sequence_length in enumerate(sequence_lengths):\n",
    "    if i < len(final_clean_batches):\n",
    "        print(f\"Final clean batches for sequence length {sequence_length}: {final_clean_batches[i].size()}\")\n",
    "        print(f\"Final noisy batches for sequence length {sequence_length}: {final_noisy_batches[i].size()}\")\n"
   ]
  },
  {
   "cell_type": "markdown",
   "metadata": {},
   "source": [
    "## Create dataloader"
   ]
  },
  {
   "cell_type": "code",
   "execution_count": 2,
   "metadata": {},
   "outputs": [
    {
     "name": "stdout",
     "output_type": "stream",
     "text": [
      "Number of batches in dataloader: 5\n"
     ]
    }
   ],
   "source": [
    "from torch.utils.data import Dataset, DataLoader\n",
    "\n",
    "# 定义自定义数据集\n",
    "class TimeSeriesDataset(Dataset):\n",
    "    def __init__(self, noisy_batches, clean_batches):\n",
    "        self.noisy_batches = noisy_batches\n",
    "        self.clean_batches = clean_batches\n",
    "\n",
    "    def __len__(self):\n",
    "        return len(self.noisy_batches)\n",
    "\n",
    "    def __getitem__(self, idx):\n",
    "        return self.noisy_batches[idx], self.clean_batches[idx]\n",
    "\n",
    "# 定义数据集和数据加载器\n",
    "dataset = TimeSeriesDataset(final_noisy_batches, final_clean_batches)\n",
    "dataloader = DataLoader(dataset, batch_size=40, shuffle=False)\n",
    "\n",
    "grouped_dataloaders = []\n",
    "for sequence_length, noisy_batch, clean_batch in zip(sequence_lengths,\n",
    "                                                     final_noisy_batches,\n",
    "                                                     final_clean_batches):\n",
    "    dataset = TimeSeriesDataset(noisy_batch, clean_batch)\n",
    "    dataloader = DataLoader(dataset, batch_size=40, shuffle=False)\n",
    "    grouped_dataloaders.append((sequence_length, dataloader))\n",
    "\n",
    "print(f\"Number of batches in dataloader: {len(grouped_dataloaders)}\")"
   ]
  },
  {
   "cell_type": "markdown",
   "metadata": {},
   "source": [
    "## Define model"
   ]
  },
  {
   "cell_type": "code",
   "execution_count": 3,
   "metadata": {},
   "outputs": [
    {
     "name": "stdout",
     "output_type": "stream",
     "text": [
      "Training on: cuda\n"
     ]
    },
    {
     "data": {
      "text/plain": [
       "LSTMDenoiser(\n",
       "  (lstm): LSTM(1, 64, num_layers=2, batch_first=True)\n",
       "  (fc): Linear(in_features=64, out_features=1, bias=True)\n",
       ")"
      ]
     },
     "execution_count": 3,
     "metadata": {},
     "output_type": "execute_result"
    }
   ],
   "source": [
    "import torch\n",
    "import torch.nn as nn\n",
    "import torch.optim as optim\n",
    "\n",
    "# 定义 LSTM 降噪模型\n",
    "class LSTMDenoiser(nn.Module):\n",
    "    def __init__(self, input_size, hidden_size, num_layers):\n",
    "        super().__init__()\n",
    "        self.lstm = nn.LSTM(input_size, hidden_size, num_layers, batch_first=True)\n",
    "        self.fc = nn.Linear(hidden_size, input_size)\n",
    "\n",
    "    def forward(self, x):\n",
    "        out, _ = self.lstm(x)\n",
    "        out = self.fc(out)\n",
    "        return out\n",
    "\n",
    "# 初始化模型\n",
    "model = LSTMDenoiser(input_size=1, hidden_size=64, num_layers=2)\n",
    "criterion = nn.MSELoss()\n",
    "optimizer = optim.Adam(model.parameters(), lr=1e-3)\n",
    "\n",
    "# 加载模型\n",
    "device = torch.device(\"cuda\" if torch.cuda.is_available() else \"cpu\")\n",
    "print(\"Training on:\", device)\n",
    "model.to(device)"
   ]
  },
  {
   "cell_type": "code",
   "execution_count": 4,
   "metadata": {},
   "outputs": [
    {
     "name": "stdout",
     "output_type": "stream",
     "text": [
      "True\n",
      "11.7\n",
      "8500\n"
     ]
    }
   ],
   "source": [
    "import torch\n",
    "print(torch.cuda.is_available())  # 应返回 True\n",
    "print(torch.version.cuda)        # 检查 CUDA 版本\n",
    "print(torch.backends.cudnn.version())  # 检查 cuDNN 版本\n"
   ]
  },
  {
   "cell_type": "markdown",
   "metadata": {},
   "source": [
    "## Train model"
   ]
  },
  {
   "cell_type": "code",
   "execution_count": 5,
   "metadata": {},
   "outputs": [
    {
     "name": "stdout",
     "output_type": "stream",
     "text": [
      "Loading checkpoint...\n",
      "Resuming training from epoch 17 with best loss 0.00478871\n",
      "Epoch 1/20 started.\n",
      "Training on sequence length 50...\n",
      "Average loss for sequence length 50: 0.00599054\n",
      "Training on sequence length 100...\n",
      "Average loss for sequence length 100: 0.00351165\n",
      "Training on sequence length 200...\n",
      "Average loss for sequence length 200: 0.00303028\n",
      "Training on sequence length 500...\n",
      "Average loss for sequence length 500: 0.00250429\n",
      "Training on sequence length 800...\n",
      "Average loss for sequence length 800: 0.00222316\n",
      "Epoch [1/20], Average Loss: 0.00345198\n",
      "New best model saved: models/best_model.pth with loss: 0.00345198\n",
      "Last model saved at epoch 1\n",
      "Epoch 2/20 started.\n",
      "Training on sequence length 50...\n",
      "Average loss for sequence length 50: 0.00640921\n",
      "Training on sequence length 100...\n",
      "Average loss for sequence length 100: 0.00331726\n",
      "Training on sequence length 200...\n",
      "Average loss for sequence length 200: 0.00285649\n",
      "Training on sequence length 500...\n",
      "Average loss for sequence length 500: 0.00231881\n",
      "Training on sequence length 800...\n",
      "Average loss for sequence length 800: 0.00206133\n",
      "Epoch [2/20], Average Loss: 0.00339262\n",
      "New best model saved: models/best_model.pth with loss: 0.00339262\n",
      "Last model saved at epoch 2\n",
      "Epoch 3/20 started.\n",
      "Training on sequence length 50...\n",
      "Average loss for sequence length 50: 0.00658875\n",
      "Training on sequence length 100...\n",
      "Average loss for sequence length 100: 0.00327295\n",
      "Training on sequence length 200...\n",
      "Average loss for sequence length 200: 0.00280332\n",
      "Training on sequence length 500...\n",
      "Average loss for sequence length 500: 0.00224362\n",
      "Training on sequence length 800...\n",
      "Average loss for sequence length 800: 0.00198714\n",
      "Epoch [3/20], Average Loss: 0.00337916\n",
      "New best model saved: models/best_model.pth with loss: 0.00337916\n",
      "Last model saved at epoch 3\n",
      "Epoch 4/20 started.\n",
      "Training on sequence length 50...\n",
      "Average loss for sequence length 50: 0.00666959\n",
      "Training on sequence length 100...\n",
      "Average loss for sequence length 100: 0.00323573\n",
      "Training on sequence length 200...\n",
      "Average loss for sequence length 200: 0.00278112\n",
      "Training on sequence length 500...\n",
      "Average loss for sequence length 500: 0.00221120\n",
      "Training on sequence length 800...\n",
      "Average loss for sequence length 800: 0.00194867\n",
      "Epoch [4/20], Average Loss: 0.00336926\n",
      "New best model saved: models/best_model.pth with loss: 0.00336926\n",
      "Last model saved at epoch 4\n",
      "Epoch 5/20 started.\n",
      "Training on sequence length 50...\n",
      "Average loss for sequence length 50: 0.00670682\n",
      "Training on sequence length 100...\n",
      "Average loss for sequence length 100: 0.00321797\n",
      "Training on sequence length 200...\n",
      "Average loss for sequence length 200: 0.00277257\n",
      "Training on sequence length 500...\n",
      "Average loss for sequence length 500: 0.00218907\n",
      "Training on sequence length 800...\n",
      "Average loss for sequence length 800: 0.00192485\n",
      "Epoch [5/20], Average Loss: 0.00336225\n",
      "New best model saved: models/best_model.pth with loss: 0.00336225\n",
      "Last model saved at epoch 5\n",
      "Epoch 6/20 started.\n",
      "Training on sequence length 50...\n",
      "Average loss for sequence length 50: 0.00672796\n",
      "Training on sequence length 100...\n",
      "Average loss for sequence length 100: 0.00321191\n",
      "Training on sequence length 200...\n",
      "Average loss for sequence length 200: 0.00277767\n",
      "Training on sequence length 500...\n",
      "Average loss for sequence length 500: 0.00216910\n",
      "Training on sequence length 800...\n",
      "Average loss for sequence length 800: 0.00191077\n",
      "Epoch [6/20], Average Loss: 0.00335948\n",
      "New best model saved: models/best_model.pth with loss: 0.00335948\n",
      "Last model saved at epoch 6\n",
      "Epoch 7/20 started.\n",
      "Training on sequence length 50...\n",
      "Average loss for sequence length 50: 0.00676521\n",
      "Training on sequence length 100...\n",
      "Average loss for sequence length 100: 0.00320877\n",
      "Training on sequence length 200...\n",
      "Average loss for sequence length 200: 0.00277177\n",
      "Training on sequence length 500...\n",
      "Average loss for sequence length 500: 0.00217868\n",
      "Training on sequence length 800...\n",
      "Average loss for sequence length 800: 0.00189594\n",
      "Epoch [7/20], Average Loss: 0.00336407\n",
      "Last model saved at epoch 7\n",
      "Epoch 8/20 started.\n",
      "Training on sequence length 50...\n",
      "Average loss for sequence length 50: 0.00684113\n",
      "Training on sequence length 100...\n",
      "Average loss for sequence length 100: 0.00319181\n",
      "Training on sequence length 200...\n",
      "Average loss for sequence length 200: 0.00274965\n",
      "Training on sequence length 500...\n",
      "Average loss for sequence length 500: 0.00214426\n",
      "Training on sequence length 800...\n",
      "Average loss for sequence length 800: 0.00188199\n",
      "Epoch [8/20], Average Loss: 0.00336177\n",
      "Last model saved at epoch 8\n",
      "Epoch 9/20 started.\n",
      "Training on sequence length 50...\n",
      "Average loss for sequence length 50: 0.00681002\n",
      "Training on sequence length 100...\n",
      "Average loss for sequence length 100: 0.00317426\n",
      "Training on sequence length 200...\n",
      "Average loss for sequence length 200: 0.00273074\n",
      "Training on sequence length 500...\n",
      "Average loss for sequence length 500: 0.00212757\n",
      "Training on sequence length 800...\n",
      "Average loss for sequence length 800: 0.00186773\n",
      "Epoch [9/20], Average Loss: 0.00334206\n",
      "New best model saved: models/best_model.pth with loss: 0.00334206\n",
      "Last model saved at epoch 9\n",
      "Epoch 10/20 started.\n",
      "Training on sequence length 50...\n",
      "Average loss for sequence length 50: 0.00681350\n",
      "Training on sequence length 100...\n",
      "Average loss for sequence length 100: 0.00316774\n",
      "Training on sequence length 200...\n",
      "Average loss for sequence length 200: 0.00272031\n",
      "Training on sequence length 500...\n",
      "Average loss for sequence length 500: 0.00211631\n",
      "Training on sequence length 800...\n",
      "Average loss for sequence length 800: 0.00185776\n",
      "Epoch [10/20], Average Loss: 0.00333512\n",
      "New best model saved: models/best_model.pth with loss: 0.00333512\n",
      "Last model saved at epoch 10\n",
      "Epoch 11/20 started.\n",
      "Training on sequence length 50...\n",
      "Average loss for sequence length 50: 0.00681036\n",
      "Training on sequence length 100...\n",
      "Average loss for sequence length 100: 0.00316178\n",
      "Training on sequence length 200...\n",
      "Average loss for sequence length 200: 0.00271068\n",
      "Training on sequence length 500...\n",
      "Average loss for sequence length 500: 0.00210584\n",
      "Training on sequence length 800...\n",
      "Average loss for sequence length 800: 0.00184844\n",
      "Epoch [11/20], Average Loss: 0.00332742\n",
      "New best model saved: models/best_model.pth with loss: 0.00332742\n",
      "Last model saved at epoch 11\n",
      "Epoch 12/20 started.\n",
      "Training on sequence length 50...\n",
      "Average loss for sequence length 50: 0.00680620\n",
      "Training on sequence length 100...\n",
      "Average loss for sequence length 100: 0.00315634\n",
      "Training on sequence length 200...\n",
      "Average loss for sequence length 200: 0.00270286\n",
      "Training on sequence length 500...\n",
      "Average loss for sequence length 500: 0.00209611\n",
      "Training on sequence length 800...\n",
      "Average loss for sequence length 800: 0.00183919\n",
      "Epoch [12/20], Average Loss: 0.00332014\n",
      "New best model saved: models/best_model.pth with loss: 0.00332014\n",
      "Last model saved at epoch 12\n",
      "Epoch 13/20 started.\n",
      "Training on sequence length 50...\n",
      "Average loss for sequence length 50: 0.00680334\n",
      "Training on sequence length 100...\n",
      "Average loss for sequence length 100: 0.00315219\n",
      "Training on sequence length 200...\n",
      "Average loss for sequence length 200: 0.00269589\n",
      "Training on sequence length 500...\n",
      "Average loss for sequence length 500: 0.00208747\n",
      "Training on sequence length 800...\n",
      "Average loss for sequence length 800: 0.00183062\n",
      "Epoch [13/20], Average Loss: 0.00331390\n",
      "New best model saved: models/best_model.pth with loss: 0.00331390\n",
      "Last model saved at epoch 13\n",
      "Epoch 14/20 started.\n",
      "Training on sequence length 50...\n",
      "Average loss for sequence length 50: 0.00680191\n",
      "Training on sequence length 100...\n",
      "Average loss for sequence length 100: 0.00314902\n",
      "Training on sequence length 200...\n",
      "Average loss for sequence length 200: 0.00269021\n",
      "Training on sequence length 500...\n",
      "Average loss for sequence length 500: 0.00207919\n",
      "Training on sequence length 800...\n",
      "Average loss for sequence length 800: 0.00182229\n",
      "Epoch [14/20], Average Loss: 0.00330852\n",
      "New best model saved: models/best_model.pth with loss: 0.00330852\n",
      "Last model saved at epoch 14\n",
      "Epoch 15/20 started.\n",
      "Training on sequence length 50...\n",
      "Average loss for sequence length 50: 0.00680105\n",
      "Training on sequence length 100...\n",
      "Average loss for sequence length 100: 0.00314666\n",
      "Training on sequence length 200...\n",
      "Average loss for sequence length 200: 0.00268453\n",
      "Training on sequence length 500...\n",
      "Average loss for sequence length 500: 0.00207138\n",
      "Training on sequence length 800...\n",
      "Average loss for sequence length 800: 0.00181436\n",
      "Epoch [15/20], Average Loss: 0.00330360\n",
      "New best model saved: models/best_model.pth with loss: 0.00330360\n",
      "Last model saved at epoch 15\n",
      "Epoch 16/20 started.\n",
      "Training on sequence length 50...\n",
      "Average loss for sequence length 50: 0.00680123\n",
      "Training on sequence length 100...\n",
      "Average loss for sequence length 100: 0.00314544\n",
      "Training on sequence length 200...\n",
      "Average loss for sequence length 200: 0.00268101\n",
      "Training on sequence length 500...\n",
      "Average loss for sequence length 500: 0.00206431\n",
      "Training on sequence length 800...\n",
      "Average loss for sequence length 800: 0.00180729\n",
      "Epoch [16/20], Average Loss: 0.00329986\n",
      "New best model saved: models/best_model.pth with loss: 0.00329986\n",
      "Last model saved at epoch 16\n",
      "Epoch 17/20 started.\n",
      "Training on sequence length 50...\n",
      "Average loss for sequence length 50: 0.00680228\n",
      "Training on sequence length 100...\n",
      "Average loss for sequence length 100: 0.00314352\n",
      "Training on sequence length 200...\n",
      "Average loss for sequence length 200: 0.00267737\n",
      "Training on sequence length 500...\n",
      "Average loss for sequence length 500: 0.00205770\n",
      "Training on sequence length 800...\n",
      "Average loss for sequence length 800: 0.00180068\n",
      "Epoch [17/20], Average Loss: 0.00329631\n",
      "New best model saved: models/best_model.pth with loss: 0.00329631\n",
      "Last model saved at epoch 17\n",
      "Epoch 18/20 started.\n",
      "Training on sequence length 50...\n",
      "Average loss for sequence length 50: 0.00680261\n",
      "Training on sequence length 100...\n",
      "Average loss for sequence length 100: 0.00314235\n",
      "Training on sequence length 200...\n",
      "Average loss for sequence length 200: 0.00267434\n",
      "Training on sequence length 500...\n",
      "Average loss for sequence length 500: 0.00205163\n",
      "Training on sequence length 800...\n",
      "Average loss for sequence length 800: 0.00179479\n",
      "Epoch [18/20], Average Loss: 0.00329314\n",
      "New best model saved: models/best_model.pth with loss: 0.00329314\n",
      "Last model saved at epoch 18\n",
      "Epoch 19/20 started.\n",
      "Training on sequence length 50...\n",
      "Average loss for sequence length 50: 0.00680276\n",
      "Training on sequence length 100...\n",
      "Average loss for sequence length 100: 0.00314134\n",
      "Training on sequence length 200...\n",
      "Average loss for sequence length 200: 0.00267156\n",
      "Training on sequence length 500...\n",
      "Average loss for sequence length 500: 0.00204610\n",
      "Training on sequence length 800...\n",
      "Average loss for sequence length 800: 0.00178937\n",
      "Epoch [19/20], Average Loss: 0.00329023\n",
      "New best model saved: models/best_model.pth with loss: 0.00329023\n",
      "Last model saved at epoch 19\n",
      "Epoch 20/20 started.\n",
      "Training on sequence length 50...\n",
      "Average loss for sequence length 50: 0.00680338\n",
      "Training on sequence length 100...\n",
      "Average loss for sequence length 100: 0.00314110\n",
      "Training on sequence length 200...\n",
      "Average loss for sequence length 200: 0.00266968\n",
      "Training on sequence length 500...\n",
      "Average loss for sequence length 500: 0.00204126\n",
      "Training on sequence length 800...\n",
      "Average loss for sequence length 800: 0.00178458\n",
      "Epoch [20/20], Average Loss: 0.00328800\n",
      "New best model saved: models/best_model.pth with loss: 0.00328800\n",
      "Last model saved at epoch 20\n",
      "Training complete! Best model was from epoch 20 with loss: 0.00328800\n"
     ]
    }
   ],
   "source": [
    "import os\n",
    "\n",
    "# 用于保存训练损失\n",
    "epoch_losses  = []\n",
    "\n",
    "num_epochs = 20  # 训练轮数\n",
    "\n",
    "# 初始化变量以跟踪最佳模型\n",
    "best_loss = float('inf')\n",
    "best_model_path = \"models/best_model.pth\"\n",
    "last_model_path = \"models/last_model.pth\"\n",
    "\n",
    "# 检查是否存在之前的模型\n",
    "if os.path.exists(best_model_path):\n",
    "    print(\"Loading checkpoint...\")\n",
    "    checkpoint = torch.load(best_model_path)\n",
    "    model.load_state_dict(checkpoint['model_state_dict'])\n",
    "    optimizer.load_state_dict(checkpoint['optimizer_state_dict'])\n",
    "    start_epoch = checkpoint['epoch'] + 1\n",
    "    best_loss = checkpoint['loss']\n",
    "    best_epoch = checkpoint['epoch'] + 1\n",
    "    print(f\"Resuming training from epoch {start_epoch} with best loss {best_loss:.8f}\")\n",
    "else:\n",
    "    print(\"No checkpoint found, starting fresh training.\")\n",
    "\n",
    "# 模型训练\n",
    "for epoch in range(num_epochs):\n",
    "    print(f\"Epoch {epoch + 1}/{num_epochs} started.\")\n",
    "    epoch_loss = 0\n",
    "\n",
    "    # 遍历每个 grouped_dataloader\n",
    "    for sequence_length, dataloader in grouped_dataloaders:\n",
    "        print(f\"Training on sequence length {sequence_length}...\")\n",
    "        group_loss = 0  # 用于记录该组的损失\n",
    "\n",
    "        for i, (noisy_batch, clean_batch) in enumerate(dataloader):\n",
    "            # 将数据移动到 GPU（如果可用）\n",
    "            noisy_batch = noisy_batch.to(device).float()\n",
    "            clean_batch = clean_batch.to(device).float()\n",
    "\n",
    "            # 前向传播\n",
    "            outputs = model(noisy_batch)\n",
    "            loss = criterion(outputs, clean_batch)\n",
    "\n",
    "            # 反向传播和优化\n",
    "            optimizer.zero_grad()\n",
    "            loss.backward()\n",
    "            optimizer.step()\n",
    "\n",
    "            # 累加 batch 的损失\n",
    "            group_loss += loss.item()\n",
    "\n",
    "        # 打印每个组的平均损失\n",
    "        avg_group_loss = group_loss / len(dataloader)\n",
    "        print(f\"Average loss for sequence length {sequence_length}: {avg_group_loss:.8f}\")\n",
    "        epoch_loss += group_loss\n",
    "\n",
    "    # 记录每个 epoch 的平均损失\n",
    "    avg_loss = epoch_loss / sum(len(dl) for _, dl in grouped_dataloaders)\n",
    "    epoch_losses.append(avg_loss)\n",
    "    print(f\"Epoch [{epoch+1}/{num_epochs}], Average Loss: {avg_loss:.8f}\")\n",
    "\n",
    "    # 检查是否为最佳模型\n",
    "    if avg_loss < best_loss: \n",
    "        best_epoch=epoch+1\n",
    "        best_loss = avg_loss\n",
    "        # torch.save(model.state_dict(), best_model_path)\n",
    "        torch.save({\n",
    "            'epoch': epoch,\n",
    "            'model_state_dict': model.state_dict(),\n",
    "            'optimizer_state_dict': optimizer.state_dict(),\n",
    "            'loss': best_loss,\n",
    "            },\n",
    "            best_model_path\n",
    "        )\n",
    "        print(f\"New best model saved: {best_model_path} with loss: {best_loss:.8f}\")\n",
    "\n",
    "    # 保存当前 epoch 的模型\n",
    "    # torch.save(model.state_dict(), last_model_path)\n",
    "    torch.save({\n",
    "        'epoch': epoch,\n",
    "        'model_state_dict': model.state_dict(),\n",
    "        'optimizer_state_dict': optimizer.state_dict(),\n",
    "        'loss': avg_loss,\n",
    "        },\n",
    "        last_model_path\n",
    "    )\n",
    "    print(f\"Last model saved at epoch {epoch+1}\")\n",
    "\n",
    "print(f\"Training complete! Best model was from epoch {best_epoch} with loss: \"\n",
    "      f\"{best_loss:.8f}\")"
   ]
  },
  {
   "cell_type": "markdown",
   "metadata": {},
   "source": [
    "## Plot results"
   ]
  },
  {
   "cell_type": "code",
   "execution_count": 6,
   "metadata": {},
   "outputs": [
    {
     "data": {
      "application/vnd.plotly.v1+json": {
       "config": {
        "plotlyServerURL": "https://plot.ly"
       },
       "data": [
        {
         "mode": "lines",
         "name": "Training Loss",
         "type": "scatter",
         "y": [
          0.003451984077692032,
          0.0033926193253137173,
          0.003379157369490713,
          0.003369263515342027,
          0.003362254286184907,
          0.0033594828261993824,
          0.0033640743046998976,
          0.0033617678890004755,
          0.0033420631545595823,
          0.0033351235021837054,
          0.0033274204307235777,
          0.0033201392600312827,
          0.0033139013242907823,
          0.0033085238793864845,
          0.003303595574107021,
          0.0032998577831313014,
          0.003296311052981764,
          0.00329314332222566,
          0.003290226808749139,
          0.0032879992458038033
         ]
        }
       ],
       "layout": {
        "template": {
         "data": {
          "bar": [
           {
            "error_x": {
             "color": "#2a3f5f"
            },
            "error_y": {
             "color": "#2a3f5f"
            },
            "marker": {
             "line": {
              "color": "#E5ECF6",
              "width": 0.5
             },
             "pattern": {
              "fillmode": "overlay",
              "size": 10,
              "solidity": 0.2
             }
            },
            "type": "bar"
           }
          ],
          "barpolar": [
           {
            "marker": {
             "line": {
              "color": "#E5ECF6",
              "width": 0.5
             },
             "pattern": {
              "fillmode": "overlay",
              "size": 10,
              "solidity": 0.2
             }
            },
            "type": "barpolar"
           }
          ],
          "carpet": [
           {
            "aaxis": {
             "endlinecolor": "#2a3f5f",
             "gridcolor": "white",
             "linecolor": "white",
             "minorgridcolor": "white",
             "startlinecolor": "#2a3f5f"
            },
            "baxis": {
             "endlinecolor": "#2a3f5f",
             "gridcolor": "white",
             "linecolor": "white",
             "minorgridcolor": "white",
             "startlinecolor": "#2a3f5f"
            },
            "type": "carpet"
           }
          ],
          "choropleth": [
           {
            "colorbar": {
             "outlinewidth": 0,
             "ticks": ""
            },
            "type": "choropleth"
           }
          ],
          "contour": [
           {
            "colorbar": {
             "outlinewidth": 0,
             "ticks": ""
            },
            "colorscale": [
             [
              0,
              "#0d0887"
             ],
             [
              0.1111111111111111,
              "#46039f"
             ],
             [
              0.2222222222222222,
              "#7201a8"
             ],
             [
              0.3333333333333333,
              "#9c179e"
             ],
             [
              0.4444444444444444,
              "#bd3786"
             ],
             [
              0.5555555555555556,
              "#d8576b"
             ],
             [
              0.6666666666666666,
              "#ed7953"
             ],
             [
              0.7777777777777778,
              "#fb9f3a"
             ],
             [
              0.8888888888888888,
              "#fdca26"
             ],
             [
              1,
              "#f0f921"
             ]
            ],
            "type": "contour"
           }
          ],
          "contourcarpet": [
           {
            "colorbar": {
             "outlinewidth": 0,
             "ticks": ""
            },
            "type": "contourcarpet"
           }
          ],
          "heatmap": [
           {
            "colorbar": {
             "outlinewidth": 0,
             "ticks": ""
            },
            "colorscale": [
             [
              0,
              "#0d0887"
             ],
             [
              0.1111111111111111,
              "#46039f"
             ],
             [
              0.2222222222222222,
              "#7201a8"
             ],
             [
              0.3333333333333333,
              "#9c179e"
             ],
             [
              0.4444444444444444,
              "#bd3786"
             ],
             [
              0.5555555555555556,
              "#d8576b"
             ],
             [
              0.6666666666666666,
              "#ed7953"
             ],
             [
              0.7777777777777778,
              "#fb9f3a"
             ],
             [
              0.8888888888888888,
              "#fdca26"
             ],
             [
              1,
              "#f0f921"
             ]
            ],
            "type": "heatmap"
           }
          ],
          "heatmapgl": [
           {
            "colorbar": {
             "outlinewidth": 0,
             "ticks": ""
            },
            "colorscale": [
             [
              0,
              "#0d0887"
             ],
             [
              0.1111111111111111,
              "#46039f"
             ],
             [
              0.2222222222222222,
              "#7201a8"
             ],
             [
              0.3333333333333333,
              "#9c179e"
             ],
             [
              0.4444444444444444,
              "#bd3786"
             ],
             [
              0.5555555555555556,
              "#d8576b"
             ],
             [
              0.6666666666666666,
              "#ed7953"
             ],
             [
              0.7777777777777778,
              "#fb9f3a"
             ],
             [
              0.8888888888888888,
              "#fdca26"
             ],
             [
              1,
              "#f0f921"
             ]
            ],
            "type": "heatmapgl"
           }
          ],
          "histogram": [
           {
            "marker": {
             "pattern": {
              "fillmode": "overlay",
              "size": 10,
              "solidity": 0.2
             }
            },
            "type": "histogram"
           }
          ],
          "histogram2d": [
           {
            "colorbar": {
             "outlinewidth": 0,
             "ticks": ""
            },
            "colorscale": [
             [
              0,
              "#0d0887"
             ],
             [
              0.1111111111111111,
              "#46039f"
             ],
             [
              0.2222222222222222,
              "#7201a8"
             ],
             [
              0.3333333333333333,
              "#9c179e"
             ],
             [
              0.4444444444444444,
              "#bd3786"
             ],
             [
              0.5555555555555556,
              "#d8576b"
             ],
             [
              0.6666666666666666,
              "#ed7953"
             ],
             [
              0.7777777777777778,
              "#fb9f3a"
             ],
             [
              0.8888888888888888,
              "#fdca26"
             ],
             [
              1,
              "#f0f921"
             ]
            ],
            "type": "histogram2d"
           }
          ],
          "histogram2dcontour": [
           {
            "colorbar": {
             "outlinewidth": 0,
             "ticks": ""
            },
            "colorscale": [
             [
              0,
              "#0d0887"
             ],
             [
              0.1111111111111111,
              "#46039f"
             ],
             [
              0.2222222222222222,
              "#7201a8"
             ],
             [
              0.3333333333333333,
              "#9c179e"
             ],
             [
              0.4444444444444444,
              "#bd3786"
             ],
             [
              0.5555555555555556,
              "#d8576b"
             ],
             [
              0.6666666666666666,
              "#ed7953"
             ],
             [
              0.7777777777777778,
              "#fb9f3a"
             ],
             [
              0.8888888888888888,
              "#fdca26"
             ],
             [
              1,
              "#f0f921"
             ]
            ],
            "type": "histogram2dcontour"
           }
          ],
          "mesh3d": [
           {
            "colorbar": {
             "outlinewidth": 0,
             "ticks": ""
            },
            "type": "mesh3d"
           }
          ],
          "parcoords": [
           {
            "line": {
             "colorbar": {
              "outlinewidth": 0,
              "ticks": ""
             }
            },
            "type": "parcoords"
           }
          ],
          "pie": [
           {
            "automargin": true,
            "type": "pie"
           }
          ],
          "scatter": [
           {
            "fillpattern": {
             "fillmode": "overlay",
             "size": 10,
             "solidity": 0.2
            },
            "type": "scatter"
           }
          ],
          "scatter3d": [
           {
            "line": {
             "colorbar": {
              "outlinewidth": 0,
              "ticks": ""
             }
            },
            "marker": {
             "colorbar": {
              "outlinewidth": 0,
              "ticks": ""
             }
            },
            "type": "scatter3d"
           }
          ],
          "scattercarpet": [
           {
            "marker": {
             "colorbar": {
              "outlinewidth": 0,
              "ticks": ""
             }
            },
            "type": "scattercarpet"
           }
          ],
          "scattergeo": [
           {
            "marker": {
             "colorbar": {
              "outlinewidth": 0,
              "ticks": ""
             }
            },
            "type": "scattergeo"
           }
          ],
          "scattergl": [
           {
            "marker": {
             "colorbar": {
              "outlinewidth": 0,
              "ticks": ""
             }
            },
            "type": "scattergl"
           }
          ],
          "scattermapbox": [
           {
            "marker": {
             "colorbar": {
              "outlinewidth": 0,
              "ticks": ""
             }
            },
            "type": "scattermapbox"
           }
          ],
          "scatterpolar": [
           {
            "marker": {
             "colorbar": {
              "outlinewidth": 0,
              "ticks": ""
             }
            },
            "type": "scatterpolar"
           }
          ],
          "scatterpolargl": [
           {
            "marker": {
             "colorbar": {
              "outlinewidth": 0,
              "ticks": ""
             }
            },
            "type": "scatterpolargl"
           }
          ],
          "scatterternary": [
           {
            "marker": {
             "colorbar": {
              "outlinewidth": 0,
              "ticks": ""
             }
            },
            "type": "scatterternary"
           }
          ],
          "surface": [
           {
            "colorbar": {
             "outlinewidth": 0,
             "ticks": ""
            },
            "colorscale": [
             [
              0,
              "#0d0887"
             ],
             [
              0.1111111111111111,
              "#46039f"
             ],
             [
              0.2222222222222222,
              "#7201a8"
             ],
             [
              0.3333333333333333,
              "#9c179e"
             ],
             [
              0.4444444444444444,
              "#bd3786"
             ],
             [
              0.5555555555555556,
              "#d8576b"
             ],
             [
              0.6666666666666666,
              "#ed7953"
             ],
             [
              0.7777777777777778,
              "#fb9f3a"
             ],
             [
              0.8888888888888888,
              "#fdca26"
             ],
             [
              1,
              "#f0f921"
             ]
            ],
            "type": "surface"
           }
          ],
          "table": [
           {
            "cells": {
             "fill": {
              "color": "#EBF0F8"
             },
             "line": {
              "color": "white"
             }
            },
            "header": {
             "fill": {
              "color": "#C8D4E3"
             },
             "line": {
              "color": "white"
             }
            },
            "type": "table"
           }
          ]
         },
         "layout": {
          "annotationdefaults": {
           "arrowcolor": "#2a3f5f",
           "arrowhead": 0,
           "arrowwidth": 1
          },
          "autotypenumbers": "strict",
          "coloraxis": {
           "colorbar": {
            "outlinewidth": 0,
            "ticks": ""
           }
          },
          "colorscale": {
           "diverging": [
            [
             0,
             "#8e0152"
            ],
            [
             0.1,
             "#c51b7d"
            ],
            [
             0.2,
             "#de77ae"
            ],
            [
             0.3,
             "#f1b6da"
            ],
            [
             0.4,
             "#fde0ef"
            ],
            [
             0.5,
             "#f7f7f7"
            ],
            [
             0.6,
             "#e6f5d0"
            ],
            [
             0.7,
             "#b8e186"
            ],
            [
             0.8,
             "#7fbc41"
            ],
            [
             0.9,
             "#4d9221"
            ],
            [
             1,
             "#276419"
            ]
           ],
           "sequential": [
            [
             0,
             "#0d0887"
            ],
            [
             0.1111111111111111,
             "#46039f"
            ],
            [
             0.2222222222222222,
             "#7201a8"
            ],
            [
             0.3333333333333333,
             "#9c179e"
            ],
            [
             0.4444444444444444,
             "#bd3786"
            ],
            [
             0.5555555555555556,
             "#d8576b"
            ],
            [
             0.6666666666666666,
             "#ed7953"
            ],
            [
             0.7777777777777778,
             "#fb9f3a"
            ],
            [
             0.8888888888888888,
             "#fdca26"
            ],
            [
             1,
             "#f0f921"
            ]
           ],
           "sequentialminus": [
            [
             0,
             "#0d0887"
            ],
            [
             0.1111111111111111,
             "#46039f"
            ],
            [
             0.2222222222222222,
             "#7201a8"
            ],
            [
             0.3333333333333333,
             "#9c179e"
            ],
            [
             0.4444444444444444,
             "#bd3786"
            ],
            [
             0.5555555555555556,
             "#d8576b"
            ],
            [
             0.6666666666666666,
             "#ed7953"
            ],
            [
             0.7777777777777778,
             "#fb9f3a"
            ],
            [
             0.8888888888888888,
             "#fdca26"
            ],
            [
             1,
             "#f0f921"
            ]
           ]
          },
          "colorway": [
           "#636efa",
           "#EF553B",
           "#00cc96",
           "#ab63fa",
           "#FFA15A",
           "#19d3f3",
           "#FF6692",
           "#B6E880",
           "#FF97FF",
           "#FECB52"
          ],
          "font": {
           "color": "#2a3f5f"
          },
          "geo": {
           "bgcolor": "white",
           "lakecolor": "white",
           "landcolor": "#E5ECF6",
           "showlakes": true,
           "showland": true,
           "subunitcolor": "white"
          },
          "hoverlabel": {
           "align": "left"
          },
          "hovermode": "closest",
          "mapbox": {
           "style": "light"
          },
          "paper_bgcolor": "white",
          "plot_bgcolor": "#E5ECF6",
          "polar": {
           "angularaxis": {
            "gridcolor": "white",
            "linecolor": "white",
            "ticks": ""
           },
           "bgcolor": "#E5ECF6",
           "radialaxis": {
            "gridcolor": "white",
            "linecolor": "white",
            "ticks": ""
           }
          },
          "scene": {
           "xaxis": {
            "backgroundcolor": "#E5ECF6",
            "gridcolor": "white",
            "gridwidth": 2,
            "linecolor": "white",
            "showbackground": true,
            "ticks": "",
            "zerolinecolor": "white"
           },
           "yaxis": {
            "backgroundcolor": "#E5ECF6",
            "gridcolor": "white",
            "gridwidth": 2,
            "linecolor": "white",
            "showbackground": true,
            "ticks": "",
            "zerolinecolor": "white"
           },
           "zaxis": {
            "backgroundcolor": "#E5ECF6",
            "gridcolor": "white",
            "gridwidth": 2,
            "linecolor": "white",
            "showbackground": true,
            "ticks": "",
            "zerolinecolor": "white"
           }
          },
          "shapedefaults": {
           "line": {
            "color": "#2a3f5f"
           }
          },
          "ternary": {
           "aaxis": {
            "gridcolor": "white",
            "linecolor": "white",
            "ticks": ""
           },
           "baxis": {
            "gridcolor": "white",
            "linecolor": "white",
            "ticks": ""
           },
           "bgcolor": "#E5ECF6",
           "caxis": {
            "gridcolor": "white",
            "linecolor": "white",
            "ticks": ""
           }
          },
          "title": {
           "x": 0.05
          },
          "xaxis": {
           "automargin": true,
           "gridcolor": "white",
           "linecolor": "white",
           "ticks": "",
           "title": {
            "standoff": 15
           },
           "zerolinecolor": "white",
           "zerolinewidth": 2
          },
          "yaxis": {
           "automargin": true,
           "gridcolor": "white",
           "linecolor": "white",
           "ticks": "",
           "title": {
            "standoff": 15
           },
           "zerolinecolor": "white",
           "zerolinewidth": 2
          }
         }
        },
        "title": {
         "text": "Training Loss Curve"
        },
        "xaxis": {
         "title": {
          "text": "Epoch"
         }
        },
        "yaxis": {
         "title": {
          "text": "Loss"
         }
        }
       }
      }
     },
     "metadata": {},
     "output_type": "display_data"
    }
   ],
   "source": [
    "import plotly.graph_objects as go\n",
    "\n",
    "# 绘制训练损失曲线\n",
    "fig2 = go.Figure()\n",
    "fig2.add_trace(go.Scatter(y=epoch_losses, mode='lines', name='Training Loss'))\n",
    "fig2.update_layout(title='Training Loss Curve', xaxis_title='Epoch', yaxis_title='Loss')\n",
    "fig2.show()"
   ]
  },
  {
   "cell_type": "markdown",
   "metadata": {},
   "source": [
    "## Inference data"
   ]
  },
  {
   "cell_type": "code",
   "execution_count": 9,
   "metadata": {},
   "outputs": [
    {
     "data": {
      "application/vnd.plotly.v1+json": {
       "config": {
        "plotlyServerURL": "https://plot.ly"
       },
       "data": [
        {
         "mode": "lines",
         "name": "Noisy Signal",
         "type": "scatter",
         "y": [
          0.8123037815093994,
          0.7042705416679382,
          0.9611066579818726,
          0.781112790107727,
          0.8898159265518188,
          1.0300912857055664,
          0.5702373385429382,
          0.64007568359375,
          0.5961628556251526,
          0.9105507135391235,
          0.5313597321510315,
          0.6068150401115417,
          0.7061163783073425,
          1.03214693069458,
          0.7891978025436401,
          0.6907581090927124,
          0.6185571551322937,
          0.3687238097190857,
          0.6873502731323242,
          0.9158357381820679,
          0.6181755661964417,
          0.8111252784729004,
          0.7667104005813599,
          0.8445834517478943,
          0.6255981922149658,
          0.6699033379554749,
          0.5340127348899841,
          0.9509595632553101,
          0.4493882656097412,
          0.49676716327667236,
          0.6507598757743835,
          0.24208834767341614,
          1.1379313468933105,
          0.5237806439399719,
          0.6846957206726074,
          0.5716767907142639,
          0.6267969012260437,
          0.6816734075546265,
          0.6602728366851807,
          0.14929968118667603,
          0.5290725827217102,
          0.481953501701355,
          0.20299682021141052,
          0.2616911828517914,
          -0.025345027446746826,
          0.35474923253059387,
          0.461690753698349,
          0.7117000818252563,
          0.29035043716430664,
          0.4348059892654419
         ]
        },
        {
         "mode": "lines",
         "name": "Clean Signal",
         "type": "scatter",
         "y": [
          0.8549534678459167,
          0.8490910530090332,
          0.8431220650672913,
          0.8370473980903625,
          0.8308677077293396,
          0.8245838284492493,
          0.8181965351104736,
          0.8117066025733948,
          0.8051143288612366,
          0.7984216809272766,
          0.7916288375854492,
          0.784736692905426,
          0.7777462005615234,
          0.7706581354141235,
          0.763473391532898,
          0.7561929225921631,
          0.7488175630569458,
          0.741348385810852,
          0.7337855100631714,
          0.72613126039505,
          0.7183859348297119,
          0.7105505466461182,
          0.7026259899139404,
          0.6946133971214294,
          0.6865136027336121,
          0.678327739238739,
          0.6700568199157715,
          0.6617018580436707,
          0.6532638669013977,
          0.6447432637214661,
          0.6361424922943115,
          0.6274619698524475,
          0.61870276927948,
          0.6098659038543701,
          0.6009526252746582,
          0.5919639468193054,
          0.5829010009765625,
          0.573764979839325,
          0.5645569562911987,
          0.555277407169342,
          0.545928955078125,
          0.536512017250061,
          0.5270278453826904,
          0.5174775123596191,
          0.5078623294830322,
          0.4981834590435028,
          0.4884420931339264,
          0.4786394536495209,
          0.46877679228782654,
          0.4588553309440613
         ]
        },
        {
         "mode": "lines",
         "name": "Denoised Signal",
         "type": "scatter",
         "y": [
          0.7673306465148926,
          0.7419540882110596,
          0.8138866424560547,
          0.8021388649940491,
          0.8275169134140015,
          0.850521445274353,
          0.8293858170509338,
          0.8216457962989807,
          0.8041536808013916,
          0.8106605410575867,
          0.7876238822937012,
          0.7741305828094482,
          0.7642619013786316,
          0.7757856249809265,
          0.7740548849105835,
          0.7709393501281738,
          0.7616224884986877,
          0.7330403923988342,
          0.7273665070533752,
          0.7323110699653625,
          0.7227225303649902,
          0.7279114723205566,
          0.7285114526748657,
          0.7355512380599976,
          0.7302167415618896,
          0.728256106376648,
          0.7157729268074036,
          0.7285274267196655,
          0.7099003791809082,
          0.6975361704826355,
          0.691892683506012,
          0.6556468605995178,
          0.6857460737228394,
          0.6697180867195129,
          0.6734275817871094,
          0.6653224229812622,
          0.6628659963607788,
          0.6627994775772095,
          0.6619318723678589,
          0.6239243745803833,
          0.6189622282981873,
          0.6032228469848633,
          0.5672941207885742,
          0.5395169258117676,
          0.4813571870326996,
          0.4713025987148285,
          0.46160003542900085,
          0.47455331683158875,
          0.45466193556785583,
          0.45295098423957825
         ]
        }
       ],
       "layout": {
        "legend": {
         "title": {
          "text": "Signal Type"
         }
        },
        "template": {
         "data": {
          "bar": [
           {
            "error_x": {
             "color": "#2a3f5f"
            },
            "error_y": {
             "color": "#2a3f5f"
            },
            "marker": {
             "line": {
              "color": "#E5ECF6",
              "width": 0.5
             },
             "pattern": {
              "fillmode": "overlay",
              "size": 10,
              "solidity": 0.2
             }
            },
            "type": "bar"
           }
          ],
          "barpolar": [
           {
            "marker": {
             "line": {
              "color": "#E5ECF6",
              "width": 0.5
             },
             "pattern": {
              "fillmode": "overlay",
              "size": 10,
              "solidity": 0.2
             }
            },
            "type": "barpolar"
           }
          ],
          "carpet": [
           {
            "aaxis": {
             "endlinecolor": "#2a3f5f",
             "gridcolor": "white",
             "linecolor": "white",
             "minorgridcolor": "white",
             "startlinecolor": "#2a3f5f"
            },
            "baxis": {
             "endlinecolor": "#2a3f5f",
             "gridcolor": "white",
             "linecolor": "white",
             "minorgridcolor": "white",
             "startlinecolor": "#2a3f5f"
            },
            "type": "carpet"
           }
          ],
          "choropleth": [
           {
            "colorbar": {
             "outlinewidth": 0,
             "ticks": ""
            },
            "type": "choropleth"
           }
          ],
          "contour": [
           {
            "colorbar": {
             "outlinewidth": 0,
             "ticks": ""
            },
            "colorscale": [
             [
              0,
              "#0d0887"
             ],
             [
              0.1111111111111111,
              "#46039f"
             ],
             [
              0.2222222222222222,
              "#7201a8"
             ],
             [
              0.3333333333333333,
              "#9c179e"
             ],
             [
              0.4444444444444444,
              "#bd3786"
             ],
             [
              0.5555555555555556,
              "#d8576b"
             ],
             [
              0.6666666666666666,
              "#ed7953"
             ],
             [
              0.7777777777777778,
              "#fb9f3a"
             ],
             [
              0.8888888888888888,
              "#fdca26"
             ],
             [
              1,
              "#f0f921"
             ]
            ],
            "type": "contour"
           }
          ],
          "contourcarpet": [
           {
            "colorbar": {
             "outlinewidth": 0,
             "ticks": ""
            },
            "type": "contourcarpet"
           }
          ],
          "heatmap": [
           {
            "colorbar": {
             "outlinewidth": 0,
             "ticks": ""
            },
            "colorscale": [
             [
              0,
              "#0d0887"
             ],
             [
              0.1111111111111111,
              "#46039f"
             ],
             [
              0.2222222222222222,
              "#7201a8"
             ],
             [
              0.3333333333333333,
              "#9c179e"
             ],
             [
              0.4444444444444444,
              "#bd3786"
             ],
             [
              0.5555555555555556,
              "#d8576b"
             ],
             [
              0.6666666666666666,
              "#ed7953"
             ],
             [
              0.7777777777777778,
              "#fb9f3a"
             ],
             [
              0.8888888888888888,
              "#fdca26"
             ],
             [
              1,
              "#f0f921"
             ]
            ],
            "type": "heatmap"
           }
          ],
          "heatmapgl": [
           {
            "colorbar": {
             "outlinewidth": 0,
             "ticks": ""
            },
            "colorscale": [
             [
              0,
              "#0d0887"
             ],
             [
              0.1111111111111111,
              "#46039f"
             ],
             [
              0.2222222222222222,
              "#7201a8"
             ],
             [
              0.3333333333333333,
              "#9c179e"
             ],
             [
              0.4444444444444444,
              "#bd3786"
             ],
             [
              0.5555555555555556,
              "#d8576b"
             ],
             [
              0.6666666666666666,
              "#ed7953"
             ],
             [
              0.7777777777777778,
              "#fb9f3a"
             ],
             [
              0.8888888888888888,
              "#fdca26"
             ],
             [
              1,
              "#f0f921"
             ]
            ],
            "type": "heatmapgl"
           }
          ],
          "histogram": [
           {
            "marker": {
             "pattern": {
              "fillmode": "overlay",
              "size": 10,
              "solidity": 0.2
             }
            },
            "type": "histogram"
           }
          ],
          "histogram2d": [
           {
            "colorbar": {
             "outlinewidth": 0,
             "ticks": ""
            },
            "colorscale": [
             [
              0,
              "#0d0887"
             ],
             [
              0.1111111111111111,
              "#46039f"
             ],
             [
              0.2222222222222222,
              "#7201a8"
             ],
             [
              0.3333333333333333,
              "#9c179e"
             ],
             [
              0.4444444444444444,
              "#bd3786"
             ],
             [
              0.5555555555555556,
              "#d8576b"
             ],
             [
              0.6666666666666666,
              "#ed7953"
             ],
             [
              0.7777777777777778,
              "#fb9f3a"
             ],
             [
              0.8888888888888888,
              "#fdca26"
             ],
             [
              1,
              "#f0f921"
             ]
            ],
            "type": "histogram2d"
           }
          ],
          "histogram2dcontour": [
           {
            "colorbar": {
             "outlinewidth": 0,
             "ticks": ""
            },
            "colorscale": [
             [
              0,
              "#0d0887"
             ],
             [
              0.1111111111111111,
              "#46039f"
             ],
             [
              0.2222222222222222,
              "#7201a8"
             ],
             [
              0.3333333333333333,
              "#9c179e"
             ],
             [
              0.4444444444444444,
              "#bd3786"
             ],
             [
              0.5555555555555556,
              "#d8576b"
             ],
             [
              0.6666666666666666,
              "#ed7953"
             ],
             [
              0.7777777777777778,
              "#fb9f3a"
             ],
             [
              0.8888888888888888,
              "#fdca26"
             ],
             [
              1,
              "#f0f921"
             ]
            ],
            "type": "histogram2dcontour"
           }
          ],
          "mesh3d": [
           {
            "colorbar": {
             "outlinewidth": 0,
             "ticks": ""
            },
            "type": "mesh3d"
           }
          ],
          "parcoords": [
           {
            "line": {
             "colorbar": {
              "outlinewidth": 0,
              "ticks": ""
             }
            },
            "type": "parcoords"
           }
          ],
          "pie": [
           {
            "automargin": true,
            "type": "pie"
           }
          ],
          "scatter": [
           {
            "fillpattern": {
             "fillmode": "overlay",
             "size": 10,
             "solidity": 0.2
            },
            "type": "scatter"
           }
          ],
          "scatter3d": [
           {
            "line": {
             "colorbar": {
              "outlinewidth": 0,
              "ticks": ""
             }
            },
            "marker": {
             "colorbar": {
              "outlinewidth": 0,
              "ticks": ""
             }
            },
            "type": "scatter3d"
           }
          ],
          "scattercarpet": [
           {
            "marker": {
             "colorbar": {
              "outlinewidth": 0,
              "ticks": ""
             }
            },
            "type": "scattercarpet"
           }
          ],
          "scattergeo": [
           {
            "marker": {
             "colorbar": {
              "outlinewidth": 0,
              "ticks": ""
             }
            },
            "type": "scattergeo"
           }
          ],
          "scattergl": [
           {
            "marker": {
             "colorbar": {
              "outlinewidth": 0,
              "ticks": ""
             }
            },
            "type": "scattergl"
           }
          ],
          "scattermapbox": [
           {
            "marker": {
             "colorbar": {
              "outlinewidth": 0,
              "ticks": ""
             }
            },
            "type": "scattermapbox"
           }
          ],
          "scatterpolar": [
           {
            "marker": {
             "colorbar": {
              "outlinewidth": 0,
              "ticks": ""
             }
            },
            "type": "scatterpolar"
           }
          ],
          "scatterpolargl": [
           {
            "marker": {
             "colorbar": {
              "outlinewidth": 0,
              "ticks": ""
             }
            },
            "type": "scatterpolargl"
           }
          ],
          "scatterternary": [
           {
            "marker": {
             "colorbar": {
              "outlinewidth": 0,
              "ticks": ""
             }
            },
            "type": "scatterternary"
           }
          ],
          "surface": [
           {
            "colorbar": {
             "outlinewidth": 0,
             "ticks": ""
            },
            "colorscale": [
             [
              0,
              "#0d0887"
             ],
             [
              0.1111111111111111,
              "#46039f"
             ],
             [
              0.2222222222222222,
              "#7201a8"
             ],
             [
              0.3333333333333333,
              "#9c179e"
             ],
             [
              0.4444444444444444,
              "#bd3786"
             ],
             [
              0.5555555555555556,
              "#d8576b"
             ],
             [
              0.6666666666666666,
              "#ed7953"
             ],
             [
              0.7777777777777778,
              "#fb9f3a"
             ],
             [
              0.8888888888888888,
              "#fdca26"
             ],
             [
              1,
              "#f0f921"
             ]
            ],
            "type": "surface"
           }
          ],
          "table": [
           {
            "cells": {
             "fill": {
              "color": "#EBF0F8"
             },
             "line": {
              "color": "white"
             }
            },
            "header": {
             "fill": {
              "color": "#C8D4E3"
             },
             "line": {
              "color": "white"
             }
            },
            "type": "table"
           }
          ]
         },
         "layout": {
          "annotationdefaults": {
           "arrowcolor": "#2a3f5f",
           "arrowhead": 0,
           "arrowwidth": 1
          },
          "autotypenumbers": "strict",
          "coloraxis": {
           "colorbar": {
            "outlinewidth": 0,
            "ticks": ""
           }
          },
          "colorscale": {
           "diverging": [
            [
             0,
             "#8e0152"
            ],
            [
             0.1,
             "#c51b7d"
            ],
            [
             0.2,
             "#de77ae"
            ],
            [
             0.3,
             "#f1b6da"
            ],
            [
             0.4,
             "#fde0ef"
            ],
            [
             0.5,
             "#f7f7f7"
            ],
            [
             0.6,
             "#e6f5d0"
            ],
            [
             0.7,
             "#b8e186"
            ],
            [
             0.8,
             "#7fbc41"
            ],
            [
             0.9,
             "#4d9221"
            ],
            [
             1,
             "#276419"
            ]
           ],
           "sequential": [
            [
             0,
             "#0d0887"
            ],
            [
             0.1111111111111111,
             "#46039f"
            ],
            [
             0.2222222222222222,
             "#7201a8"
            ],
            [
             0.3333333333333333,
             "#9c179e"
            ],
            [
             0.4444444444444444,
             "#bd3786"
            ],
            [
             0.5555555555555556,
             "#d8576b"
            ],
            [
             0.6666666666666666,
             "#ed7953"
            ],
            [
             0.7777777777777778,
             "#fb9f3a"
            ],
            [
             0.8888888888888888,
             "#fdca26"
            ],
            [
             1,
             "#f0f921"
            ]
           ],
           "sequentialminus": [
            [
             0,
             "#0d0887"
            ],
            [
             0.1111111111111111,
             "#46039f"
            ],
            [
             0.2222222222222222,
             "#7201a8"
            ],
            [
             0.3333333333333333,
             "#9c179e"
            ],
            [
             0.4444444444444444,
             "#bd3786"
            ],
            [
             0.5555555555555556,
             "#d8576b"
            ],
            [
             0.6666666666666666,
             "#ed7953"
            ],
            [
             0.7777777777777778,
             "#fb9f3a"
            ],
            [
             0.8888888888888888,
             "#fdca26"
            ],
            [
             1,
             "#f0f921"
            ]
           ]
          },
          "colorway": [
           "#636efa",
           "#EF553B",
           "#00cc96",
           "#ab63fa",
           "#FFA15A",
           "#19d3f3",
           "#FF6692",
           "#B6E880",
           "#FF97FF",
           "#FECB52"
          ],
          "font": {
           "color": "#2a3f5f"
          },
          "geo": {
           "bgcolor": "white",
           "lakecolor": "white",
           "landcolor": "#E5ECF6",
           "showlakes": true,
           "showland": true,
           "subunitcolor": "white"
          },
          "hoverlabel": {
           "align": "left"
          },
          "hovermode": "closest",
          "mapbox": {
           "style": "light"
          },
          "paper_bgcolor": "white",
          "plot_bgcolor": "#E5ECF6",
          "polar": {
           "angularaxis": {
            "gridcolor": "white",
            "linecolor": "white",
            "ticks": ""
           },
           "bgcolor": "#E5ECF6",
           "radialaxis": {
            "gridcolor": "white",
            "linecolor": "white",
            "ticks": ""
           }
          },
          "scene": {
           "xaxis": {
            "backgroundcolor": "#E5ECF6",
            "gridcolor": "white",
            "gridwidth": 2,
            "linecolor": "white",
            "showbackground": true,
            "ticks": "",
            "zerolinecolor": "white"
           },
           "yaxis": {
            "backgroundcolor": "#E5ECF6",
            "gridcolor": "white",
            "gridwidth": 2,
            "linecolor": "white",
            "showbackground": true,
            "ticks": "",
            "zerolinecolor": "white"
           },
           "zaxis": {
            "backgroundcolor": "#E5ECF6",
            "gridcolor": "white",
            "gridwidth": 2,
            "linecolor": "white",
            "showbackground": true,
            "ticks": "",
            "zerolinecolor": "white"
           }
          },
          "shapedefaults": {
           "line": {
            "color": "#2a3f5f"
           }
          },
          "ternary": {
           "aaxis": {
            "gridcolor": "white",
            "linecolor": "white",
            "ticks": ""
           },
           "baxis": {
            "gridcolor": "white",
            "linecolor": "white",
            "ticks": ""
           },
           "bgcolor": "#E5ECF6",
           "caxis": {
            "gridcolor": "white",
            "linecolor": "white",
            "ticks": ""
           }
          },
          "title": {
           "x": 0.05
          },
          "xaxis": {
           "automargin": true,
           "gridcolor": "white",
           "linecolor": "white",
           "ticks": "",
           "title": {
            "standoff": 15
           },
           "zerolinecolor": "white",
           "zerolinewidth": 2
          },
          "yaxis": {
           "automargin": true,
           "gridcolor": "white",
           "linecolor": "white",
           "ticks": "",
           "title": {
            "standoff": 15
           },
           "zerolinecolor": "white",
           "zerolinewidth": 2
          }
         }
        },
        "title": {
         "text": "Denoised vs Clean Signal"
        },
        "xaxis": {
         "title": {
          "text": "Time Step"
         }
        },
        "yaxis": {
         "title": {
          "text": "Signal Value"
         }
        }
       }
      }
     },
     "metadata": {},
     "output_type": "display_data"
    }
   ],
   "source": [
    "# 加载模型\n",
    "device = torch.device(\"cuda\" if torch.cuda.is_available() else \"cpu\")\n",
    "\n",
    "# 假设你有一个定义好的模型类\n",
    "model = LSTMDenoiser(input_size=1, hidden_size=64, num_layers=2)\n",
    "model.to(device)\n",
    "\n",
    "# 加载已训练的模型权重\n",
    "checkpoint = torch.load(\"models/best_model.pth\", map_location=device)\n",
    "model.load_state_dict(checkpoint['model_state_dict'])\n",
    "model.eval()  # 设置模型为评估模式\n",
    "\n",
    "# 预测降噪结果\n",
    "with torch.no_grad():\n",
    "    denoised_signal = model(final_noisy_batches[0][15].to(device))  # 添加 batch 维度 (1, sequence_length, input_size)\n",
    "    denoised_signal = denoised_signal.squeeze(0)  # 移除 batch 维度，形状为 (sequence_length, input_size)\n",
    "\n",
    "# 绘制降噪结果与干净信号的对比\n",
    "fig3 = go.Figure()\n",
    "\n",
    "# 绘制第一个 batch 的噪声信号、干净信号和去噪信号\n",
    "fig3.add_trace(go.Scatter(y=final_noisy_batches[0][15].squeeze().cpu().numpy(), mode='lines', name='Noisy Signal'))  # 噪声信号\n",
    "fig3.add_trace(go.Scatter(y=final_clean_batches[0][15].squeeze().cpu().numpy(), mode='lines', name='Clean Signal'))  # 干净信号\n",
    "fig3.add_trace(go.Scatter(y=denoised_signal.squeeze().cpu().numpy(), mode='lines', name='Denoised Signal'))  # 去噪信号\n",
    "\n",
    "fig3.update_layout(\n",
    "    title='Denoised vs Clean Signal',\n",
    "    xaxis_title='Time Step',\n",
    "    yaxis_title='Signal Value',\n",
    "    legend_title='Signal Type'\n",
    ")\n",
    "\n",
    "fig3.show()"
   ]
  },
  {
   "cell_type": "code",
   "execution_count": 11,
   "metadata": {},
   "outputs": [
    {
     "name": "stdout",
     "output_type": "stream",
     "text": [
      "clean_signal shape: (1000,)\n",
      "noisy_signal shape: (1000,)\n",
      "noisy_signal_tensor shape: torch.Size([1, 1000, 1])\n",
      "Training on: cuda\n",
      "denoised_signal shape: torch.Size([1, 1000, 1])\n"
     ]
    },
    {
     "ename": "TypeError",
     "evalue": "can't convert cuda:0 device type tensor to numpy. Use Tensor.cpu() to copy the tensor to host memory first.",
     "output_type": "error",
     "traceback": [
      "\u001b[1;31m---------------------------------------------------------------------------\u001b[0m",
      "\u001b[1;31mTypeError\u001b[0m                                 Traceback (most recent call last)",
      "Cell \u001b[1;32mIn[11], line 42\u001b[0m\n\u001b[0;32m     40\u001b[0m fig3\u001b[38;5;241m.\u001b[39madd_trace(go\u001b[38;5;241m.\u001b[39mScatter(y\u001b[38;5;241m=\u001b[39mnoisy_signal, mode\u001b[38;5;241m=\u001b[39m\u001b[38;5;124m'\u001b[39m\u001b[38;5;124mlines\u001b[39m\u001b[38;5;124m'\u001b[39m, name\u001b[38;5;241m=\u001b[39m\u001b[38;5;124m'\u001b[39m\u001b[38;5;124mNoisy Signal\u001b[39m\u001b[38;5;124m'\u001b[39m))  \u001b[38;5;66;03m# 噪声信号\u001b[39;00m\n\u001b[0;32m     41\u001b[0m fig3\u001b[38;5;241m.\u001b[39madd_trace(go\u001b[38;5;241m.\u001b[39mScatter(y\u001b[38;5;241m=\u001b[39mclean_signal, mode\u001b[38;5;241m=\u001b[39m\u001b[38;5;124m'\u001b[39m\u001b[38;5;124mlines\u001b[39m\u001b[38;5;124m'\u001b[39m, name\u001b[38;5;241m=\u001b[39m\u001b[38;5;124m'\u001b[39m\u001b[38;5;124mClean Signal\u001b[39m\u001b[38;5;124m'\u001b[39m))  \u001b[38;5;66;03m# 干净信号\u001b[39;00m\n\u001b[1;32m---> 42\u001b[0m fig3\u001b[38;5;241m.\u001b[39madd_trace(go\u001b[38;5;241m.\u001b[39mScatter(y\u001b[38;5;241m=\u001b[39m\u001b[43mdenoised_signal\u001b[49m\u001b[38;5;241;43m.\u001b[39;49m\u001b[43msqueeze\u001b[49m\u001b[43m(\u001b[49m\u001b[43m)\u001b[49m\u001b[38;5;241;43m.\u001b[39;49m\u001b[43mnumpy\u001b[49m\u001b[43m(\u001b[49m\u001b[43m)\u001b[49m, mode\u001b[38;5;241m=\u001b[39m\u001b[38;5;124m'\u001b[39m\u001b[38;5;124mlines\u001b[39m\u001b[38;5;124m'\u001b[39m, name\u001b[38;5;241m=\u001b[39m\u001b[38;5;124m'\u001b[39m\u001b[38;5;124mDenoised Signal\u001b[39m\u001b[38;5;124m'\u001b[39m))  \u001b[38;5;66;03m# 去噪信号\u001b[39;00m\n\u001b[0;32m     44\u001b[0m \u001b[38;5;66;03m# 更新布局\u001b[39;00m\n\u001b[0;32m     45\u001b[0m fig3\u001b[38;5;241m.\u001b[39mupdate_layout(\n\u001b[0;32m     46\u001b[0m     title\u001b[38;5;241m=\u001b[39m\u001b[38;5;124m'\u001b[39m\u001b[38;5;124mDenoised vs Clean Signal\u001b[39m\u001b[38;5;124m'\u001b[39m,\n\u001b[0;32m     47\u001b[0m     xaxis_title\u001b[38;5;241m=\u001b[39m\u001b[38;5;124m'\u001b[39m\u001b[38;5;124mTime Step\u001b[39m\u001b[38;5;124m'\u001b[39m,\n\u001b[0;32m     48\u001b[0m     yaxis_title\u001b[38;5;241m=\u001b[39m\u001b[38;5;124m'\u001b[39m\u001b[38;5;124mSignal Value\u001b[39m\u001b[38;5;124m'\u001b[39m,\n\u001b[0;32m     49\u001b[0m     legend_title\u001b[38;5;241m=\u001b[39m\u001b[38;5;124m'\u001b[39m\u001b[38;5;124mSignal Type\u001b[39m\u001b[38;5;124m'\u001b[39m\n\u001b[0;32m     50\u001b[0m )\n",
      "\u001b[1;31mTypeError\u001b[0m: can't convert cuda:0 device type tensor to numpy. Use Tensor.cpu() to copy the tensor to host memory first."
     ]
    }
   ],
   "source": [
    "import numpy as np\n",
    "import torch\n",
    "import plotly.graph_objects as go\n",
    "\n",
    "# 模拟信号\n",
    "sequence_length = 1000\n",
    "\n",
    "# linspace(start, stop, num=50)\n",
    "clean_signal = np.sin(np.linspace(0, 2 * np.pi * 5, sequence_length)).astype(np.float32)  # 模拟正弦波干净信号\n",
    "print(\"clean_signal shape:\", clean_signal.shape)\n",
    "noise = np.random.normal(0, 0.2, sequence_length).astype(np.float32)  # 添加噪声\n",
    "noisy_signal = clean_signal + noise  # 噪声信号\n",
    "print(\"noisy_signal shape:\", noisy_signal.shape)\n",
    "\n",
    "# 转换为 PyTorch 张量\n",
    "noisy_signal_tensor = torch.from_numpy(noisy_signal).unsqueeze(1).unsqueeze(0)  # (1, sequence_length, 1)\n",
    "print(\"noisy_signal_tensor shape:\", noisy_signal_tensor.shape)\n",
    "\n",
    "# 加载模型\n",
    "device = torch.device(\"cuda\" if torch.cuda.is_available() else \"cpu\")\n",
    "print(\"Training on:\", device)\n",
    "\n",
    "# 假设你有一个定义好的模型类\n",
    "model = LSTMDenoiser(input_size=1, hidden_size=64, num_layers=2)\n",
    "model.to(device)\n",
    "\n",
    "# 加载已训练的模型权重\n",
    "checkpoint = torch.load(\"models/best_model.pth\", map_location=device)\n",
    "model.load_state_dict(checkpoint['model_state_dict'])\n",
    "model.eval()  # 设置模型为评估模式\n",
    "\n",
    "# 预测降噪结果\n",
    "with torch.no_grad():\n",
    "    denoised_signal = model(noisy_signal_tensor.to(device))  # 模型输出 (batch_size, sequence_length, input_size)\n",
    "    print(\"denoised_signal shape:\", denoised_signal.shape)\n",
    "    \n",
    "# 绘制对比图\n",
    "fig3 = go.Figure()\n",
    "\n",
    "fig3.add_trace(go.Scatter(y=noisy_signal, mode='lines', name='Noisy Signal'))  # 噪声信号\n",
    "fig3.add_trace(go.Scatter(y=clean_signal, mode='lines', name='Clean Signal'))  # 干净信号\n",
    "fig3.add_trace(go.Scatter(y=denoised_signal.squeeze().cpu().numpy(), mode='lines', name='Denoised Signal'))  # 去噪信号\n",
    "\n",
    "# 更新布局\n",
    "fig3.update_layout(\n",
    "    title='Denoised vs Clean Signal',\n",
    "    xaxis_title='Time Step',\n",
    "    yaxis_title='Signal Value',\n",
    "    legend_title='Signal Type'\n",
    ")\n",
    "\n",
    "# 显示图表\n",
    "fig3.show()"
   ]
  }
 ],
 "metadata": {
  "kernelspec": {
   "display_name": ".venv",
   "language": "python",
   "name": "python3"
  },
  "language_info": {
   "codemirror_mode": {
    "name": "ipython",
    "version": 3
   },
   "file_extension": ".py",
   "mimetype": "text/x-python",
   "name": "python",
   "nbconvert_exporter": "python",
   "pygments_lexer": "ipython3",
   "version": "3.11.9"
  }
 },
 "nbformat": 4,
 "nbformat_minor": 2
}
