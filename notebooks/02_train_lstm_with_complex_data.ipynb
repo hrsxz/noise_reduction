{
 "cells": [
  {
   "cell_type": "code",
   "execution_count": 1,
   "metadata": {},
   "outputs": [
    {
     "name": "stdout",
     "output_type": "stream",
     "text": [
      "Final clean batches for sequence length 50: torch.Size([400, 50, 1])\n",
      "Final noisy batches for sequence length 50: torch.Size([400, 50, 1])\n",
      "Final clean batches for sequence length 100: torch.Size([400, 100, 1])\n",
      "Final noisy batches for sequence length 100: torch.Size([400, 100, 1])\n",
      "Final clean batches for sequence length 200: torch.Size([400, 200, 1])\n",
      "Final noisy batches for sequence length 200: torch.Size([400, 200, 1])\n",
      "Final clean batches for sequence length 500: torch.Size([400, 500, 1])\n",
      "Final noisy batches for sequence length 500: torch.Size([400, 500, 1])\n",
      "Final clean batches for sequence length 800: torch.Size([400, 800, 1])\n",
      "Final noisy batches for sequence length 800: torch.Size([400, 800, 1])\n"
     ]
    }
   ],
   "source": [
    "import torch\n",
    "import numpy as np\n",
    "\n",
    "# 定义参数\n",
    "batch_size = 400\n",
    "input_size = 1\n",
    "\n",
    "# 定义随机性参数\n",
    "sequence_lengths = [50, 100, 200, 500, 800]  # 可选的采样点数\n",
    "period_range = (1, 100)  # 随机选择周期范围\n",
    "\n",
    "# 初始化用于存储所有信号的列表\n",
    "all_clean_batches = []\n",
    "all_noisy_batches = []\n",
    "\n",
    "# 生成多种随机信号并融合\n",
    "for sequence_length in sequence_lengths:\n",
    "    period = np.random.uniform(*period_range)  # 随机选择周期\n",
    "\n",
    "    # 生成干净信号\n",
    "    clean_signal = torch.sin(\n",
    "        torch.linspace(0, 2 * np.pi * period, batch_size * sequence_length)\n",
    "    ).unsqueeze(-1)   # 添加最后一维，使形状为 (batch_size * sequence_length, 1)\n",
    "\n",
    "    # 检查生成信号的长度是否能整齐划分为 batch_size\n",
    "    total_points = batch_size * sequence_length\n",
    "    if clean_signal.size(0) != total_points:\n",
    "        print(f\"Skipping sequence length {sequence_length} due to incompatible size.\")\n",
    "        continue\n",
    "\n",
    "    # 划分为批次形式\n",
    "    clean_batches = clean_signal.view(batch_size, sequence_length, input_size)\n",
    "\n",
    "    # 生成噪声信号\n",
    "    noise = torch.randn_like(clean_signal) * 0.2  # 调整噪声强度\n",
    "    noisy_signal = clean_signal + noise\n",
    "    noisy_batches = noisy_signal.view(batch_size, sequence_length, input_size)\n",
    "\n",
    "    # 将生成的数据添加到列表中\n",
    "    all_clean_batches.append((sequence_length, clean_batches))\n",
    "    all_noisy_batches.append((sequence_length, noisy_batches))\n",
    "\n",
    "# 确保序列长度相同的批次分别拼接\n",
    "final_clean_batches = []\n",
    "final_noisy_batches = []\n",
    "\n",
    "for sequence_length in sequence_lengths:\n",
    "    clean_batches_group = [cb for sl, cb in all_clean_batches if sl == sequence_length]\n",
    "    noisy_batches_group = [nb for sl, nb in all_noisy_batches if sl == sequence_length]\n",
    "\n",
    "    if clean_batches_group and noisy_batches_group:\n",
    "        final_clean_batches.append(torch.cat(clean_batches_group, dim=0))\n",
    "        final_noisy_batches.append(torch.cat(noisy_batches_group, dim=0))\n",
    "\n",
    "# 打印拼接结果\n",
    "for i, sequence_length in enumerate(sequence_lengths):\n",
    "    if i < len(final_clean_batches):\n",
    "        print(f\"Final clean batches for sequence length {sequence_length}: {final_clean_batches[i].size()}\")\n",
    "        print(f\"Final noisy batches for sequence length {sequence_length}: {final_noisy_batches[i].size()}\")\n"
   ]
  }
 ],
 "metadata": {
  "kernelspec": {
   "display_name": ".venv",
   "language": "python",
   "name": "python3"
  },
  "language_info": {
   "codemirror_mode": {
    "name": "ipython",
    "version": 3
   },
   "file_extension": ".py",
   "mimetype": "text/x-python",
   "name": "python",
   "nbconvert_exporter": "python",
   "pygments_lexer": "ipython3",
   "version": "3.11.9"
  }
 },
 "nbformat": 4,
 "nbformat_minor": 2
}
