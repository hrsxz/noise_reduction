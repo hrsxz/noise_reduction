{
 "cells": [
  {
   "cell_type": "markdown",
   "metadata": {},
   "source": [
    "## Prepare training data"
   ]
  },
  {
   "cell_type": "code",
   "execution_count": 7,
   "metadata": {},
   "outputs": [
    {
     "name": "stdout",
     "output_type": "stream",
     "text": [
      "Final clean batches for sequence length 50: torch.Size([400, 50, 1])\n",
      "Final noisy batches for sequence length 50: torch.Size([400, 50, 1])\n",
      "Final clean batches for sequence length 100: torch.Size([400, 100, 1])\n",
      "Final noisy batches for sequence length 100: torch.Size([400, 100, 1])\n",
      "Final clean batches for sequence length 200: torch.Size([400, 200, 1])\n",
      "Final noisy batches for sequence length 200: torch.Size([400, 200, 1])\n",
      "Final clean batches for sequence length 500: torch.Size([400, 500, 1])\n",
      "Final noisy batches for sequence length 500: torch.Size([400, 500, 1])\n",
      "Final clean batches for sequence length 800: torch.Size([400, 800, 1])\n",
      "Final noisy batches for sequence length 800: torch.Size([400, 800, 1])\n"
     ]
    }
   ],
   "source": [
    "import torch\n",
    "import numpy as np\n",
    "\n",
    "# 定义参数\n",
    "batch_size = 400\n",
    "input_size = 1\n",
    "\n",
    "# 定义随机性参数\n",
    "sequence_lengths = [50, 100, 200, 500, 800]  # 可选的采样点数\n",
    "period_range = (1, 100)  # 随机选择周期范围\n",
    "\n",
    "# 初始化用于存储所有信号的列表dd\n",
    "all_clean_batches = []\n",
    "all_noisy_batches = []\n",
    "\n",
    "# 生成多种随机信号并融合\n",
    "for sequence_length in sequence_lengths:\n",
    "    period = np.random.uniform(*period_range)  # 随机选择周期\n",
    "\n",
    "    # 生成干净信号\n",
    "    clean_signal = torch.sin(\n",
    "        torch.linspace(0, 2 * np.pi * period, batch_size * sequence_length)\n",
    "    ).unsqueeze(-1)   # 添加最后一维，使形状为 (batch_size * sequence_length, 1)\n",
    "    clean_signal = (clean_signal - clean_signal.mean()) / clean_signal.std()\n",
    "\n",
    "    # 划分为批次形式\n",
    "    clean_batches = clean_signal.view(batch_size, sequence_length, input_size)\n",
    "\n",
    "    # 生成噪声信号\n",
    "    noise = torch.randn_like(clean_signal) * 0.2  # 调整噪声强度\n",
    "    noisy_signal = clean_signal + noise\n",
    "    noisy_signal = (noisy_signal - noisy_signal.mean()) / noisy_signal.std()\n",
    "    noisy_batches = noisy_signal.view(batch_size, sequence_length, input_size)\n",
    "\n",
    "    # 将生成的数据添加到列表中\n",
    "    all_clean_batches.append((sequence_length, clean_batches))\n",
    "    all_noisy_batches.append((sequence_length, noisy_batches))\n",
    "\n",
    "# 确保序列长度相同的批次分别拼接\n",
    "final_clean_batches = []\n",
    "final_noisy_batches = []\n",
    "\n",
    "for sequence_length in sequence_lengths:\n",
    "    clean_batches_group = [cb for sl, cb in all_clean_batches if sl == sequence_length]\n",
    "    noisy_batches_group = [nb for sl, nb in all_noisy_batches if sl == sequence_length]\n",
    "\n",
    "    if clean_batches_group and noisy_batches_group:\n",
    "        final_clean_batches.append(torch.cat(clean_batches_group, dim=0))\n",
    "        final_noisy_batches.append(torch.cat(noisy_batches_group, dim=0))\n",
    "\n",
    "# 打印拼接结果\n",
    "for i, sequence_length in enumerate(sequence_lengths):\n",
    "    if i < len(final_clean_batches):\n",
    "        # length 5\n",
    "        # torch.Size([400, 50, 1])\n",
    "        print(f\"Final clean batches for sequence length {sequence_length}: {final_clean_batches[i].size()}\")\n",
    "        print(f\"Final noisy batches for sequence length {sequence_length}: {final_noisy_batches[i].size()}\")"
   ]
  },
  {
   "cell_type": "markdown",
   "metadata": {},
   "source": [
    "## Create dataloader"
   ]
  },
  {
   "cell_type": "code",
   "execution_count": 8,
   "metadata": {},
   "outputs": [],
   "source": [
    "from torch.utils.data import Dataset, DataLoader\n",
    "\n",
    "# 定义自定义数据集\n",
    "class TimeSeriesDataset(Dataset):\n",
    "    def __init__(self, noisy_batches, clean_batches):\n",
    "        self.noisy_batches = noisy_batches\n",
    "        self.clean_batches = clean_batches\n",
    "\n",
    "    def __len__(self):\n",
    "        return len(self.noisy_batches)\n",
    "\n",
    "    def __getitem__(self, idx):\n",
    "        return self.noisy_batches[idx], self.clean_batches[idx]"
   ]
  },
  {
   "cell_type": "markdown",
   "metadata": {},
   "source": [
    "### Train test and validation split"
   ]
  },
  {
   "cell_type": "code",
   "execution_count": 9,
   "metadata": {},
   "outputs": [
    {
     "name": "stdout",
     "output_type": "stream",
     "text": [
      "Number of batches in dataloader: 5\n",
      "Number of batches in dataloader: 5\n",
      "Number of batches in dataloader: 5\n"
     ]
    }
   ],
   "source": [
    "from torch.utils.data import Subset\n",
    "\n",
    "# 按顺序划分数据集函数\n",
    "def split_dataset_sequential(dataset, train_ratio=0.7, val_ratio=0.15):\n",
    "    total_length = len(dataset)\n",
    "    train_end = int(total_length * train_ratio)\n",
    "    val_end = train_end + int(total_length * val_ratio)\n",
    "\n",
    "    train_indices = list(range(0, train_end))\n",
    "    val_indices = list(range(train_end, val_end))\n",
    "    test_indices = list(range(val_end, total_length))\n",
    "\n",
    "    train_dataset = Subset(dataset, train_indices)\n",
    "    val_dataset = Subset(dataset, val_indices)\n",
    "    test_dataset = Subset(dataset, test_indices)\n",
    "\n",
    "    return train_dataset, val_dataset, test_dataset\n",
    "\n",
    "# 划分数据集\n",
    "train_dataloaders = []\n",
    "val_dataloaders = []\n",
    "test_dataloaders = []\n",
    "\n",
    "for sequence_length, noisy_batch, clean_batch in zip(sequence_lengths,\n",
    "                                                     final_noisy_batches,\n",
    "                                                     final_clean_batches):\n",
    "    dataset = TimeSeriesDataset(noisy_batch, clean_batch)\n",
    "\n",
    "    train_dataset, val_dataset, test_dataset = split_dataset_sequential(dataset)\n",
    "\n",
    "    # 确保加载时顺序不变\n",
    "    train_dataloaders.append((sequence_length, DataLoader(train_dataset,\n",
    "                                                          batch_size=60,\n",
    "                                                          shuffle=False)))\n",
    "    val_dataloaders.append((sequence_length, DataLoader(val_dataset,\n",
    "                                                        batch_size=60,\n",
    "                                                        shuffle=False)))\n",
    "    test_dataloaders.append((sequence_length, DataLoader(test_dataset,\n",
    "                                                         batch_size=60,\n",
    "                                                         shuffle=False)))\n",
    "\n",
    "print(f\"Number of batches in dataloader: {len(train_dataloaders)}\")\n",
    "print(f\"Number of batches in dataloader: {len(val_dataloaders)}\")\n",
    "print(f\"Number of batches in dataloader: {len(test_dataloaders)}\")\n"
   ]
  },
  {
   "cell_type": "markdown",
   "metadata": {},
   "source": [
    "## Define model"
   ]
  },
  {
   "cell_type": "code",
   "execution_count": 10,
   "metadata": {},
   "outputs": [
    {
     "name": "stdout",
     "output_type": "stream",
     "text": [
      "Training on: cuda\n"
     ]
    },
    {
     "data": {
      "text/plain": [
       "LSTMDenoiser(\n",
       "  (lstm): LSTM(1, 128, num_layers=2, batch_first=True)\n",
       "  (fc): Linear(in_features=128, out_features=1, bias=True)\n",
       ")"
      ]
     },
     "execution_count": 10,
     "metadata": {},
     "output_type": "execute_result"
    }
   ],
   "source": [
    "import torch\n",
    "import torch.nn as nn\n",
    "import torch.optim as optim\n",
    "\n",
    "# 定义 LSTM 降噪模型\n",
    "class LSTMDenoiser(nn.Module):\n",
    "    def __init__(self, input_size, hidden_size, num_layers):\n",
    "        super().__init__()\n",
    "        self.lstm = nn.LSTM(input_size, hidden_size, num_layers, batch_first=True)\n",
    "        self.fc = nn.Linear(hidden_size, input_size)\n",
    "\n",
    "    def forward(self, x):\n",
    "        out, _ = self.lstm(x)\n",
    "        out = self.fc(out)\n",
    "        return out\n",
    "\n",
    "# 初始化模型\n",
    "model = LSTMDenoiser(input_size=1, hidden_size=128, num_layers=2)\n",
    "criterion = nn.MSELoss()\n",
    "optimizer = optim.Adam(model.parameters(), lr=1e-3)\n",
    "\n",
    "# 加载模型\n",
    "device = torch.device(\"cuda\" if torch.cuda.is_available() else \"cpu\")\n",
    "print(\"Training on:\", device)\n",
    "model.to(device)"
   ]
  },
  {
   "cell_type": "markdown",
   "metadata": {},
   "source": [
    "## Train model"
   ]
  },
  {
   "cell_type": "code",
   "execution_count": 5,
   "metadata": {},
   "outputs": [
    {
     "name": "stdout",
     "output_type": "stream",
     "text": [
      "No checkpoint found, starting fresh training.\n",
      "Epoch 1/20 started.\n",
      "Current learning rate: 0.001\n",
      "Training on sequence length 50...\n",
      "Epoch 1/20, Train Loss: 4.70789087  Val Loss: 4.07751697\n",
      "Training on sequence length 100...\n",
      "Epoch 1/20, Train Loss: 3.08711332  Val Loss: 1.13953073\n",
      "Training on sequence length 200...\n",
      "Epoch 1/20, Train Loss: 0.68186872  Val Loss: 0.64212798\n",
      "Training on sequence length 500...\n",
      "Epoch 1/20, Train Loss: 0.46810370  Val Loss: 0.38590014\n",
      "Training on sequence length 800...\n",
      "Epoch 1/20, Train Loss: 0.18847660  Val Loss: 0.36277774\n",
      "New best model saved: models/best_model.pth with loss: 0.36277774\n",
      "Last model saved at epoch 1\n",
      "Epoch 2/20 started.\n",
      "Current learning rate: 0.001\n",
      "Training on sequence length 50...\n",
      "Epoch 2/20, Train Loss: 0.55659100  Val Loss: 0.22444710\n",
      "Training on sequence length 100...\n",
      "Epoch 2/20, Train Loss: 0.24814744  Val Loss: 0.23303406\n",
      "Training on sequence length 200...\n",
      "Epoch 2/20, Train Loss: 0.17425835  Val Loss: 0.19027911\n",
      "Training on sequence length 500...\n",
      "Epoch 2/20, Train Loss: 0.07985406  Val Loss: 0.17644517\n",
      "Training on sequence length 800...\n",
      "Epoch 2/20, Train Loss: 0.07448380  Val Loss: 0.16058674\n",
      "New best model saved: models/best_model.pth with loss: 0.16058674\n",
      "Last model saved at epoch 2\n",
      "Epoch 3/20 started.\n",
      "Current learning rate: 0.001\n",
      "Training on sequence length 50...\n",
      "Epoch 3/20, Train Loss: 0.34804789  Val Loss: 0.15499326\n",
      "Training on sequence length 100...\n",
      "Epoch 3/20, Train Loss: 0.18772206  Val Loss: 0.14273612\n",
      "Training on sequence length 200...\n",
      "Epoch 3/20, Train Loss: 0.09719707  Val Loss: 0.13735364\n",
      "Training on sequence length 500...\n",
      "Epoch 3/20, Train Loss: 0.05591288  Val Loss: 0.13008382\n",
      "Training on sequence length 800...\n",
      "Epoch 3/20, Train Loss: 0.04280020  Val Loss: 0.12762079\n",
      "New best model saved: models/best_model.pth with loss: 0.12762079\n",
      "Last model saved at epoch 3\n",
      "Epoch 4/20 started.\n",
      "Current learning rate: 0.001\n",
      "Training on sequence length 50...\n",
      "Epoch 4/20, Train Loss: 0.28827447  Val Loss: 0.12370374\n",
      "Training on sequence length 100...\n",
      "Epoch 4/20, Train Loss: 0.15051000  Val Loss: 0.11756909\n",
      "Training on sequence length 200...\n",
      "Epoch 4/20, Train Loss: 0.08179846  Val Loss: 0.11371986\n",
      "Training on sequence length 500...\n",
      "Epoch 4/20, Train Loss: 0.04584204  Val Loss: 0.11113689\n",
      "Training on sequence length 800...\n",
      "Epoch 4/20, Train Loss: 0.03752298  Val Loss: 0.10971428\n",
      "New best model saved: models/best_model.pth with loss: 0.10971428\n",
      "Last model saved at epoch 4\n",
      "Epoch 5/20 started.\n",
      "Current learning rate: 0.001\n",
      "Training on sequence length 50...\n",
      "Epoch 5/20, Train Loss: 0.24892421  Val Loss: 0.10846171\n",
      "Training on sequence length 100...\n",
      "Epoch 5/20, Train Loss: 0.13121601  Val Loss: 0.10480791\n",
      "Training on sequence length 200...\n",
      "Epoch 5/20, Train Loss: 0.07417233  Val Loss: 0.10249424\n",
      "Training on sequence length 500...\n",
      "Epoch 5/20, Train Loss: 0.04384261  Val Loss: 0.10109177\n",
      "Training on sequence length 800...\n",
      "Epoch 5/20, Train Loss: 0.03723149  Val Loss: 0.10002567\n",
      "New best model saved: models/best_model.pth with loss: 0.10002567\n",
      "Last model saved at epoch 5\n",
      "Epoch 6/20 started.\n",
      "Current learning rate: 0.001\n",
      "Training on sequence length 50...\n",
      "Epoch 6/20, Train Loss: 0.22183574  Val Loss: 0.09844851\n",
      "Training on sequence length 100...\n",
      "Epoch 6/20, Train Loss: 0.11968598  Val Loss: 0.09680980\n",
      "Training on sequence length 200...\n",
      "Epoch 6/20, Train Loss: 0.07073430  Val Loss: 0.09561975\n",
      "Training on sequence length 500...\n",
      "Epoch 6/20, Train Loss: 0.04391255  Val Loss: 0.09491175\n",
      "Training on sequence length 800...\n",
      "Epoch 6/20, Train Loss: 0.03836727  Val Loss: 0.09457717\n",
      "New best model saved: models/best_model.pth with loss: 0.09457717\n",
      "Last model saved at epoch 6\n",
      "Epoch 7/20 started.\n",
      "Current learning rate: 0.001\n",
      "Training on sequence length 50...\n",
      "Epoch 7/20, Train Loss: 0.20486232  Val Loss: 0.09380318\n",
      "Training on sequence length 100...\n",
      "Epoch 7/20, Train Loss: 0.11318858  Val Loss: 0.09280226\n",
      "Training on sequence length 200...\n",
      "Epoch 7/20, Train Loss: 0.06929502  Val Loss: 0.09202387\n",
      "Training on sequence length 500...\n",
      "Epoch 7/20, Train Loss: 0.04452071  Val Loss: 0.09146624\n",
      "Training on sequence length 800...\n",
      "Epoch 7/20, Train Loss: 0.03931035  Val Loss: 0.09118959\n",
      "New best model saved: models/best_model.pth with loss: 0.09118959\n",
      "Last model saved at epoch 7\n",
      "Epoch 8/20 started.\n",
      "Current learning rate: 0.001\n",
      "Training on sequence length 50...\n",
      "Epoch 8/20, Train Loss: 0.19381930  Val Loss: 0.09067106\n",
      "Training on sequence length 100...\n",
      "Epoch 8/20, Train Loss: 0.10883915  Val Loss: 0.08986096\n",
      "Training on sequence length 200...\n",
      "Epoch 8/20, Train Loss: 0.06790490  Val Loss: 0.08903148\n",
      "Training on sequence length 500...\n",
      "Epoch 8/20, Train Loss: 0.04447654  Val Loss: 0.08852074\n",
      "Training on sequence length 800...\n",
      "Epoch 8/20, Train Loss: 0.03949588  Val Loss: 0.08826409\n",
      "New best model saved: models/best_model.pth with loss: 0.08826409\n",
      "Last model saved at epoch 8\n",
      "Epoch 9/20 started.\n",
      "Current learning rate: 0.001\n",
      "Training on sequence length 50...\n",
      "Epoch 9/20, Train Loss: 0.18526059  Val Loss: 0.08780826\n",
      "Training on sequence length 100...\n",
      "Epoch 9/20, Train Loss: 0.10504536  Val Loss: 0.08707690\n",
      "Training on sequence length 200...\n",
      "Epoch 9/20, Train Loss: 0.06636963  Val Loss: 0.08623511\n",
      "Training on sequence length 500...\n",
      "Epoch 9/20, Train Loss: 0.04414895  Val Loss: 0.08575744\n",
      "Training on sequence length 800...\n",
      "Epoch 9/20, Train Loss: 0.03943297  Val Loss: 0.08552758\n",
      "New best model saved: models/best_model.pth with loss: 0.08552758\n",
      "Last model saved at epoch 9\n",
      "Epoch 10/20 started.\n",
      "Current learning rate: 0.001\n",
      "Training on sequence length 50...\n",
      "Epoch 10/20, Train Loss: 0.17756385  Val Loss: 0.08508726\n",
      "Training on sequence length 100...\n",
      "Epoch 10/20, Train Loss: 0.10149205  Val Loss: 0.08441569\n",
      "Training on sequence length 200...\n",
      "Epoch 10/20, Train Loss: 0.06486967  Val Loss: 0.08360095\n",
      "Training on sequence length 500...\n",
      "Epoch 10/20, Train Loss: 0.04379815  Val Loss: 0.08314946\n",
      "Training on sequence length 800...\n",
      "Epoch 10/20, Train Loss: 0.03933756  Val Loss: 0.08293465\n",
      "New best model saved: models/best_model.pth with loss: 0.08293465\n",
      "Last model saved at epoch 10\n",
      "Epoch 11/20 started.\n",
      "Current learning rate: 0.0006\n",
      "Training on sequence length 50...\n",
      "Epoch 11/20, Train Loss: 0.17046021  Val Loss: 0.08257790\n",
      "Training on sequence length 100...\n",
      "Epoch 11/20, Train Loss: 0.09848866  Val Loss: 0.08214210\n",
      "Training on sequence length 200...\n",
      "Epoch 11/20, Train Loss: 0.06357982  Val Loss: 0.08188525\n",
      "Training on sequence length 500...\n",
      "Epoch 11/20, Train Loss: 0.04337153  Val Loss: 0.08156266\n",
      "Training on sequence length 800...\n",
      "Epoch 11/20, Train Loss: 0.03918594  Val Loss: 0.08142532\n",
      "New best model saved: models/best_model.pth with loss: 0.08142532\n",
      "Last model saved at epoch 11\n",
      "Epoch 12/20 started.\n",
      "Current learning rate: 0.0006\n",
      "Training on sequence length 50...\n",
      "Epoch 12/20, Train Loss: 0.16618428  Val Loss: 0.08113210\n",
      "Training on sequence length 100...\n",
      "Epoch 12/20, Train Loss: 0.09651591  Val Loss: 0.08067214\n",
      "Training on sequence length 200...\n",
      "Epoch 12/20, Train Loss: 0.06271823  Val Loss: 0.08032812\n",
      "Training on sequence length 500...\n",
      "Epoch 12/20, Train Loss: 0.04315588  Val Loss: 0.08004823\n",
      "Training on sequence length 800...\n",
      "Epoch 12/20, Train Loss: 0.03911665  Val Loss: 0.07990327\n",
      "New best model saved: models/best_model.pth with loss: 0.07990327\n",
      "Last model saved at epoch 12\n",
      "Epoch 13/20 started.\n",
      "Current learning rate: 0.0006\n",
      "Training on sequence length 50...\n",
      "Epoch 13/20, Train Loss: 0.16201542  Val Loss: 0.07960666\n",
      "Training on sequence length 100...\n",
      "Epoch 13/20, Train Loss: 0.09452282  Val Loss: 0.07917225\n",
      "Training on sequence length 200...\n",
      "Epoch 13/20, Train Loss: 0.06185278  Val Loss: 0.07884150\n",
      "Training on sequence length 500...\n",
      "Epoch 13/20, Train Loss: 0.04292293  Val Loss: 0.07855632\n",
      "Training on sequence length 800...\n",
      "Epoch 13/20, Train Loss: 0.03901293  Val Loss: 0.07840406\n",
      "New best model saved: models/best_model.pth with loss: 0.07840406\n",
      "Last model saved at epoch 13\n",
      "Epoch 14/20 started.\n",
      "Current learning rate: 0.0006\n",
      "Training on sequence length 50...\n",
      "Epoch 14/20, Train Loss: 0.15794698  Val Loss: 0.07810928\n",
      "Training on sequence length 100...\n",
      "Epoch 14/20, Train Loss: 0.09256940  Val Loss: 0.07767659\n",
      "Training on sequence length 200...\n",
      "Epoch 14/20, Train Loss: 0.06097059  Val Loss: 0.07734927\n",
      "Training on sequence length 500...\n",
      "Epoch 14/20, Train Loss: 0.04265367  Val Loss: 0.07705898\n",
      "Training on sequence length 800...\n",
      "Epoch 14/20, Train Loss: 0.03886615  Val Loss: 0.07689862\n",
      "New best model saved: models/best_model.pth with loss: 0.07689862\n",
      "Last model saved at epoch 14\n",
      "Epoch 15/20 started.\n",
      "Current learning rate: 0.0006\n",
      "Training on sequence length 50...\n",
      "Epoch 15/20, Train Loss: 0.15393966  Val Loss: 0.07660392\n",
      "Training on sequence length 100...\n",
      "Epoch 15/20, Train Loss: 0.09061480  Val Loss: 0.07616843\n",
      "Training on sequence length 200...\n",
      "Epoch 15/20, Train Loss: 0.06005809  Val Loss: 0.07583711\n",
      "Training on sequence length 500...\n",
      "Epoch 15/20, Train Loss: 0.04234394  Val Loss: 0.07553814\n",
      "Training on sequence length 800...\n",
      "Epoch 15/20, Train Loss: 0.03866948  Val Loss: 0.07536765\n",
      "New best model saved: models/best_model.pth with loss: 0.07536765\n",
      "Last model saved at epoch 15\n",
      "Epoch 16/20 started.\n",
      "Current learning rate: 0.0006\n",
      "Training on sequence length 50...\n",
      "Epoch 16/20, Train Loss: 0.14995069  Val Loss: 0.07506366\n",
      "Training on sequence length 100...\n",
      "Epoch 16/20, Train Loss: 0.08863106  Val Loss: 0.07462041\n",
      "Training on sequence length 200...\n",
      "Epoch 16/20, Train Loss: 0.05909889  Val Loss: 0.07427905\n",
      "Training on sequence length 500...\n",
      "Epoch 16/20, Train Loss: 0.04198021  Val Loss: 0.07396303\n",
      "Training on sequence length 800...\n",
      "Epoch 16/20, Train Loss: 0.03840532  Val Loss: 0.07378097\n",
      "New best model saved: models/best_model.pth with loss: 0.07378097\n",
      "Last model saved at epoch 16\n",
      "Epoch 17/20 started.\n",
      "Current learning rate: 0.0006\n",
      "Training on sequence length 50...\n",
      "Epoch 17/20, Train Loss: 0.14593453  Val Loss: 0.07345669\n",
      "Training on sequence length 100...\n",
      "Epoch 17/20, Train Loss: 0.08658690  Val Loss: 0.07300579\n",
      "Training on sequence length 200...\n",
      "Epoch 17/20, Train Loss: 0.05807376  Val Loss: 0.07264444\n",
      "Training on sequence length 500...\n",
      "Epoch 17/20, Train Loss: 0.04155117  Val Loss: 0.07231324\n",
      "Training on sequence length 800...\n",
      "Epoch 17/20, Train Loss: 0.03807287  Val Loss: 0.07213277\n",
      "New best model saved: models/best_model.pth with loss: 0.07213277\n",
      "Last model saved at epoch 17\n",
      "Epoch 18/20 started.\n",
      "Current learning rate: 0.0006\n",
      "Training on sequence length 50...\n",
      "Epoch 18/20, Train Loss: 0.14190158  Val Loss: 0.07178712\n",
      "Training on sequence length 100...\n",
      "Epoch 18/20, Train Loss: 0.08448444  Val Loss: 0.07132119\n",
      "Training on sequence length 200...\n",
      "Epoch 18/20, Train Loss: 0.05698569  Val Loss: 0.07093318\n",
      "Training on sequence length 500...\n",
      "Epoch 18/20, Train Loss: 0.04106943  Val Loss: 0.07060162\n",
      "Training on sequence length 800...\n",
      "Epoch 18/20, Train Loss: 0.03769897  Val Loss: 0.07042834\n",
      "New best model saved: models/best_model.pth with loss: 0.07042834\n",
      "Last model saved at epoch 18\n",
      "Epoch 19/20 started.\n",
      "Current learning rate: 0.0006\n",
      "Training on sequence length 50...\n",
      "Epoch 19/20, Train Loss: 0.13782921  Val Loss: 0.07005978\n",
      "Training on sequence length 100...\n",
      "Epoch 19/20, Train Loss: 0.08232112  Val Loss: 0.06956639\n",
      "Training on sequence length 200...\n",
      "Epoch 19/20, Train Loss: 0.05583319  Val Loss: 0.06913156\n",
      "Training on sequence length 500...\n",
      "Epoch 19/20, Train Loss: 0.04053671  Val Loss: 0.06880465\n",
      "Training on sequence length 800...\n",
      "Epoch 19/20, Train Loss: 0.03729509  Val Loss: 0.06862573\n",
      "New best model saved: models/best_model.pth with loss: 0.06862573\n",
      "Last model saved at epoch 19\n",
      "Epoch 20/20 started.\n",
      "Current learning rate: 0.0006\n",
      "Training on sequence length 50...\n",
      "Epoch 20/20, Train Loss: 0.13357239  Val Loss: 0.06823146\n",
      "Training on sequence length 100...\n",
      "Epoch 20/20, Train Loss: 0.08005629  Val Loss: 0.06771978\n",
      "Training on sequence length 200...\n",
      "Epoch 20/20, Train Loss: 0.05459925  Val Loss: 0.06724478\n",
      "Training on sequence length 500...\n",
      "Epoch 20/20, Train Loss: 0.03995046  Val Loss: 0.06692269\n",
      "Training on sequence length 800...\n",
      "Epoch 20/20, Train Loss: 0.03685304  Val Loss: 0.06672493\n",
      "New best model saved: models/best_model.pth with loss: 0.06672493\n",
      "Last model saved at epoch 20\n",
      "Training complete! Best model was from epoch 20 with loss: 0.06672493\n"
     ]
    }
   ],
   "source": [
    "import os\n",
    "\n",
    "# 用于保存训练损失\n",
    "learning_rates = []\n",
    "\n",
    "num_epochs = 20  # 训练轮数\n",
    "\n",
    "# 学习率调度器参数\n",
    "# step_size=10：每 10 个 epoch 调整一次学习率。\n",
    "# gamma=0.1：每次调整时学习率缩小为原来的 0.1 倍。\n",
    "scheduler_step_size = 10\n",
    "scheduler_gamma = 0.6\n",
    "\n",
    "# 初始化变量以跟踪最佳模型\n",
    "best_model_path = \"models/best_model.pth\"\n",
    "last_model_path = \"models/last_model.pth\"\n",
    "\n",
    "\n",
    "# 检查是否存在保存的模型检查点\n",
    "if not os.path.exists(\"models\"):\n",
    "    os.makedirs(\"models\")\n",
    "\n",
    "# 检查是否存在之前的模型\n",
    "if os.path.exists(best_model_path):\n",
    "    print(\"Loading checkpoint...\")\n",
    "    checkpoint = torch.load(best_model_path)\n",
    "    model.load_state_dict(checkpoint['model_state_dict'])\n",
    "    optimizer.load_state_dict(checkpoint['optimizer_state_dict'])\n",
    "    start_epoch = checkpoint['epoch'] + 1\n",
    "    best_loss = checkpoint['loss']\n",
    "    best_epoch = checkpoint['epoch'] + 1\n",
    "    print(f\"Resuming training from epoch {start_epoch} with best loss {best_loss:.8f}\")\n",
    "else:\n",
    "    print(\"No checkpoint found, starting fresh training.\")\n",
    "\n",
    "# 初始化学习率调度器\n",
    "scheduler = torch.optim.lr_scheduler.StepLR(\n",
    "    optimizer, step_size=scheduler_step_size, gamma=scheduler_gamma\n",
    ")\n",
    "\n",
    "# 记录损失\n",
    "train_losses = []\n",
    "val_losses = []\n",
    "best_val_loss = float('inf')\n",
    "\n",
    "# Train model\n",
    "model.train()\n",
    "\n",
    "# 模型训练\n",
    "for epoch in range(num_epochs):\n",
    "    print(f\"Epoch {epoch + 1}/{num_epochs} started.\")\n",
    "    epoch_loss = 0\n",
    "\n",
    "    # 打印当前学习率\n",
    "    for param_group in optimizer.param_groups:\n",
    "        learning_rates.append(param_group['lr'])  # 将学习率加入列表\n",
    "        print(f\"Current learning rate: {param_group['lr']}\")\n",
    "\n",
    "    # 遍历每个 grouped_dataloader\n",
    "    for sequence_length, dataloader in train_dataloaders:\n",
    "        print(f\"Training on sequence length {sequence_length}...\")\n",
    "        model.train()\n",
    "        train_loss = 0  # 用于记录该组的损失\n",
    "\n",
    "        for i, (noisy_batch, clean_batch) in enumerate(dataloader):\n",
    "            # 将数据移动到 GPU（如果可用）\n",
    "            noisy_batch = noisy_batch.to(device).float()\n",
    "            clean_batch = clean_batch.to(device).float()\n",
    "\n",
    "            # 前向传播\n",
    "            outputs = model(noisy_batch)\n",
    "            loss = criterion(outputs, clean_batch)\n",
    "\n",
    "            # 反向传播和优化\n",
    "            optimizer.zero_grad()\n",
    "            loss.backward()\n",
    "            optimizer.step()\n",
    "\n",
    "            # 累加 batch 的损失\n",
    "            train_loss += loss.item()\n",
    "\n",
    "        # 打印每个组的平均损失\n",
    "        train_losses.append(train_loss)\n",
    "\n",
    "        # 验证模型\n",
    "        model.eval()\n",
    "        val_loss = 0\n",
    "        with torch.no_grad():\n",
    "            for sequence_length, dataloader in val_dataloaders:\n",
    "                for noisy_batch, clean_batch in dataloader:\n",
    "                    noisy_batch = noisy_batch.to(device).float()\n",
    "                    clean_batch = clean_batch.to(device).float()\n",
    "\n",
    "                    outputs = model(noisy_batch)\n",
    "                    loss = criterion(outputs, clean_batch)\n",
    "                    val_loss += loss.item()\n",
    "\n",
    "        val_losses.append(val_loss)\n",
    "\n",
    "        print(f\"Epoch {epoch+1}/{num_epochs}, Train Loss: {train_loss:.8f}\",\n",
    "              f\" Val Loss: {val_loss:.8f}\")\n",
    "\n",
    "\n",
    "    # 更新学习率\n",
    "    scheduler.step()\n",
    "\n",
    "    # 检查是否为最佳模型\n",
    "    if val_loss < best_val_loss: \n",
    "        best_epoch=epoch+1\n",
    "        best_loss = val_loss\n",
    "        # torch.save(model.state_dict(), best_model_path)\n",
    "        torch.save({\n",
    "            'epoch': epoch,\n",
    "            'model_state_dict': model.state_dict(),\n",
    "            'optimizer_state_dict': optimizer.state_dict(),\n",
    "            'loss': best_loss,\n",
    "            },\n",
    "            best_model_path\n",
    "        )\n",
    "        print(f\"New best model saved: {best_model_path} with loss: {best_loss:.8f}\")\n",
    "\n",
    "    # 保存当前 epoch 的模型\n",
    "    # torch.save(model.state_dict(), last_model_path)\n",
    "    torch.save({\n",
    "        'epoch': epoch,\n",
    "        'model_state_dict': model.state_dict(),\n",
    "        'optimizer_state_dict': optimizer.state_dict(),\n",
    "        'loss': val_loss,\n",
    "        },\n",
    "        last_model_path\n",
    "    )\n",
    "    print(f\"Last model saved at epoch {epoch+1}\")\n",
    "\n",
    "print(f\"Training complete! Best model was from epoch {best_epoch} with loss: \"\n",
    "      f\"{best_loss:.8f}\")"
   ]
  },
  {
   "cell_type": "markdown",
   "metadata": {},
   "source": [
    "## Plot results"
   ]
  },
  {
   "cell_type": "code",
   "execution_count": 6,
   "metadata": {},
   "outputs": [
    {
     "data": {
      "application/vnd.plotly.v1+json": {
       "config": {
        "plotlyServerURL": "https://plot.ly"
       },
       "data": [
        {
         "line": {
          "color": "blue"
         },
         "marker": {
          "size": 5
         },
         "mode": "lines+markers",
         "name": "Training Loss",
         "type": "scatter",
         "y": [
          4.707890868186951,
          3.087113320827484,
          0.6818687170743942,
          0.46810369938611984,
          0.18847659975290298,
          0.5565909966826439,
          0.24814743548631668,
          0.17425834760069847,
          0.07985406462103128,
          0.07448379788547754,
          0.3480478897690773,
          0.18772206455469131,
          0.09719707444310188,
          0.05591288488358259,
          0.04280019644647837,
          0.28827446699142456,
          0.1505100019276142,
          0.08179846405982971,
          0.04584203753620386,
          0.03752298420295119,
          0.24892420694231987,
          0.1312160063534975,
          0.07417233474552631,
          0.04384261183440685,
          0.03723149234429002,
          0.22183573991060257,
          0.11968598328530788,
          0.07073430251330137,
          0.04391254670917988,
          0.03836726630106568,
          0.2048623226583004,
          0.11318857967853546,
          0.06929502170532942,
          0.044520712457597256,
          0.03931035008281469,
          0.1938193030655384,
          0.10883915424346924,
          0.06790490075945854,
          0.04447654448449612,
          0.039495878387242556,
          0.1852605901658535,
          0.10504535958170891,
          0.06636963039636612,
          0.04414894711226225,
          0.03943296940997243,
          0.1775638535618782,
          0.10149204917252064,
          0.06486966740339994,
          0.04379814676940441,
          0.03933756239712238,
          0.17046021297574043,
          0.09848865680396557,
          0.06357981730252504,
          0.04337152652442455,
          0.03918594308197498,
          0.16618427634239197,
          0.09651591069996357,
          0.06271822936832905,
          0.04315588250756264,
          0.03911664616316557,
          0.1620154194533825,
          0.09452281519770622,
          0.06185277737677097,
          0.04292292892932892,
          0.03901293035596609,
          0.15794697776436806,
          0.09256940335035324,
          0.06097059138119221,
          0.042653671465814114,
          0.03886615298688412,
          0.15393965877592564,
          0.0906147975474596,
          0.060058094561100006,
          0.04234393872320652,
          0.03866947581991553,
          0.1499506924301386,
          0.08863106369972229,
          0.05909888632595539,
          0.04198020603507757,
          0.038405322935432196,
          0.14593453146517277,
          0.08658690191805363,
          0.05807376466691494,
          0.04155116993933916,
          0.03807287057861686,
          0.14190158061683178,
          0.08448444120585918,
          0.056985688395798206,
          0.041069427505135536,
          0.037698966450989246,
          0.13782920688390732,
          0.08232111856341362,
          0.055833191610872746,
          0.04053671285510063,
          0.03729509096592665,
          0.1335723865777254,
          0.08005629386752844,
          0.05459924787282944,
          0.039950462989509106,
          0.03685304336249828
         ]
        },
        {
         "line": {
          "color": "orange"
         },
         "marker": {
          "size": 5
         },
         "mode": "lines+markers",
         "name": "Validation Loss",
         "type": "scatter",
         "y": [
          4.077516973018646,
          1.1395307332277298,
          0.6421279832720757,
          0.3859001435339451,
          0.3627777360379696,
          0.22444709576666355,
          0.2330340575426817,
          0.19027910567820072,
          0.17644517123699188,
          0.16058674175292253,
          0.15499326307326555,
          0.14273611921817064,
          0.13735364470630884,
          0.1300838179886341,
          0.12762078549712896,
          0.1237037405371666,
          0.11756908800452948,
          0.11371985822916031,
          0.11113689187914133,
          0.1097142780199647,
          0.10846171248704195,
          0.10480791376903653,
          0.10249424399808049,
          0.10109177464619279,
          0.10002566687762737,
          0.09844850795343518,
          0.09680979838594794,
          0.09561975440010428,
          0.09491174761205912,
          0.09457716532051563,
          0.09380318084731698,
          0.0928022563457489,
          0.0920238746330142,
          0.09146623592823744,
          0.09118958842009306,
          0.090671063400805,
          0.08986095990985632,
          0.0890314755961299,
          0.08852073550224304,
          0.08826408814638853,
          0.08780826069414616,
          0.08707690052688122,
          0.08623510878533125,
          0.08575743716210127,
          0.08552757743746042,
          0.08508725743740797,
          0.0844156900420785,
          0.08360095135867596,
          0.08314946014434099,
          0.08293464779853821,
          0.08257790189236403,
          0.08214210253208876,
          0.08188525401055813,
          0.0815626559779048,
          0.08142532361671329,
          0.08113209903240204,
          0.08067214209586382,
          0.08032812271267176,
          0.08004823233932257,
          0.07990327477455139,
          0.07960665924474597,
          0.07917225267738104,
          0.07884150091558695,
          0.07855631783604622,
          0.07840405870229006,
          0.0781092825345695,
          0.077676588203758,
          0.07734926929697394,
          0.07705898256972432,
          0.07689861906692386,
          0.07660391554236412,
          0.07616842910647392,
          0.07583710737526417,
          0.07553813606500626,
          0.07536764908581972,
          0.0750636588782072,
          0.07462040754035115,
          0.07427904568612576,
          0.07396303350105882,
          0.0737809669226408,
          0.07345668971538544,
          0.07300578569993377,
          0.07264444418251514,
          0.0723132356069982,
          0.07213277323171496,
          0.0717871212400496,
          0.07132119406014681,
          0.07093317806720734,
          0.07060162117704749,
          0.07042833510786295,
          0.07005978049710393,
          0.06956639233976603,
          0.06913156062364578,
          0.06880465149879456,
          0.06862572859972715,
          0.06823145691305399,
          0.0677197827026248,
          0.0672447788529098,
          0.06692269165068865,
          0.06672493321821094
         ]
        },
        {
         "line": {
          "color": "red",
          "dash": "dash"
         },
         "marker": {
          "size": 5
         },
         "mode": "lines+markers",
         "name": "Learning Rate",
         "type": "scatter",
         "y": [
          0.001,
          0.001,
          0.001,
          0.001,
          0.001,
          0.001,
          0.001,
          0.001,
          0.001,
          0.001,
          0.0006,
          0.0006,
          0.0006,
          0.0006,
          0.0006,
          0.0006,
          0.0006,
          0.0006,
          0.0006,
          0.0006
         ]
        }
       ],
       "layout": {
        "legend": {
         "title": {
          "text": "Metrics"
         }
        },
        "template": {
         "data": {
          "bar": [
           {
            "error_x": {
             "color": "#2a3f5f"
            },
            "error_y": {
             "color": "#2a3f5f"
            },
            "marker": {
             "line": {
              "color": "#E5ECF6",
              "width": 0.5
             },
             "pattern": {
              "fillmode": "overlay",
              "size": 10,
              "solidity": 0.2
             }
            },
            "type": "bar"
           }
          ],
          "barpolar": [
           {
            "marker": {
             "line": {
              "color": "#E5ECF6",
              "width": 0.5
             },
             "pattern": {
              "fillmode": "overlay",
              "size": 10,
              "solidity": 0.2
             }
            },
            "type": "barpolar"
           }
          ],
          "carpet": [
           {
            "aaxis": {
             "endlinecolor": "#2a3f5f",
             "gridcolor": "white",
             "linecolor": "white",
             "minorgridcolor": "white",
             "startlinecolor": "#2a3f5f"
            },
            "baxis": {
             "endlinecolor": "#2a3f5f",
             "gridcolor": "white",
             "linecolor": "white",
             "minorgridcolor": "white",
             "startlinecolor": "#2a3f5f"
            },
            "type": "carpet"
           }
          ],
          "choropleth": [
           {
            "colorbar": {
             "outlinewidth": 0,
             "ticks": ""
            },
            "type": "choropleth"
           }
          ],
          "contour": [
           {
            "colorbar": {
             "outlinewidth": 0,
             "ticks": ""
            },
            "colorscale": [
             [
              0,
              "#0d0887"
             ],
             [
              0.1111111111111111,
              "#46039f"
             ],
             [
              0.2222222222222222,
              "#7201a8"
             ],
             [
              0.3333333333333333,
              "#9c179e"
             ],
             [
              0.4444444444444444,
              "#bd3786"
             ],
             [
              0.5555555555555556,
              "#d8576b"
             ],
             [
              0.6666666666666666,
              "#ed7953"
             ],
             [
              0.7777777777777778,
              "#fb9f3a"
             ],
             [
              0.8888888888888888,
              "#fdca26"
             ],
             [
              1,
              "#f0f921"
             ]
            ],
            "type": "contour"
           }
          ],
          "contourcarpet": [
           {
            "colorbar": {
             "outlinewidth": 0,
             "ticks": ""
            },
            "type": "contourcarpet"
           }
          ],
          "heatmap": [
           {
            "colorbar": {
             "outlinewidth": 0,
             "ticks": ""
            },
            "colorscale": [
             [
              0,
              "#0d0887"
             ],
             [
              0.1111111111111111,
              "#46039f"
             ],
             [
              0.2222222222222222,
              "#7201a8"
             ],
             [
              0.3333333333333333,
              "#9c179e"
             ],
             [
              0.4444444444444444,
              "#bd3786"
             ],
             [
              0.5555555555555556,
              "#d8576b"
             ],
             [
              0.6666666666666666,
              "#ed7953"
             ],
             [
              0.7777777777777778,
              "#fb9f3a"
             ],
             [
              0.8888888888888888,
              "#fdca26"
             ],
             [
              1,
              "#f0f921"
             ]
            ],
            "type": "heatmap"
           }
          ],
          "heatmapgl": [
           {
            "colorbar": {
             "outlinewidth": 0,
             "ticks": ""
            },
            "colorscale": [
             [
              0,
              "#0d0887"
             ],
             [
              0.1111111111111111,
              "#46039f"
             ],
             [
              0.2222222222222222,
              "#7201a8"
             ],
             [
              0.3333333333333333,
              "#9c179e"
             ],
             [
              0.4444444444444444,
              "#bd3786"
             ],
             [
              0.5555555555555556,
              "#d8576b"
             ],
             [
              0.6666666666666666,
              "#ed7953"
             ],
             [
              0.7777777777777778,
              "#fb9f3a"
             ],
             [
              0.8888888888888888,
              "#fdca26"
             ],
             [
              1,
              "#f0f921"
             ]
            ],
            "type": "heatmapgl"
           }
          ],
          "histogram": [
           {
            "marker": {
             "pattern": {
              "fillmode": "overlay",
              "size": 10,
              "solidity": 0.2
             }
            },
            "type": "histogram"
           }
          ],
          "histogram2d": [
           {
            "colorbar": {
             "outlinewidth": 0,
             "ticks": ""
            },
            "colorscale": [
             [
              0,
              "#0d0887"
             ],
             [
              0.1111111111111111,
              "#46039f"
             ],
             [
              0.2222222222222222,
              "#7201a8"
             ],
             [
              0.3333333333333333,
              "#9c179e"
             ],
             [
              0.4444444444444444,
              "#bd3786"
             ],
             [
              0.5555555555555556,
              "#d8576b"
             ],
             [
              0.6666666666666666,
              "#ed7953"
             ],
             [
              0.7777777777777778,
              "#fb9f3a"
             ],
             [
              0.8888888888888888,
              "#fdca26"
             ],
             [
              1,
              "#f0f921"
             ]
            ],
            "type": "histogram2d"
           }
          ],
          "histogram2dcontour": [
           {
            "colorbar": {
             "outlinewidth": 0,
             "ticks": ""
            },
            "colorscale": [
             [
              0,
              "#0d0887"
             ],
             [
              0.1111111111111111,
              "#46039f"
             ],
             [
              0.2222222222222222,
              "#7201a8"
             ],
             [
              0.3333333333333333,
              "#9c179e"
             ],
             [
              0.4444444444444444,
              "#bd3786"
             ],
             [
              0.5555555555555556,
              "#d8576b"
             ],
             [
              0.6666666666666666,
              "#ed7953"
             ],
             [
              0.7777777777777778,
              "#fb9f3a"
             ],
             [
              0.8888888888888888,
              "#fdca26"
             ],
             [
              1,
              "#f0f921"
             ]
            ],
            "type": "histogram2dcontour"
           }
          ],
          "mesh3d": [
           {
            "colorbar": {
             "outlinewidth": 0,
             "ticks": ""
            },
            "type": "mesh3d"
           }
          ],
          "parcoords": [
           {
            "line": {
             "colorbar": {
              "outlinewidth": 0,
              "ticks": ""
             }
            },
            "type": "parcoords"
           }
          ],
          "pie": [
           {
            "automargin": true,
            "type": "pie"
           }
          ],
          "scatter": [
           {
            "fillpattern": {
             "fillmode": "overlay",
             "size": 10,
             "solidity": 0.2
            },
            "type": "scatter"
           }
          ],
          "scatter3d": [
           {
            "line": {
             "colorbar": {
              "outlinewidth": 0,
              "ticks": ""
             }
            },
            "marker": {
             "colorbar": {
              "outlinewidth": 0,
              "ticks": ""
             }
            },
            "type": "scatter3d"
           }
          ],
          "scattercarpet": [
           {
            "marker": {
             "colorbar": {
              "outlinewidth": 0,
              "ticks": ""
             }
            },
            "type": "scattercarpet"
           }
          ],
          "scattergeo": [
           {
            "marker": {
             "colorbar": {
              "outlinewidth": 0,
              "ticks": ""
             }
            },
            "type": "scattergeo"
           }
          ],
          "scattergl": [
           {
            "marker": {
             "colorbar": {
              "outlinewidth": 0,
              "ticks": ""
             }
            },
            "type": "scattergl"
           }
          ],
          "scattermapbox": [
           {
            "marker": {
             "colorbar": {
              "outlinewidth": 0,
              "ticks": ""
             }
            },
            "type": "scattermapbox"
           }
          ],
          "scatterpolar": [
           {
            "marker": {
             "colorbar": {
              "outlinewidth": 0,
              "ticks": ""
             }
            },
            "type": "scatterpolar"
           }
          ],
          "scatterpolargl": [
           {
            "marker": {
             "colorbar": {
              "outlinewidth": 0,
              "ticks": ""
             }
            },
            "type": "scatterpolargl"
           }
          ],
          "scatterternary": [
           {
            "marker": {
             "colorbar": {
              "outlinewidth": 0,
              "ticks": ""
             }
            },
            "type": "scatterternary"
           }
          ],
          "surface": [
           {
            "colorbar": {
             "outlinewidth": 0,
             "ticks": ""
            },
            "colorscale": [
             [
              0,
              "#0d0887"
             ],
             [
              0.1111111111111111,
              "#46039f"
             ],
             [
              0.2222222222222222,
              "#7201a8"
             ],
             [
              0.3333333333333333,
              "#9c179e"
             ],
             [
              0.4444444444444444,
              "#bd3786"
             ],
             [
              0.5555555555555556,
              "#d8576b"
             ],
             [
              0.6666666666666666,
              "#ed7953"
             ],
             [
              0.7777777777777778,
              "#fb9f3a"
             ],
             [
              0.8888888888888888,
              "#fdca26"
             ],
             [
              1,
              "#f0f921"
             ]
            ],
            "type": "surface"
           }
          ],
          "table": [
           {
            "cells": {
             "fill": {
              "color": "#EBF0F8"
             },
             "line": {
              "color": "white"
             }
            },
            "header": {
             "fill": {
              "color": "#C8D4E3"
             },
             "line": {
              "color": "white"
             }
            },
            "type": "table"
           }
          ]
         },
         "layout": {
          "annotationdefaults": {
           "arrowcolor": "#2a3f5f",
           "arrowhead": 0,
           "arrowwidth": 1
          },
          "autotypenumbers": "strict",
          "coloraxis": {
           "colorbar": {
            "outlinewidth": 0,
            "ticks": ""
           }
          },
          "colorscale": {
           "diverging": [
            [
             0,
             "#8e0152"
            ],
            [
             0.1,
             "#c51b7d"
            ],
            [
             0.2,
             "#de77ae"
            ],
            [
             0.3,
             "#f1b6da"
            ],
            [
             0.4,
             "#fde0ef"
            ],
            [
             0.5,
             "#f7f7f7"
            ],
            [
             0.6,
             "#e6f5d0"
            ],
            [
             0.7,
             "#b8e186"
            ],
            [
             0.8,
             "#7fbc41"
            ],
            [
             0.9,
             "#4d9221"
            ],
            [
             1,
             "#276419"
            ]
           ],
           "sequential": [
            [
             0,
             "#0d0887"
            ],
            [
             0.1111111111111111,
             "#46039f"
            ],
            [
             0.2222222222222222,
             "#7201a8"
            ],
            [
             0.3333333333333333,
             "#9c179e"
            ],
            [
             0.4444444444444444,
             "#bd3786"
            ],
            [
             0.5555555555555556,
             "#d8576b"
            ],
            [
             0.6666666666666666,
             "#ed7953"
            ],
            [
             0.7777777777777778,
             "#fb9f3a"
            ],
            [
             0.8888888888888888,
             "#fdca26"
            ],
            [
             1,
             "#f0f921"
            ]
           ],
           "sequentialminus": [
            [
             0,
             "#0d0887"
            ],
            [
             0.1111111111111111,
             "#46039f"
            ],
            [
             0.2222222222222222,
             "#7201a8"
            ],
            [
             0.3333333333333333,
             "#9c179e"
            ],
            [
             0.4444444444444444,
             "#bd3786"
            ],
            [
             0.5555555555555556,
             "#d8576b"
            ],
            [
             0.6666666666666666,
             "#ed7953"
            ],
            [
             0.7777777777777778,
             "#fb9f3a"
            ],
            [
             0.8888888888888888,
             "#fdca26"
            ],
            [
             1,
             "#f0f921"
            ]
           ]
          },
          "colorway": [
           "#636efa",
           "#EF553B",
           "#00cc96",
           "#ab63fa",
           "#FFA15A",
           "#19d3f3",
           "#FF6692",
           "#B6E880",
           "#FF97FF",
           "#FECB52"
          ],
          "font": {
           "color": "#2a3f5f"
          },
          "geo": {
           "bgcolor": "white",
           "lakecolor": "white",
           "landcolor": "#E5ECF6",
           "showlakes": true,
           "showland": true,
           "subunitcolor": "white"
          },
          "hoverlabel": {
           "align": "left"
          },
          "hovermode": "closest",
          "mapbox": {
           "style": "light"
          },
          "paper_bgcolor": "white",
          "plot_bgcolor": "#E5ECF6",
          "polar": {
           "angularaxis": {
            "gridcolor": "white",
            "linecolor": "white",
            "ticks": ""
           },
           "bgcolor": "#E5ECF6",
           "radialaxis": {
            "gridcolor": "white",
            "linecolor": "white",
            "ticks": ""
           }
          },
          "scene": {
           "xaxis": {
            "backgroundcolor": "#E5ECF6",
            "gridcolor": "white",
            "gridwidth": 2,
            "linecolor": "white",
            "showbackground": true,
            "ticks": "",
            "zerolinecolor": "white"
           },
           "yaxis": {
            "backgroundcolor": "#E5ECF6",
            "gridcolor": "white",
            "gridwidth": 2,
            "linecolor": "white",
            "showbackground": true,
            "ticks": "",
            "zerolinecolor": "white"
           },
           "zaxis": {
            "backgroundcolor": "#E5ECF6",
            "gridcolor": "white",
            "gridwidth": 2,
            "linecolor": "white",
            "showbackground": true,
            "ticks": "",
            "zerolinecolor": "white"
           }
          },
          "shapedefaults": {
           "line": {
            "color": "#2a3f5f"
           }
          },
          "ternary": {
           "aaxis": {
            "gridcolor": "white",
            "linecolor": "white",
            "ticks": ""
           },
           "baxis": {
            "gridcolor": "white",
            "linecolor": "white",
            "ticks": ""
           },
           "bgcolor": "#E5ECF6",
           "caxis": {
            "gridcolor": "white",
            "linecolor": "white",
            "ticks": ""
           }
          },
          "title": {
           "x": 0.05
          },
          "xaxis": {
           "automargin": true,
           "gridcolor": "white",
           "linecolor": "white",
           "ticks": "",
           "title": {
            "standoff": 15
           },
           "zerolinecolor": "white",
           "zerolinewidth": 2
          },
          "yaxis": {
           "automargin": true,
           "gridcolor": "white",
           "linecolor": "white",
           "ticks": "",
           "title": {
            "standoff": 15
           },
           "zerolinecolor": "white",
           "zerolinewidth": 2
          }
         }
        },
        "title": {
         "text": "Training Loss and Learning Rate Curve"
        },
        "xaxis": {
         "title": {
          "text": "Epoch"
         }
        },
        "yaxis": {
         "title": {
          "text": "Value"
         }
        }
       }
      }
     },
     "metadata": {},
     "output_type": "display_data"
    }
   ],
   "source": [
    "import plotly.graph_objects as go\n",
    "\n",
    "# 创建 Figure\n",
    "fig = go.Figure()\n",
    "\n",
    "# 添加损失曲线\n",
    "fig.add_trace(go.Scatter(\n",
    "    y=train_losses, \n",
    "    mode='lines+markers', \n",
    "    name='Training Loss',\n",
    "    line=dict(color='blue'),\n",
    "    marker=dict(size=5)\n",
    "))\n",
    "\n",
    "# 添加损失曲线\n",
    "fig.add_trace(go.Scatter(\n",
    "    y=val_losses, \n",
    "    mode='lines+markers', \n",
    "    name='Validation Loss',\n",
    "    line=dict(color='orange'),\n",
    "    marker=dict(size=5)\n",
    "))\n",
    "\n",
    "# 添加学习率曲线\n",
    "fig.add_trace(go.Scatter(\n",
    "    y=learning_rates, \n",
    "    mode='lines+markers', \n",
    "    name='Learning Rate',\n",
    "    line=dict(color='red', dash='dash'),  # 使用虚线\n",
    "    marker=dict(size=5)\n",
    "))\n",
    "\n",
    "# 更新布局\n",
    "fig.update_layout(\n",
    "    title='Training Loss and Learning Rate Curve',\n",
    "    xaxis_title='Epoch',\n",
    "    yaxis_title='Value',\n",
    "    legend_title='Metrics',\n",
    "    template='plotly'\n",
    ")\n",
    "\n",
    "# 显示图表\n",
    "fig.show()"
   ]
  },
  {
   "cell_type": "markdown",
   "metadata": {},
   "source": [
    "## Inference data"
   ]
  },
  {
   "cell_type": "code",
   "execution_count": 12,
   "metadata": {},
   "outputs": [
    {
     "data": {
      "application/vnd.plotly.v1+json": {
       "config": {
        "plotlyServerURL": "https://plot.ly"
       },
       "data": [
        {
         "mode": "lines",
         "name": "Noisy Signal",
         "type": "scatter",
         "y": [
          1.2036491632461548,
          1.2674058675765991,
          1.701287865638733,
          1.45326566696167,
          1.3166157007217407,
          1.3213262557983398,
          1.235992431640625,
          1.566384196281433,
          1.5288480520248413,
          1.5255966186523438,
          1.773788571357727,
          1.2571147680282593,
          1.1850006580352783,
          1.592082142829895,
          1.211349368095398,
          1.2499405145645142,
          1.0436792373657227,
          1.6370258331298828,
          1.472751498222351,
          1.0055181980133057,
          1.0405550003051758,
          1.267116665840149,
          1.0672532320022583,
          0.8452443480491638,
          1.1928513050079346,
          0.9971051216125488,
          0.8737791776657104,
          0.7557989358901978,
          1.1219346523284912,
          0.8034244775772095,
          0.8436875939369202,
          0.6447744965553284,
          0.8128275871276855,
          0.6948518753051758,
          0.7688133120536804,
          0.6046918630599976,
          0.9947900772094727,
          0.5876637101173401,
          0.8387691974639893,
          0.6832627058029175,
          0.7986095547676086,
          0.6792572736740112,
          0.3676770031452179,
          0.4089050889015198,
          0.12859347462654114,
          0.4787033796310425,
          0.24818909168243408,
          0.3643351197242737,
          0.15543095767498016,
          0.3697360157966614
         ]
        },
        {
         "mode": "lines",
         "name": "Clean Signal",
         "type": "scatter",
         "y": [
          1.4076659679412842,
          1.4101794958114624,
          1.411427617073059,
          1.4114094972610474,
          1.4101248979568481,
          1.407575249671936,
          1.4037625789642334,
          1.3986903429031372,
          1.3923630714416504,
          1.3847867250442505,
          1.3759677410125732,
          1.3659141063690186,
          1.3546348810195923,
          1.3421400785446167,
          1.3284410238265991,
          1.3135498762130737,
          1.2974801063537598,
          1.2802457809448242,
          1.2618627548217773,
          1.242347240447998,
          1.2217168807983398,
          1.199989914894104,
          1.1771858930587769,
          1.1533254384994507,
          1.128429651260376,
          1.1025210618972778,
          1.0756226778030396,
          1.0477585792541504,
          1.0189540386199951,
          0.9892343282699585,
          0.9586266875267029,
          0.9271579384803772,
          0.8948567509651184,
          0.8617516756057739,
          0.8278724551200867,
          0.793249785900116,
          0.7579140663146973,
          0.7218976020812988,
          0.6852320432662964,
          0.6479507088661194,
          0.6100865602493286,
          0.5716737508773804,
          0.5327469110488892,
          0.4933403432369232,
          0.4534900188446045,
          0.41323092579841614,
          0.37259945273399353,
          0.3316323161125183,
          0.2903655767440796,
          0.24883683025836945
         ]
        },
        {
         "mode": "lines",
         "name": "Denoised Signal",
         "type": "scatter",
         "y": [
          0.23800028860569,
          0.6579592227935791,
          1.0668185949325562,
          1.2765405178070068,
          1.330719232559204,
          1.3295133113861084,
          1.3065590858459473,
          1.335263967514038,
          1.3707332611083984,
          1.4025037288665771,
          1.4614248275756836,
          1.447786808013916,
          1.4058436155319214,
          1.41802978515625,
          1.3911659717559814,
          1.363288402557373,
          1.309245228767395,
          1.3415777683258057,
          1.370451807975769,
          1.3280985355377197,
          1.274996042251587,
          1.2594666481018066,
          1.2284085750579834,
          1.163514494895935,
          1.1514251232147217,
          1.1277596950531006,
          1.084888219833374,
          1.02227783203125,
          1.0228585004806519,
          0.9925339221954346,
          0.9633647203445435,
          0.9045566320419312,
          0.873214066028595,
          0.8361727595329285,
          0.8163584470748901,
          0.7766259908676147,
          0.8066068887710571,
          0.7842617034912109,
          0.7913167476654053,
          0.7797102928161621,
          0.7841060757637024,
          0.7719458341598511,
          0.6975447535514832,
          0.6172291040420532,
          0.4919208884239197,
          0.43684959411621094,
          0.37557584047317505,
          0.34622645378112793,
          0.29261404275894165,
          0.2828832268714905
         ]
        }
       ],
       "layout": {
        "legend": {
         "title": {
          "text": "Signal Type"
         }
        },
        "template": {
         "data": {
          "bar": [
           {
            "error_x": {
             "color": "#2a3f5f"
            },
            "error_y": {
             "color": "#2a3f5f"
            },
            "marker": {
             "line": {
              "color": "#E5ECF6",
              "width": 0.5
             },
             "pattern": {
              "fillmode": "overlay",
              "size": 10,
              "solidity": 0.2
             }
            },
            "type": "bar"
           }
          ],
          "barpolar": [
           {
            "marker": {
             "line": {
              "color": "#E5ECF6",
              "width": 0.5
             },
             "pattern": {
              "fillmode": "overlay",
              "size": 10,
              "solidity": 0.2
             }
            },
            "type": "barpolar"
           }
          ],
          "carpet": [
           {
            "aaxis": {
             "endlinecolor": "#2a3f5f",
             "gridcolor": "white",
             "linecolor": "white",
             "minorgridcolor": "white",
             "startlinecolor": "#2a3f5f"
            },
            "baxis": {
             "endlinecolor": "#2a3f5f",
             "gridcolor": "white",
             "linecolor": "white",
             "minorgridcolor": "white",
             "startlinecolor": "#2a3f5f"
            },
            "type": "carpet"
           }
          ],
          "choropleth": [
           {
            "colorbar": {
             "outlinewidth": 0,
             "ticks": ""
            },
            "type": "choropleth"
           }
          ],
          "contour": [
           {
            "colorbar": {
             "outlinewidth": 0,
             "ticks": ""
            },
            "colorscale": [
             [
              0,
              "#0d0887"
             ],
             [
              0.1111111111111111,
              "#46039f"
             ],
             [
              0.2222222222222222,
              "#7201a8"
             ],
             [
              0.3333333333333333,
              "#9c179e"
             ],
             [
              0.4444444444444444,
              "#bd3786"
             ],
             [
              0.5555555555555556,
              "#d8576b"
             ],
             [
              0.6666666666666666,
              "#ed7953"
             ],
             [
              0.7777777777777778,
              "#fb9f3a"
             ],
             [
              0.8888888888888888,
              "#fdca26"
             ],
             [
              1,
              "#f0f921"
             ]
            ],
            "type": "contour"
           }
          ],
          "contourcarpet": [
           {
            "colorbar": {
             "outlinewidth": 0,
             "ticks": ""
            },
            "type": "contourcarpet"
           }
          ],
          "heatmap": [
           {
            "colorbar": {
             "outlinewidth": 0,
             "ticks": ""
            },
            "colorscale": [
             [
              0,
              "#0d0887"
             ],
             [
              0.1111111111111111,
              "#46039f"
             ],
             [
              0.2222222222222222,
              "#7201a8"
             ],
             [
              0.3333333333333333,
              "#9c179e"
             ],
             [
              0.4444444444444444,
              "#bd3786"
             ],
             [
              0.5555555555555556,
              "#d8576b"
             ],
             [
              0.6666666666666666,
              "#ed7953"
             ],
             [
              0.7777777777777778,
              "#fb9f3a"
             ],
             [
              0.8888888888888888,
              "#fdca26"
             ],
             [
              1,
              "#f0f921"
             ]
            ],
            "type": "heatmap"
           }
          ],
          "heatmapgl": [
           {
            "colorbar": {
             "outlinewidth": 0,
             "ticks": ""
            },
            "colorscale": [
             [
              0,
              "#0d0887"
             ],
             [
              0.1111111111111111,
              "#46039f"
             ],
             [
              0.2222222222222222,
              "#7201a8"
             ],
             [
              0.3333333333333333,
              "#9c179e"
             ],
             [
              0.4444444444444444,
              "#bd3786"
             ],
             [
              0.5555555555555556,
              "#d8576b"
             ],
             [
              0.6666666666666666,
              "#ed7953"
             ],
             [
              0.7777777777777778,
              "#fb9f3a"
             ],
             [
              0.8888888888888888,
              "#fdca26"
             ],
             [
              1,
              "#f0f921"
             ]
            ],
            "type": "heatmapgl"
           }
          ],
          "histogram": [
           {
            "marker": {
             "pattern": {
              "fillmode": "overlay",
              "size": 10,
              "solidity": 0.2
             }
            },
            "type": "histogram"
           }
          ],
          "histogram2d": [
           {
            "colorbar": {
             "outlinewidth": 0,
             "ticks": ""
            },
            "colorscale": [
             [
              0,
              "#0d0887"
             ],
             [
              0.1111111111111111,
              "#46039f"
             ],
             [
              0.2222222222222222,
              "#7201a8"
             ],
             [
              0.3333333333333333,
              "#9c179e"
             ],
             [
              0.4444444444444444,
              "#bd3786"
             ],
             [
              0.5555555555555556,
              "#d8576b"
             ],
             [
              0.6666666666666666,
              "#ed7953"
             ],
             [
              0.7777777777777778,
              "#fb9f3a"
             ],
             [
              0.8888888888888888,
              "#fdca26"
             ],
             [
              1,
              "#f0f921"
             ]
            ],
            "type": "histogram2d"
           }
          ],
          "histogram2dcontour": [
           {
            "colorbar": {
             "outlinewidth": 0,
             "ticks": ""
            },
            "colorscale": [
             [
              0,
              "#0d0887"
             ],
             [
              0.1111111111111111,
              "#46039f"
             ],
             [
              0.2222222222222222,
              "#7201a8"
             ],
             [
              0.3333333333333333,
              "#9c179e"
             ],
             [
              0.4444444444444444,
              "#bd3786"
             ],
             [
              0.5555555555555556,
              "#d8576b"
             ],
             [
              0.6666666666666666,
              "#ed7953"
             ],
             [
              0.7777777777777778,
              "#fb9f3a"
             ],
             [
              0.8888888888888888,
              "#fdca26"
             ],
             [
              1,
              "#f0f921"
             ]
            ],
            "type": "histogram2dcontour"
           }
          ],
          "mesh3d": [
           {
            "colorbar": {
             "outlinewidth": 0,
             "ticks": ""
            },
            "type": "mesh3d"
           }
          ],
          "parcoords": [
           {
            "line": {
             "colorbar": {
              "outlinewidth": 0,
              "ticks": ""
             }
            },
            "type": "parcoords"
           }
          ],
          "pie": [
           {
            "automargin": true,
            "type": "pie"
           }
          ],
          "scatter": [
           {
            "fillpattern": {
             "fillmode": "overlay",
             "size": 10,
             "solidity": 0.2
            },
            "type": "scatter"
           }
          ],
          "scatter3d": [
           {
            "line": {
             "colorbar": {
              "outlinewidth": 0,
              "ticks": ""
             }
            },
            "marker": {
             "colorbar": {
              "outlinewidth": 0,
              "ticks": ""
             }
            },
            "type": "scatter3d"
           }
          ],
          "scattercarpet": [
           {
            "marker": {
             "colorbar": {
              "outlinewidth": 0,
              "ticks": ""
             }
            },
            "type": "scattercarpet"
           }
          ],
          "scattergeo": [
           {
            "marker": {
             "colorbar": {
              "outlinewidth": 0,
              "ticks": ""
             }
            },
            "type": "scattergeo"
           }
          ],
          "scattergl": [
           {
            "marker": {
             "colorbar": {
              "outlinewidth": 0,
              "ticks": ""
             }
            },
            "type": "scattergl"
           }
          ],
          "scattermapbox": [
           {
            "marker": {
             "colorbar": {
              "outlinewidth": 0,
              "ticks": ""
             }
            },
            "type": "scattermapbox"
           }
          ],
          "scatterpolar": [
           {
            "marker": {
             "colorbar": {
              "outlinewidth": 0,
              "ticks": ""
             }
            },
            "type": "scatterpolar"
           }
          ],
          "scatterpolargl": [
           {
            "marker": {
             "colorbar": {
              "outlinewidth": 0,
              "ticks": ""
             }
            },
            "type": "scatterpolargl"
           }
          ],
          "scatterternary": [
           {
            "marker": {
             "colorbar": {
              "outlinewidth": 0,
              "ticks": ""
             }
            },
            "type": "scatterternary"
           }
          ],
          "surface": [
           {
            "colorbar": {
             "outlinewidth": 0,
             "ticks": ""
            },
            "colorscale": [
             [
              0,
              "#0d0887"
             ],
             [
              0.1111111111111111,
              "#46039f"
             ],
             [
              0.2222222222222222,
              "#7201a8"
             ],
             [
              0.3333333333333333,
              "#9c179e"
             ],
             [
              0.4444444444444444,
              "#bd3786"
             ],
             [
              0.5555555555555556,
              "#d8576b"
             ],
             [
              0.6666666666666666,
              "#ed7953"
             ],
             [
              0.7777777777777778,
              "#fb9f3a"
             ],
             [
              0.8888888888888888,
              "#fdca26"
             ],
             [
              1,
              "#f0f921"
             ]
            ],
            "type": "surface"
           }
          ],
          "table": [
           {
            "cells": {
             "fill": {
              "color": "#EBF0F8"
             },
             "line": {
              "color": "white"
             }
            },
            "header": {
             "fill": {
              "color": "#C8D4E3"
             },
             "line": {
              "color": "white"
             }
            },
            "type": "table"
           }
          ]
         },
         "layout": {
          "annotationdefaults": {
           "arrowcolor": "#2a3f5f",
           "arrowhead": 0,
           "arrowwidth": 1
          },
          "autotypenumbers": "strict",
          "coloraxis": {
           "colorbar": {
            "outlinewidth": 0,
            "ticks": ""
           }
          },
          "colorscale": {
           "diverging": [
            [
             0,
             "#8e0152"
            ],
            [
             0.1,
             "#c51b7d"
            ],
            [
             0.2,
             "#de77ae"
            ],
            [
             0.3,
             "#f1b6da"
            ],
            [
             0.4,
             "#fde0ef"
            ],
            [
             0.5,
             "#f7f7f7"
            ],
            [
             0.6,
             "#e6f5d0"
            ],
            [
             0.7,
             "#b8e186"
            ],
            [
             0.8,
             "#7fbc41"
            ],
            [
             0.9,
             "#4d9221"
            ],
            [
             1,
             "#276419"
            ]
           ],
           "sequential": [
            [
             0,
             "#0d0887"
            ],
            [
             0.1111111111111111,
             "#46039f"
            ],
            [
             0.2222222222222222,
             "#7201a8"
            ],
            [
             0.3333333333333333,
             "#9c179e"
            ],
            [
             0.4444444444444444,
             "#bd3786"
            ],
            [
             0.5555555555555556,
             "#d8576b"
            ],
            [
             0.6666666666666666,
             "#ed7953"
            ],
            [
             0.7777777777777778,
             "#fb9f3a"
            ],
            [
             0.8888888888888888,
             "#fdca26"
            ],
            [
             1,
             "#f0f921"
            ]
           ],
           "sequentialminus": [
            [
             0,
             "#0d0887"
            ],
            [
             0.1111111111111111,
             "#46039f"
            ],
            [
             0.2222222222222222,
             "#7201a8"
            ],
            [
             0.3333333333333333,
             "#9c179e"
            ],
            [
             0.4444444444444444,
             "#bd3786"
            ],
            [
             0.5555555555555556,
             "#d8576b"
            ],
            [
             0.6666666666666666,
             "#ed7953"
            ],
            [
             0.7777777777777778,
             "#fb9f3a"
            ],
            [
             0.8888888888888888,
             "#fdca26"
            ],
            [
             1,
             "#f0f921"
            ]
           ]
          },
          "colorway": [
           "#636efa",
           "#EF553B",
           "#00cc96",
           "#ab63fa",
           "#FFA15A",
           "#19d3f3",
           "#FF6692",
           "#B6E880",
           "#FF97FF",
           "#FECB52"
          ],
          "font": {
           "color": "#2a3f5f"
          },
          "geo": {
           "bgcolor": "white",
           "lakecolor": "white",
           "landcolor": "#E5ECF6",
           "showlakes": true,
           "showland": true,
           "subunitcolor": "white"
          },
          "hoverlabel": {
           "align": "left"
          },
          "hovermode": "closest",
          "mapbox": {
           "style": "light"
          },
          "paper_bgcolor": "white",
          "plot_bgcolor": "#E5ECF6",
          "polar": {
           "angularaxis": {
            "gridcolor": "white",
            "linecolor": "white",
            "ticks": ""
           },
           "bgcolor": "#E5ECF6",
           "radialaxis": {
            "gridcolor": "white",
            "linecolor": "white",
            "ticks": ""
           }
          },
          "scene": {
           "xaxis": {
            "backgroundcolor": "#E5ECF6",
            "gridcolor": "white",
            "gridwidth": 2,
            "linecolor": "white",
            "showbackground": true,
            "ticks": "",
            "zerolinecolor": "white"
           },
           "yaxis": {
            "backgroundcolor": "#E5ECF6",
            "gridcolor": "white",
            "gridwidth": 2,
            "linecolor": "white",
            "showbackground": true,
            "ticks": "",
            "zerolinecolor": "white"
           },
           "zaxis": {
            "backgroundcolor": "#E5ECF6",
            "gridcolor": "white",
            "gridwidth": 2,
            "linecolor": "white",
            "showbackground": true,
            "ticks": "",
            "zerolinecolor": "white"
           }
          },
          "shapedefaults": {
           "line": {
            "color": "#2a3f5f"
           }
          },
          "ternary": {
           "aaxis": {
            "gridcolor": "white",
            "linecolor": "white",
            "ticks": ""
           },
           "baxis": {
            "gridcolor": "white",
            "linecolor": "white",
            "ticks": ""
           },
           "bgcolor": "#E5ECF6",
           "caxis": {
            "gridcolor": "white",
            "linecolor": "white",
            "ticks": ""
           }
          },
          "title": {
           "x": 0.05
          },
          "xaxis": {
           "automargin": true,
           "gridcolor": "white",
           "linecolor": "white",
           "ticks": "",
           "title": {
            "standoff": 15
           },
           "zerolinecolor": "white",
           "zerolinewidth": 2
          },
          "yaxis": {
           "automargin": true,
           "gridcolor": "white",
           "linecolor": "white",
           "ticks": "",
           "title": {
            "standoff": 15
           },
           "zerolinecolor": "white",
           "zerolinewidth": 2
          }
         }
        },
        "title": {
         "text": "Denoised vs Clean Signal"
        },
        "xaxis": {
         "title": {
          "text": "Time Step"
         }
        },
        "yaxis": {
         "title": {
          "text": "Signal Value"
         }
        }
       }
      }
     },
     "metadata": {},
     "output_type": "display_data"
    }
   ],
   "source": [
    "# 加载模型\n",
    "device = torch.device(\"cuda\" if torch.cuda.is_available() else \"cpu\")\n",
    "\n",
    "# 假设你有一个定义好的模型类\n",
    "model = LSTMDenoiser(input_size=1, hidden_size=128, num_layers=2)\n",
    "model.to(device)\n",
    "\n",
    "# 加载已训练的模型权重\n",
    "checkpoint = torch.load(\"models/best_model.pth\", map_location=device)\n",
    "model.load_state_dict(checkpoint['model_state_dict'])\n",
    "model.eval()  # 设置模型为评估模式\n",
    "\n",
    "# 预测降噪结果\n",
    "with torch.no_grad():\n",
    "    denoised_signal = model(final_noisy_batches[0][1].to(device))  # 添加 batch 维度 (1, sequence_length, input_size)\n",
    "    denoised_signal = denoised_signal.squeeze(0)  # 移除 batch 维度，形状为 (sequence_length, input_size)\n",
    "\n",
    "# 绘制降噪结果与干净信号的对比\n",
    "fig3 = go.Figure()\n",
    "\n",
    "# 绘制第一个 batch 的噪声信号、干净信号和去噪信号\n",
    "fig3.add_trace(go.Scatter(y=final_noisy_batches[0][1].squeeze().cpu().numpy(), mode='lines', name='Noisy Signal'))  # 噪声信号\n",
    "fig3.add_trace(go.Scatter(y=final_clean_batches[0][1].squeeze().cpu().numpy(), mode='lines', name='Clean Signal'))  # 干净信号\n",
    "fig3.add_trace(go.Scatter(y=denoised_signal.squeeze().cpu().numpy(), mode='lines', name='Denoised Signal'))  # 去噪信号\n",
    "\n",
    "fig3.update_layout(\n",
    "    title='Denoised vs Clean Signal',\n",
    "    xaxis_title='Time Step',\n",
    "    yaxis_title='Signal Value',\n",
    "    legend_title='Signal Type'\n",
    ")\n",
    "\n",
    "fig3.show()"
   ]
  },
  {
   "cell_type": "code",
   "execution_count": 14,
   "metadata": {},
   "outputs": [
    {
     "name": "stdout",
     "output_type": "stream",
     "text": [
      "clean_signal shape: (500,)\n",
      "noisy_signal shape: (500,)\n",
      "noisy_signal_tensor shape: torch.Size([1, 500, 1])\n",
      "Training on: cuda\n",
      "denoised_signal shape: torch.Size([1, 500, 1])\n"
     ]
    },
    {
     "data": {
      "application/vnd.plotly.v1+json": {
       "config": {
        "plotlyServerURL": "https://plot.ly"
       },
       "data": [
        {
         "mode": "lines",
         "name": "Noisy Signal",
         "type": "scatter",
         "y": [
          0.09521131962537766,
          0.2977266311645508,
          0.4095892608165741,
          0.38027313351631165,
          0.898668646812439,
          0.7070031762123108,
          0.9682665467262268,
          1.1264501810073853,
          1.1978480815887451,
          1.4201570749282837,
          1.1708446741104126,
          1.167425274848938,
          0.691063404083252,
          1.4967693090438843,
          0.9325743913650513,
          1.5042513608932495,
          1.1941869258880615,
          1.3279528617858887,
          1.3056538105010986,
          0.9153674840927124,
          0.5520017147064209,
          0.8216143846511841,
          0.45059922337532043,
          0.3017447888851166,
          0.20608550310134888,
          -0.15860359370708466,
          -0.2844906747341156,
          -0.32995739579200745,
          -0.39444875717163086,
          -0.5919476747512817,
          -0.6658621430397034,
          -1.2465909719467163,
          -1.112186074256897,
          -1.1197576522827148,
          -1.2789026498794556,
          -1.4117705821990967,
          -1.631726861000061,
          -1.6302541494369507,
          -1.6226680278778076,
          -1.062954068183899,
          -1.1449750661849976,
          -1.2821375131607056,
          -1.026350975036621,
          -1.4544267654418945,
          -0.43153616786003113,
          -0.43780794739723206,
          -0.48615866899490356,
          -0.667349636554718,
          -0.4055570065975189,
          -0.26898324489593506,
          0.306801438331604,
          0.21939991414546967,
          -0.03607121855020523,
          0.6180493235588074,
          0.4888290762901306,
          0.8697836399078369,
          0.7737743854522705,
          1.1441420316696167,
          1.0450512170791626,
          1.2963178157806396,
          1.075721263885498,
          1.719380259513855,
          1.2992953062057495,
          1.758313536643982,
          1.1770834922790527,
          1.1270575523376465,
          1.3483211994171143,
          0.9012515544891357,
          0.6874104738235474,
          0.9931098222732544,
          0.7987678647041321,
          0.7536462545394897,
          0.4139786660671234,
          0.3869704604148865,
          0.09853650629520416,
          0.28477466106414795,
          -0.04068440943956375,
          -0.3132031261920929,
          -0.5602258443832397,
          -0.9162747263908386,
          -0.7234160900115967,
          -0.8465352058410645,
          -0.9685716032981873,
          -1.220818281173706,
          -1.1896519660949707,
          -1.2115082740783691,
          -1.323926568031311,
          -1.4148198366165161,
          -1.7561320066452026,
          -1.293358325958252,
          -1.293511986732483,
          -0.8599426746368408,
          -1.4040017127990723,
          -1.1298967599868774,
          -0.9290772080421448,
          -0.9694345593452454,
          -0.410872220993042,
          -0.4585501253604889,
          -0.1427106261253357,
          -0.20099902153015137,
          0.058553025126457214,
          -0.1079549714922905,
          0.31409114599227905,
          0.4790220856666565,
          0.6232084631919861,
          0.8404148817062378,
          0.9926151633262634,
          1.1766952276229858,
          1.1973155736923218,
          1.5138834714889526,
          1.1860837936401367,
          1.3503004312515259,
          1.5562705993652344,
          1.1253957748413086,
          1.4701030254364014,
          1.2586236000061035,
          1.168441653251648,
          1.2668417692184448,
          1.0334089994430542,
          0.7099758982658386,
          0.7813320159912109,
          0.45054641366004944,
          0.7359654307365417,
          -0.0012413368094712496,
          -0.04129819571971893,
          -0.07099949568510056,
          -0.3404732644557953,
          -0.649390697479248,
          -0.5273392200469971,
          -0.8560927510261536,
          -0.9450081586837769,
          -1.040611743927002,
          -0.990214467048645,
          -1.2650705575942993,
          -1.4016354084014893,
          -1.319382905960083,
          -1.2362511157989502,
          -1.4897381067276,
          -1.524021029472351,
          -1.4357246160507202,
          -1.4578380584716797,
          -1.338245153427124,
          -1.1502692699432373,
          -1.0786693096160889,
          -0.915842592716217,
          -0.765099823474884,
          -0.8756567239761353,
          -0.21150392293930054,
          -0.33981144428253174,
          -0.1344665139913559,
          0.046735912561416626,
          0.32623791694641113,
          0.12863418459892273,
          0.8208202719688416,
          0.8988064527511597,
          0.8321741819381714,
          1.1389034986495972,
          1.068169355392456,
          1.1819379329681396,
          1.518748164176941,
          1.9010009765625,
          1.5630667209625244,
          1.3629248142242432,
          1.437374472618103,
          1.5302388668060303,
          1.2885771989822388,
          1.358381986618042,
          1.137440800666809,
          0.9943097829818726,
          1.2262613773345947,
          1.06782865524292,
          0.6781125068664551,
          0.5310129523277283,
          0.09547916054725647,
          0.060905441641807556,
          -0.1823008507490158,
          -0.03412942588329315,
          -0.5179042220115662,
          -0.4895068407058716,
          -0.8310442566871643,
          -1.0260725021362305,
          -1.0605498552322388,
          -1.0832083225250244,
          -1.2766019105911255,
          -0.9669433832168579,
          -1.3535454273223877,
          -1.280074954032898,
          -1.3274040222167969,
          -1.146470308303833,
          -1.0627089738845825,
          -1.2766144275665283,
          -1.4449483156204224,
          -0.8125856518745422,
          -1.430256962776184,
          -1.0474456548690796,
          -0.8231764435768127,
          -0.7600607872009277,
          -0.46809932589530945,
          0.06670195609331131,
          -0.2781813442707062,
          -0.1212969571352005,
          0.3079559803009033,
          0.5007443428039551,
          0.37479302287101746,
          1.0041319131851196,
          0.7399963140487671,
          0.8916609883308411,
          0.8620915412902832,
          1.0387532711029053,
          1.525838017463684,
          1.4243344068527222,
          1.6532636880874634,
          1.592192530632019,
          1.1525564193725586,
          1.566077470779419,
          1.6656969785690308,
          1.2146458625793457,
          1.0857936143875122,
          1.0719642639160156,
          0.4857168197631836,
          0.7244420051574707,
          0.4185894727706909,
          0.5582761764526367,
          -0.2618669271469116,
          -0.5074130892753601,
          0.010378829203546047,
          -0.1318400502204895,
          -0.20253783464431763,
          -0.34312108159065247,
          -1.0047886371612549,
          -0.7673879265785217,
          -0.9653322696685791,
          -0.8948066234588623,
          -1.0961462259292603,
          -1.3460172414779663,
          -1.0421481132507324,
          -1.6236954927444458,
          -1.488215684890747,
          -1.264102816581726,
          -1.0770959854125977,
          -1.5066630840301514,
          -1.3966740369796753,
          -0.8104177713394165,
          -0.9586694240570068,
          -1.0437451601028442,
          -0.4852544963359833,
          -0.6569340825080872,
          -0.5837304592132568,
          -0.10072042047977448,
          0.0009072984685190022,
          0.04765559732913971,
          0.32985973358154297,
          0.860435426235199,
          0.8247667551040649,
          0.4185449779033661,
          0.7825745940208435,
          1.2493741512298584,
          1.0532091856002808,
          1.0598071813583374,
          1.2456562519073486,
          1.4908738136291504,
          1.4926434755325317,
          1.342730164527893,
          1.2466801404953003,
          1.9237858057022095,
          1.452250599861145,
          1.188777208328247,
          1.1379337310791016,
          1.080532193183899,
          0.8777297735214233,
          0.8403522968292236,
          0.8032687902450562,
          0.341554194688797,
          0.4562282860279083,
          0.09494061768054962,
          -0.24660702049732208,
          -0.48417651653289795,
          -0.5806452631950378,
          -0.03851649537682533,
          -0.9852783679962158,
          -0.8387072682380676,
          -1.1474813222885132,
          -1.244100570678711,
          -1.6086184978485107,
          -1.3196520805358887,
          -1.247151494026184,
          -1.5103822946548462,
          -1.2904462814331055,
          -1.5447043180465698,
          -1.424649953842163,
          -1.632461667060852,
          -1.4870147705078125,
          -1.013521432876587,
          -0.9294625520706177,
          -0.7486216425895691,
          -0.725588858127594,
          -0.3379618525505066,
          -0.5703253149986267,
          -0.00249721622094512,
          -0.07288987189531326,
          0.20301750302314758,
          0.17152100801467896,
          0.45149436593055725,
          0.8170216083526611,
          0.7020106911659241,
          0.9844409823417664,
          1.2161113023757935,
          1.3139429092407227,
          1.3103972673416138,
          1.0927473306655884,
          1.023152232170105,
          1.4943468570709229,
          1.6045392751693726,
          1.2490406036376953,
          1.713549017906189,
          1.1598186492919922,
          0.9800237417221069,
          1.285691738128662,
          1.2976077795028687,
          0.8543055057525635,
          0.8270708918571472,
          0.6345522999763489,
          0.7131894826889038,
          -0.002474067034199834,
          -0.31366807222366333,
          0.2460690438747406,
          -0.8523418307304382,
          -0.6911394000053406,
          -0.39633116126060486,
          -0.9306463599205017,
          -0.9252007603645325,
          -1.0634490251541138,
          -1.2314766645431519,
          -1.3628642559051514,
          -1.4280834197998047,
          -1.4009463787078857,
          -1.2923051118850708,
          -1.335794448852539,
          -1.1266406774520874,
          -1.5243219137191772,
          -1.5202068090438843,
          -1.6571165323257446,
          -1.0284442901611328,
          -1.1348978281021118,
          -0.6854170560836792,
          -0.7228306531906128,
          -0.38642412424087524,
          -0.2746845781803131,
          0.020090211182832718,
          0.05538509041070938,
          0.11087449640035629,
          -0.19129543006420135,
          0.5731309652328491,
          0.8249463438987732,
          0.793826162815094,
          1.0163949728012085,
          0.9610419273376465,
          0.9603423476219177,
          1.1128852367401123,
          1.5405949354171753,
          1.323385238647461,
          1.039423942565918,
          1.4100596904754639,
          1.311532974243164,
          1.3213955163955688,
          1.3000833988189697,
          1.01170814037323,
          1.1996694803237915,
          1.2767606973648071,
          0.9285494089126587,
          0.8892766833305359,
          0.5406960248947144,
          0.5088433027267456,
          0.4503496587276459,
          0.06577222794294357,
          -0.12169905006885529,
          -0.1553592085838318,
          -0.8451375365257263,
          -0.4036179780960083,
          -0.5548132658004761,
          -0.896323561668396,
          -1.060468316078186,
          -1.1161508560180664,
          -1.481475830078125,
          -1.016992211341858,
          -1.1482712030410767,
          -1.4971601963043213,
          -1.5179500579833984,
          -1.4101070165634155,
          -1.2055292129516602,
          -1.3678816556930542,
          -1.0903879404067993,
          -0.9830334782600403,
          -0.8865264654159546,
          -0.7035328149795532,
          -0.5458441972732544,
          -0.31853386759757996,
          -0.5137534141540527,
          -0.23166726529598236,
          0.0610361285507679,
          -0.08250878751277924,
          0.27029457688331604,
          0.63978111743927,
          0.706483006477356,
          1.0404069423675537,
          0.562312126159668,
          1.0317835807800293,
          0.7521610260009766,
          1.3417412042617798,
          1.0215165615081787,
          1.6252540349960327,
          1.0301815271377563,
          1.119195580482483,
          1.24187171459198,
          1.0581541061401367,
          1.2078485488891602,
          1.3886773586273193,
          1.301103949546814,
          0.7808241248130798,
          0.8631298542022705,
          0.9869442582130432,
          0.258937269449234,
          0.21626494824886322,
          -0.16964110732078552,
          -0.13380274176597595,
          -0.2312687784433365,
          -0.12288688123226166,
          -0.6162035465240479,
          -0.5645155906677246,
          -1.1741799116134644,
          -0.997501015663147,
          -1.118909478187561,
          -1.7050364017486572,
          -1.1738917827606201,
          -1.227190613746643,
          -1.3991965055465698,
          -1.4096322059631348,
          -1.2758712768554688,
          -1.3290859460830688,
          -1.1044397354125977,
          -1.2943228483200073,
          -1.0998315811157227,
          -1.0526906251907349,
          -1.012392520904541,
          -0.8984773755073547,
          -0.17329075932502747,
          -0.662408709526062,
          -0.3292596638202667,
          -0.014387352392077446,
          -0.0017881409730762243,
          0.02022218517959118,
          0.4189472496509552,
          0.6868999004364014,
          0.642464816570282,
          0.47439029812812805,
          1.0081534385681152,
          1.2674130201339722,
          1.0064597129821777,
          1.1395187377929688,
          1.52957022190094,
          1.3449273109436035,
          0.932511568069458,
          1.4435962438583374,
          1.5378540754318237,
          1.3793331384658813,
          1.249976634979248,
          0.9623789191246033,
          1.3059746026992798,
          0.7891234159469604,
          0.5980740785598755,
          0.822077214717865,
          0.3314554989337921,
          0.059273865073919296,
          0.13077837228775024,
          0.39505285024642944,
          -0.17435388267040253,
          -0.22032946348190308,
          -0.4478697180747986,
          -0.49374425411224365,
          -0.810209333896637,
          -0.6819450259208679,
          -0.69725102186203,
          -1.1633391380310059,
          -1.3660117387771606,
          -1.0730597972869873,
          -1.3710763454437256,
          -1.4111950397491455,
          -1.3669060468673706,
          -1.2627954483032227,
          -1.0497971773147583,
          -1.0584226846694946,
          -1.0706913471221924,
          -1.034623384475708,
          -0.7234161496162415,
          -0.9889262318611145,
          -0.8362357020378113,
          -0.9121693968772888,
          -0.6000033617019653,
          -0.3946074843406677,
          0.03521541506052017
         ]
        },
        {
         "mode": "lines",
         "name": "Clean Signal",
         "type": "scatter",
         "y": [
          0,
          0.17777913808822632,
          0.35274338722229004,
          0.5221223831176758,
          0.6832341551780701,
          0.8335278034210205,
          0.9706234931945801,
          1.0923506021499634,
          1.1967816352844238,
          1.2822630405426025,
          1.3474414348602295,
          1.391284704208374,
          1.413098692893982,
          1.4125378131866455,
          1.3896113634109497,
          1.344681978225708,
          1.278461217880249,
          1.1919975280761719,
          1.0866600275039673,
          0.9641165733337402,
          0.8263075351715088,
          0.6754149198532104,
          0.513827919960022,
          0.3441050946712494,
          0.16893374919891357,
          -0.008912431076169014,
          -0.18661749362945557,
          -0.36136773228645325,
          -0.5303961038589478,
          -0.6910263299942017,
          -0.8407149314880371,
          -0.977091908454895,
          -1.097997784614563,
          -1.201518177986145,
          -1.2860140800476074,
          -1.3501473665237427,
          -1.3929028511047363,
          -1.41360342502594,
          -1.4119211435317993,
          -1.387882947921753,
          -1.3418692350387573,
          -1.2746086120605469,
          -1.1871662139892578,
          -1.0809264183044434,
          -0.9575714468955994,
          -0.8190546035766602,
          -0.6675689220428467,
          -0.5055131316184998,
          -0.3354531228542328,
          -0.1600816696882248,
          0.017824510112404823,
          0.19544844329357147,
          0.3699777126312256,
          0.538648784160614,
          0.6987910866737366,
          0.8478688597679138,
          0.9835216403007507,
          1.1036015748977661,
          1.2062071561813354,
          1.2897140979766846,
          1.352799892425537,
          1.3944658041000366,
          1.4140520095825195,
          1.4112484455108643,
          1.3860994577407837,
          1.3390032052993774,
          1.2707055807113647,
          1.1822878122329712,
          1.0751500129699707,
          0.9509884715080261,
          0.8117691278457642,
          0.6596964597702026,
          0.497178316116333,
          0.32678791880607605,
          0.15122322738170624,
          -0.026735881343483925,
          -0.20427165925502777,
          -0.37857306003570557,
          -0.5468801856040955,
          -0.7065281271934509,
          -0.8549891114234924,
          -0.9899123311042786,
          -1.1091614961624146,
          -1.2108484506607056,
          -1.293363094329834,
          -1.3553988933563232,
          -1.395973563194275,
          -1.4144446849822998,
          -1.4105198383331299,
          -1.384261131286621,
          -1.336084246635437,
          -1.2667522430419922,
          -1.1773626804351807,
          -1.0693309307098389,
          -0.9443676471710205,
          -0.8044515252113342,
          -0.6517978310585022,
          -0.4888237416744232,
          -0.3181097209453583,
          -0.14235880970954895,
          0.035646192729473114,
          0.21308676898479462,
          0.38715338706970215,
          0.5550898909568787,
          0.7142372131347656,
          0.8620754480361938,
          0.9962638020515442,
          1.1146775484085083,
          1.2154415845870972,
          1.296960711479187,
          1.3579440116882324,
          1.397425889968872,
          1.4147813320159912,
          1.4097353219985962,
          1.3823678493499756,
          1.333112359046936,
          1.2627485990524292,
          1.1723906993865967,
          1.0634695291519165,
          0.9377094507217407,
          0.7971020340919495,
          0.643873393535614,
          0.4804498553276062,
          0.3094189167022705,
          0.133488729596138,
          -0.04455509036779404,
          -0.22189344465732574,
          -0.3957183361053467,
          -0.563277542591095,
          -0.721917986869812,
          -0.8691276907920837,
          -1.0025757551193237,
          -1.1201492547988892,
          -1.2199866771697998,
          -1.3005070686340332,
          -1.3604353666305542,
          -1.3988229036331177,
          -1.4150618314743042,
          -1.4088948965072632,
          -1.3804198503494263,
          -1.3300875425338745,
          -1.2586948871612549,
          -1.1673723459243774,
          -1.0575659275054932,
          -0.9310141205787659,
          -0.7897209525108337,
          -0.635923445224762,
          -0.47205686569213867,
          -0.300715833902359,
          -0.12461335957050323,
          0.05346222221851349,
          0.23069128394126892,
          0.40426766872406006,
          0.5714429616928101,
          0.7295700907707214,
          0.8761454224586487,
          1.0088480710983276,
          1.1255767345428467,
          1.2244833707809448,
          1.3040016889572144,
          1.362872838973999,
          1.4001644849777222,
          1.4152861833572388,
          1.4079986810684204,
          1.3784171342849731,
          1.3270100355148315,
          1.2545913457870483,
          1.1623077392578125,
          1.051620364189148,
          0.9242818355560303,
          0.7823085188865662,
          0.6279482245445251,
          0.46364519000053406,
          0.2920008599758148,
          0.1157330572605133,
          -0.062367238104343414,
          -0.23948003351688385,
          -0.41280096769332886,
          -0.5795856714248657,
          -0.7371932864189148,
          -0.8831284642219543,
          -1.0150803327560425,
          -1.1309595108032227,
          -1.2289315462112427,
          -1.30744469165802,
          -1.3652561902999878,
          -1.401450514793396,
          -1.4154545068740845,
          -1.4070466756820679,
          -1.3763597011566162,
          -1.3238799571990967,
          -1.2504380941390991,
          -1.1571969985961914,
          -1.0456331968307495,
          -0.9175129532814026,
          -0.7748650908470154,
          -0.619948148727417,
          -0.45521512627601624,
          -0.2832742929458618,
          -0.10684816539287567,
          0.07126977294683456,
          0.2482592612504959,
          0.42131781578063965,
          0.5877053737640381,
          0.744787335395813,
          0.8900765180587769,
          1.0212723016738892,
          1.136297583580017,
          1.2333308458328247,
          1.3108359575271606,
          1.36758553981781,
          1.4026809930801392,
          1.4155668020248413,
          1.406038761138916,
          1.3742477893829346,
          1.32069730758667,
          1.2462351322174072,
          1.1520404815673828,
          1.0396045446395874,
          0.9107077121734619,
          0.7673909664154053,
          0.6119235754013062,
          0.44676703214645386,
          0.27453652024269104,
          0.09795904159545898,
          -0.08016949146986008,
          -0.2570286691188812,
          -0.4298180937767029,
          -0.595801830291748,
          -0.7523518204689026,
          -0.8969891667366028,
          -1.0274238586425781,
          -1.1415904760360718,
          -1.2376813888549805,
          -1.3141751289367676,
          -1.3698606491088867,
          -1.4038559198379517,
          -1.4156229496002197,
          -1.404975175857544,
          -1.3720813989639282,
          -1.3174623250961304,
          -1.2419829368591309,
          -1.1468381881713867,
          -1.0335346460342407,
          -0.9038664102554321,
          -0.7598864436149597,
          -0.6038746237754822,
          -0.4383012354373932,
          -0.26578783988952637,
          -0.0890660360455513,
          0.0890660360455513,
          0.26578783988952637,
          0.4383012354373932,
          0.6038746237754822,
          0.7598864436149597,
          0.9038664102554321,
          1.0335346460342407,
          1.1468381881713867,
          1.2419829368591309,
          1.3174623250961304,
          1.3720813989639282,
          1.404975175857544,
          1.4156229496002197,
          1.4038559198379517,
          1.3698606491088867,
          1.3141751289367676,
          1.2376813888549805,
          1.1415904760360718,
          1.0274238586425781,
          0.8969891667366028,
          0.7523518204689026,
          0.595801830291748,
          0.4298180937767029,
          0.2570286691188812,
          0.08016949146986008,
          -0.09795904159545898,
          -0.27453652024269104,
          -0.44676703214645386,
          -0.6119235754013062,
          -0.7673909664154053,
          -0.9107077121734619,
          -1.0396045446395874,
          -1.1520404815673828,
          -1.2462351322174072,
          -1.32069730758667,
          -1.3742477893829346,
          -1.406038761138916,
          -1.4155668020248413,
          -1.4026809930801392,
          -1.36758553981781,
          -1.3108359575271606,
          -1.2333308458328247,
          -1.136297583580017,
          -1.0212723016738892,
          -0.8900765180587769,
          -0.744787335395813,
          -0.5877053737640381,
          -0.42131781578063965,
          -0.2482592612504959,
          -0.07126977294683456,
          0.10684816539287567,
          0.2832742929458618,
          0.45521512627601624,
          0.619948148727417,
          0.7748650908470154,
          0.9175129532814026,
          1.0456331968307495,
          1.1571969985961914,
          1.2504380941390991,
          1.3238799571990967,
          1.3763597011566162,
          1.4070466756820679,
          1.4154545068740845,
          1.401450514793396,
          1.3652561902999878,
          1.30744469165802,
          1.2289315462112427,
          1.1309595108032227,
          1.0150803327560425,
          0.8831284642219543,
          0.7371932864189148,
          0.5795856714248657,
          0.41280096769332886,
          0.23948003351688385,
          0.062367238104343414,
          -0.1157330572605133,
          -0.2920008599758148,
          -0.46364519000053406,
          -0.6279482245445251,
          -0.7823085188865662,
          -0.9242818355560303,
          -1.051620364189148,
          -1.1623077392578125,
          -1.2545913457870483,
          -1.3270100355148315,
          -1.3784171342849731,
          -1.4079986810684204,
          -1.4152861833572388,
          -1.4001644849777222,
          -1.362872838973999,
          -1.3040016889572144,
          -1.2244833707809448,
          -1.1255767345428467,
          -1.0088480710983276,
          -0.8761454224586487,
          -0.7295700907707214,
          -0.5714429616928101,
          -0.40426766872406006,
          -0.23069128394126892,
          -0.05346222221851349,
          0.12461335957050323,
          0.300715833902359,
          0.47205686569213867,
          0.635923445224762,
          0.7897209525108337,
          0.9310141205787659,
          1.0575659275054932,
          1.1673723459243774,
          1.2586948871612549,
          1.3300875425338745,
          1.3804198503494263,
          1.4088948965072632,
          1.4150618314743042,
          1.3988229036331177,
          1.3604353666305542,
          1.3005070686340332,
          1.2199866771697998,
          1.1201492547988892,
          1.0025757551193237,
          0.8691276907920837,
          0.721917986869812,
          0.563277542591095,
          0.3957183361053467,
          0.22189344465732574,
          0.04455509036779404,
          -0.133488729596138,
          -0.3094189167022705,
          -0.4804498553276062,
          -0.643873393535614,
          -0.7971020340919495,
          -0.9377094507217407,
          -1.0634695291519165,
          -1.1723906993865967,
          -1.2627485990524292,
          -1.333112359046936,
          -1.3823678493499756,
          -1.4097353219985962,
          -1.4147813320159912,
          -1.397425889968872,
          -1.3579440116882324,
          -1.296960711479187,
          -1.2154415845870972,
          -1.1146775484085083,
          -0.9962638020515442,
          -0.8620754480361938,
          -0.7142372131347656,
          -0.5550898909568787,
          -0.38715338706970215,
          -0.21308676898479462,
          -0.035646192729473114,
          0.14235880970954895,
          0.3181097209453583,
          0.4888237416744232,
          0.6517978310585022,
          0.8044515252113342,
          0.9443676471710205,
          1.0693309307098389,
          1.1773626804351807,
          1.2667522430419922,
          1.336084246635437,
          1.384261131286621,
          1.4105198383331299,
          1.4144446849822998,
          1.395973563194275,
          1.3553988933563232,
          1.293363094329834,
          1.2108484506607056,
          1.1091614961624146,
          0.9899123311042786,
          0.8549891114234924,
          0.7065281271934509,
          0.5468801856040955,
          0.37857306003570557,
          0.20427165925502777,
          0.026735881343483925,
          -0.15122322738170624,
          -0.32678791880607605,
          -0.497178316116333,
          -0.6596964597702026,
          -0.8117691278457642,
          -0.9509884715080261,
          -1.0751500129699707,
          -1.1822878122329712,
          -1.2707055807113647,
          -1.3390032052993774,
          -1.3860994577407837,
          -1.4112484455108643,
          -1.4140520095825195,
          -1.3944658041000366,
          -1.352799892425537,
          -1.2897140979766846,
          -1.2062071561813354,
          -1.1036015748977661,
          -0.9835216403007507,
          -0.8478688597679138,
          -0.6987910866737366,
          -0.538648784160614,
          -0.3699777126312256,
          -0.19544844329357147,
          -0.017824510112404823,
          0.1600816696882248,
          0.3354531228542328,
          0.5055131316184998,
          0.6675689220428467,
          0.8190546035766602,
          0.9575714468955994,
          1.0809264183044434,
          1.1871662139892578,
          1.2746086120605469,
          1.3418692350387573,
          1.387882947921753,
          1.4119211435317993,
          1.41360342502594,
          1.3929028511047363,
          1.3501473665237427,
          1.2860140800476074,
          1.201518177986145,
          1.097997784614563,
          0.977091908454895,
          0.8407149314880371,
          0.6910263299942017,
          0.5303961038589478,
          0.36136773228645325,
          0.18661749362945557,
          0.008912431076169014,
          -0.16893374919891357,
          -0.3441050946712494,
          -0.513827919960022,
          -0.6754149198532104,
          -0.8263075351715088,
          -0.9641165733337402,
          -1.0866600275039673,
          -1.1919975280761719,
          -1.278461217880249,
          -1.344681978225708,
          -1.3896113634109497,
          -1.4125378131866455,
          -1.413098692893982,
          -1.391284704208374,
          -1.3474414348602295,
          -1.2822630405426025,
          -1.1967816352844238,
          -1.0923506021499634,
          -0.9706234931945801,
          -0.8335278034210205,
          -0.6832341551780701,
          -0.5221223831176758,
          -0.35274338722229004,
          -0.17777913808822632,
          -3.4672931589269833e-15
         ]
        },
        {
         "mode": "lines",
         "name": "Denoised Signal",
         "type": "scatter",
         "y": [
          -0.01830960437655449,
          0.09482172131538391,
          0.23545421659946442,
          0.3467111587524414,
          0.5299279093742371,
          0.6544864177703857,
          0.770512580871582,
          0.8836005330085754,
          0.9818770885467529,
          1.0916365385055542,
          1.1422646045684814,
          1.1644949913024902,
          1.098278522491455,
          1.1438984870910645,
          1.129323124885559,
          1.1883044242858887,
          1.2121241092681885,
          1.2415168285369873,
          1.2636533975601196,
          1.2212647199630737,
          1.1068651676177979,
          1.0264155864715576,
          0.906039834022522,
          0.7604312300682068,
          0.6051980257034302,
          0.3943259119987488,
          0.15853643417358398,
          -0.06797029823064804,
          -0.26920491456985474,
          -0.46365177631378174,
          -0.6255079507827759,
          -0.8401997685432434,
          -0.9893580675125122,
          -1.0687248706817627,
          -1.126383662223816,
          -1.185339093208313,
          -1.2656018733978271,
          -1.3399927616119385,
          -1.3999451398849487,
          -1.3794476985931396,
          -1.3430609703063965,
          -1.3227903842926025,
          -1.278424859046936,
          -1.287292718887329,
          -1.177011489868164,
          -1.030147910118103,
          -0.889067530632019,
          -0.797296941280365,
          -0.6942429542541504,
          -0.5749105215072632,
          -0.3498372435569763,
          -0.11402847617864609,
          0.037766143679618835,
          0.2647656202316284,
          0.4558432102203369,
          0.6615034341812134,
          0.7869637608528137,
          0.908430814743042,
          0.9758738279342651,
          1.0533033609390259,
          1.0824555158615112,
          1.1961182355880737,
          1.2494205236434937,
          1.3426045179367065,
          1.3464102745056152,
          1.3162964582443237,
          1.3127384185791016,
          1.2520222663879395,
          1.1490691900253296,
          1.0944486856460571,
          1.0327873229980469,
          0.9708781242370605,
          0.8590723276138306,
          0.7382856607437134,
          0.5753816366195679,
          0.45297861099243164,
          0.3001307249069214,
          0.09733420610427856,
          -0.1551525592803955,
          -0.47002577781677246,
          -0.7078771591186523,
          -0.8627198934555054,
          -0.9534071683883667,
          -1.0335307121276855,
          -1.085830807685852,
          -1.1212917566299438,
          -1.1625585556030273,
          -1.2133630514144897,
          -1.3039705753326416,
          -1.3363192081451416,
          -1.3440253734588623,
          -1.2858386039733887,
          -1.2818844318389893,
          -1.2624768018722534,
          -1.213730812072754,
          -1.1652963161468506,
          -1.0404354333877563,
          -0.9040508270263672,
          -0.7226047515869141,
          -0.5502982139587402,
          -0.3512474298477173,
          -0.19824743270874023,
          -0.0004918128252029419,
          0.22712145745754242,
          0.45908552408218384,
          0.6803919672966003,
          0.8552253842353821,
          0.9859257936477661,
          1.0652546882629395,
          1.1630915403366089,
          1.1954418420791626,
          1.22909414768219,
          1.2897095680236816,
          1.284653663635254,
          1.3121224641799927,
          1.3138220310211182,
          1.294816255569458,
          1.2869586944580078,
          1.2490904331207275,
          1.1576968431472778,
          1.0719139575958252,
          0.9440728425979614,
          0.8676584362983704,
          0.6881574392318726,
          0.4804987907409668,
          0.27923500537872314,
          0.05106416344642639,
          -0.22569039463996887,
          -0.4553508758544922,
          -0.6788714528083801,
          -0.8536655306816101,
          -0.969062864780426,
          -1.0173858404159546,
          -1.0715526342391968,
          -1.1389492750167847,
          -1.188549280166626,
          -1.213587760925293,
          -1.2610069513320923,
          -1.313592553138733,
          -1.3493051528930664,
          -1.3765462636947632,
          -1.382285475730896,
          -1.3564066886901855,
          -1.3128867149353027,
          -1.2463713884353638,
          -1.157647728919983,
          -1.086661696434021,
          -0.9283735752105713,
          -0.7696478366851807,
          -0.5901073813438416,
          -0.3855910897254944,
          -0.1334400773048401,
          0.06752848625183105,
          0.36368149518966675,
          0.6631176471710205,
          0.8556352257728577,
          0.9903546571731567,
          1.0461251735687256,
          1.0816521644592285,
          1.1632598638534546,
          1.303246259689331,
          1.382097601890564,
          1.4004149436950684,
          1.408850908279419,
          1.4261482954025269,
          1.4102177619934082,
          1.397289514541626,
          1.3560608625411987,
          1.2917505502700806,
          1.2640964984893799,
          1.2284901142120361,
          1.1358314752578735,
          1.0117219686508179,
          0.8152262568473816,
          0.6053628921508789,
          0.36594879627227783,
          0.17303769290447235,
          -0.0741606131196022,
          -0.3063046336174011,
          -0.5614374279975891,
          -0.8037989735603333,
          -0.9718748927116394,
          -1.059532642364502,
          -1.1221470832824707,
          -1.1162971258163452,
          -1.1457126140594482,
          -1.175682544708252,
          -1.2094805240631104,
          -1.2159923315048218,
          -1.2007489204406738,
          -1.2088608741760254,
          -1.246580958366394,
          -1.205661416053772,
          -1.224666714668274,
          -1.211013674736023,
          -1.1563416719436646,
          -1.0825703144073486,
          -0.9644889235496521,
          -0.749623715877533,
          -0.573060929775238,
          -0.4043794274330139,
          -0.17278698086738586,
          0.10567998886108398,
          0.3355568051338196,
          0.6295594573020935,
          0.8099560737609863,
          0.903258204460144,
          0.9245951175689697,
          0.9483720064163208,
          1.0574555397033691,
          1.1561936140060425,
          1.266723394393921,
          1.3489675521850586,
          1.3444569110870361,
          1.3746488094329834,
          1.4231054782867432,
          1.4068101644515991,
          1.3561878204345703,
          1.30007004737854,
          1.1606135368347168,
          1.0484890937805176,
          0.9082087874412537,
          0.80070561170578,
          0.5678160190582275,
          0.25766676664352417,
          0.05416254699230194,
          -0.09623749554157257,
          -0.2088569849729538,
          -0.31207531690597534,
          -0.5347521305084229,
          -0.710782527923584,
          -0.8493674397468567,
          -0.9186151027679443,
          -0.9749553799629211,
          -1.0544929504394531,
          -1.082337498664856,
          -1.171181321144104,
          -1.2480312585830688,
          -1.2797482013702393,
          -1.2666702270507812,
          -1.295082449913025,
          -1.3200480937957764,
          -1.2652549743652344,
          -1.2066051959991455,
          -1.1650229692459106,
          -1.0541659593582153,
          -0.9540254473686218,
          -0.8580058217048645,
          -0.6923551559448242,
          -0.49306946992874146,
          -0.2892841696739197,
          -0.04810585081577301,
          0.2995607852935791,
          0.629551351070404,
          0.7621573209762573,
          0.8252595067024231,
          0.9298975467681885,
          0.987808346748352,
          1.0183807611465454,
          1.0676604509353638,
          1.1552971601486206,
          1.2385339736938477,
          1.2821612358093262,
          1.2918580770492554,
          1.386728048324585,
          1.4226917028427124,
          1.3999217748641968,
          1.3555583953857422,
          1.3025658130645752,
          1.2243375778198242,
          1.1431161165237427,
          1.0662460327148438,
          0.924128532409668,
          0.795707106590271,
          0.6220081448554993,
          0.3839365839958191,
          0.09525768458843231,
          -0.2029532939195633,
          -0.3395007252693176,
          -0.5686116814613342,
          -0.7575165629386902,
          -0.9270285964012146,
          -1.0532654523849487,
          -1.1836220026016235,
          -1.2449519634246826,
          -1.2616667747497559,
          -1.2976064682006836,
          -1.3089089393615723,
          -1.3433758020401,
          -1.366454005241394,
          -1.4072200059890747,
          -1.4308079481124878,
          -1.3887693881988525,
          -1.3161360025405884,
          -1.2146611213684082,
          -1.1094378232955933,
          -0.9544086456298828,
          -0.8327966332435608,
          -0.6400281190872192,
          -0.4475206136703491,
          -0.22027383744716644,
          -0.010484784841537476,
          0.21955452859401703,
          0.49941545724868774,
          0.7051846981048584,
          0.8640254139900208,
          0.9931949377059937,
          1.0912179946899414,
          1.1557506322860718,
          1.1631474494934082,
          1.1425684690475464,
          1.1935577392578125,
          1.2748256921768188,
          1.2983686923980713,
          1.367272973060608,
          1.358261227607727,
          1.3017323017120361,
          1.2835742235183716,
          1.281856894493103,
          1.2199374437332153,
          1.143217921257019,
          1.0403399467468262,
          0.9553724527359009,
          0.7624325752258301,
          0.48856401443481445,
          0.32086294889450073,
          -0.004030793905258179,
          -0.3307051658630371,
          -0.5378276705741882,
          -0.7432975172996521,
          -0.8869233131408691,
          -0.9825520515441895,
          -1.0593945980072021,
          -1.131702184677124,
          -1.198144793510437,
          -1.2483505010604858,
          -1.2719736099243164,
          -1.289707064628601,
          -1.2764921188354492,
          -1.305686354637146,
          -1.3446686267852783,
          -1.3976291418075562,
          -1.3723628520965576,
          -1.3347734212875366,
          -1.2366336584091187,
          -1.1302111148834229,
          -0.9801791906356812,
          -0.8081590533256531,
          -0.5904378294944763,
          -0.36544156074523926,
          -0.15039736032485962,
          -0.03808111697435379,
          0.1697208136320114,
          0.45005154609680176,
          0.6904866099357605,
          0.8776867985725403,
          0.9659647941589355,
          0.9896429777145386,
          1.0151238441467285,
          1.1125826835632324,
          1.1801412105560303,
          1.1815404891967773,
          1.2198529243469238,
          1.248347282409668,
          1.2710069417953491,
          1.2848560810089111,
          1.2509143352508545,
          1.2356212139129639,
          1.2401152849197388,
          1.1976627111434937,
          1.1403533220291138,
          1.0292309522628784,
          0.9078977108001709,
          0.7880072593688965,
          0.6133213043212891,
          0.4005066156387329,
          0.1898055523633957,
          -0.13894802331924438,
          -0.38471442461013794,
          -0.5699893236160278,
          -0.7471765875816345,
          -0.8988186120986938,
          -1.0030022859573364,
          -1.1176838874816895,
          -1.1412307024002075,
          -1.1471065282821655,
          -1.1977176666259766,
          -1.2602341175079346,
          -1.303944706916809,
          -1.3089799880981445,
          -1.3201135396957397,
          -1.2963851690292358,
          -1.2488353252410889,
          -1.1845616102218628,
          -1.094969391822815,
          -0.9812076091766357,
          -0.8324908018112183,
          -0.7187633514404297,
          -0.5839253664016724,
          -0.3994397521018982,
          -0.2420390099287033,
          -0.045056335628032684,
          0.2270130068063736,
          0.5038896799087524,
          0.7810907363891602,
          0.8638972640037537,
          0.9231694936752319,
          0.906929075717926,
          0.9775760173797607,
          1.011360764503479,
          1.1278274059295654,
          1.1531697511672974,
          1.1591569185256958,
          1.177315354347229,
          1.1682884693145752,
          1.175773024559021,
          1.2150115966796875,
          1.2443222999572754,
          1.1866554021835327,
          1.1214967966079712,
          1.0827202796936035,
          0.9379096031188965,
          0.7637029886245728,
          0.5244277715682983,
          0.2910626530647278,
          0.06926998496055603,
          -0.09120416641235352,
          -0.3028830885887146,
          -0.49032002687454224,
          -0.7456841468811035,
          -0.9240445494651794,
          -1.0338186025619507,
          -1.1769111156463623,
          -1.2234410047531128,
          -1.2349127531051636,
          -1.2584882974624634,
          -1.286689281463623,
          -1.2967033386230469,
          -1.3063172101974487,
          -1.2857484817504883,
          -1.2817902565002441,
          -1.2589436769485474,
          -1.2260570526123047,
          -1.1879924535751343,
          -1.1368874311447144,
          -0.9768319129943848,
          -0.8658894300460815,
          -0.7320170402526855,
          -0.5464031100273132,
          -0.35360777378082275,
          -0.17622268199920654,
          0.054895028471946716,
          0.33956146240234375,
          0.5807791948318481,
          0.6890340447425842,
          0.8071721196174622,
          0.9436818361282349,
          1.002044916152954,
          1.0434434413909912,
          1.1383249759674072,
          1.203191876411438,
          1.1830122470855713,
          1.2194554805755615,
          1.2811822891235352,
          1.31676185131073,
          1.3197146654129028,
          1.2696665525436401,
          1.2619646787643433,
          1.19033944606781,
          1.0776331424713135,
          1.002068042755127,
          0.866173267364502,
          0.6750510334968567,
          0.49713146686553955,
          0.40167391300201416,
          0.24129872024059296,
          0.06316745281219482,
          -0.14719167351722717,
          -0.3490835428237915,
          -0.5735557675361633,
          -0.7244930267333984,
          -0.7971864342689514,
          -0.8982346057891846,
          -1.0188382863998413,
          -1.0727479457855225,
          -1.1355746984481812,
          -1.1972712278366089,
          -1.2435004711151123,
          -1.264417290687561,
          -1.245653510093689,
          -1.216233730316162,
          -1.1885319948196411,
          -1.1604589223861694,
          -1.0913845300674438,
          -1.0542645454406738,
          -1.0117019414901733,
          -0.9848856925964355,
          -0.9190942049026489,
          -0.8112035393714905,
          -0.6201885938644409
         ]
        }
       ],
       "layout": {
        "legend": {
         "title": {
          "text": "Signal Type"
         }
        },
        "template": {
         "data": {
          "bar": [
           {
            "error_x": {
             "color": "#2a3f5f"
            },
            "error_y": {
             "color": "#2a3f5f"
            },
            "marker": {
             "line": {
              "color": "#E5ECF6",
              "width": 0.5
             },
             "pattern": {
              "fillmode": "overlay",
              "size": 10,
              "solidity": 0.2
             }
            },
            "type": "bar"
           }
          ],
          "barpolar": [
           {
            "marker": {
             "line": {
              "color": "#E5ECF6",
              "width": 0.5
             },
             "pattern": {
              "fillmode": "overlay",
              "size": 10,
              "solidity": 0.2
             }
            },
            "type": "barpolar"
           }
          ],
          "carpet": [
           {
            "aaxis": {
             "endlinecolor": "#2a3f5f",
             "gridcolor": "white",
             "linecolor": "white",
             "minorgridcolor": "white",
             "startlinecolor": "#2a3f5f"
            },
            "baxis": {
             "endlinecolor": "#2a3f5f",
             "gridcolor": "white",
             "linecolor": "white",
             "minorgridcolor": "white",
             "startlinecolor": "#2a3f5f"
            },
            "type": "carpet"
           }
          ],
          "choropleth": [
           {
            "colorbar": {
             "outlinewidth": 0,
             "ticks": ""
            },
            "type": "choropleth"
           }
          ],
          "contour": [
           {
            "colorbar": {
             "outlinewidth": 0,
             "ticks": ""
            },
            "colorscale": [
             [
              0,
              "#0d0887"
             ],
             [
              0.1111111111111111,
              "#46039f"
             ],
             [
              0.2222222222222222,
              "#7201a8"
             ],
             [
              0.3333333333333333,
              "#9c179e"
             ],
             [
              0.4444444444444444,
              "#bd3786"
             ],
             [
              0.5555555555555556,
              "#d8576b"
             ],
             [
              0.6666666666666666,
              "#ed7953"
             ],
             [
              0.7777777777777778,
              "#fb9f3a"
             ],
             [
              0.8888888888888888,
              "#fdca26"
             ],
             [
              1,
              "#f0f921"
             ]
            ],
            "type": "contour"
           }
          ],
          "contourcarpet": [
           {
            "colorbar": {
             "outlinewidth": 0,
             "ticks": ""
            },
            "type": "contourcarpet"
           }
          ],
          "heatmap": [
           {
            "colorbar": {
             "outlinewidth": 0,
             "ticks": ""
            },
            "colorscale": [
             [
              0,
              "#0d0887"
             ],
             [
              0.1111111111111111,
              "#46039f"
             ],
             [
              0.2222222222222222,
              "#7201a8"
             ],
             [
              0.3333333333333333,
              "#9c179e"
             ],
             [
              0.4444444444444444,
              "#bd3786"
             ],
             [
              0.5555555555555556,
              "#d8576b"
             ],
             [
              0.6666666666666666,
              "#ed7953"
             ],
             [
              0.7777777777777778,
              "#fb9f3a"
             ],
             [
              0.8888888888888888,
              "#fdca26"
             ],
             [
              1,
              "#f0f921"
             ]
            ],
            "type": "heatmap"
           }
          ],
          "heatmapgl": [
           {
            "colorbar": {
             "outlinewidth": 0,
             "ticks": ""
            },
            "colorscale": [
             [
              0,
              "#0d0887"
             ],
             [
              0.1111111111111111,
              "#46039f"
             ],
             [
              0.2222222222222222,
              "#7201a8"
             ],
             [
              0.3333333333333333,
              "#9c179e"
             ],
             [
              0.4444444444444444,
              "#bd3786"
             ],
             [
              0.5555555555555556,
              "#d8576b"
             ],
             [
              0.6666666666666666,
              "#ed7953"
             ],
             [
              0.7777777777777778,
              "#fb9f3a"
             ],
             [
              0.8888888888888888,
              "#fdca26"
             ],
             [
              1,
              "#f0f921"
             ]
            ],
            "type": "heatmapgl"
           }
          ],
          "histogram": [
           {
            "marker": {
             "pattern": {
              "fillmode": "overlay",
              "size": 10,
              "solidity": 0.2
             }
            },
            "type": "histogram"
           }
          ],
          "histogram2d": [
           {
            "colorbar": {
             "outlinewidth": 0,
             "ticks": ""
            },
            "colorscale": [
             [
              0,
              "#0d0887"
             ],
             [
              0.1111111111111111,
              "#46039f"
             ],
             [
              0.2222222222222222,
              "#7201a8"
             ],
             [
              0.3333333333333333,
              "#9c179e"
             ],
             [
              0.4444444444444444,
              "#bd3786"
             ],
             [
              0.5555555555555556,
              "#d8576b"
             ],
             [
              0.6666666666666666,
              "#ed7953"
             ],
             [
              0.7777777777777778,
              "#fb9f3a"
             ],
             [
              0.8888888888888888,
              "#fdca26"
             ],
             [
              1,
              "#f0f921"
             ]
            ],
            "type": "histogram2d"
           }
          ],
          "histogram2dcontour": [
           {
            "colorbar": {
             "outlinewidth": 0,
             "ticks": ""
            },
            "colorscale": [
             [
              0,
              "#0d0887"
             ],
             [
              0.1111111111111111,
              "#46039f"
             ],
             [
              0.2222222222222222,
              "#7201a8"
             ],
             [
              0.3333333333333333,
              "#9c179e"
             ],
             [
              0.4444444444444444,
              "#bd3786"
             ],
             [
              0.5555555555555556,
              "#d8576b"
             ],
             [
              0.6666666666666666,
              "#ed7953"
             ],
             [
              0.7777777777777778,
              "#fb9f3a"
             ],
             [
              0.8888888888888888,
              "#fdca26"
             ],
             [
              1,
              "#f0f921"
             ]
            ],
            "type": "histogram2dcontour"
           }
          ],
          "mesh3d": [
           {
            "colorbar": {
             "outlinewidth": 0,
             "ticks": ""
            },
            "type": "mesh3d"
           }
          ],
          "parcoords": [
           {
            "line": {
             "colorbar": {
              "outlinewidth": 0,
              "ticks": ""
             }
            },
            "type": "parcoords"
           }
          ],
          "pie": [
           {
            "automargin": true,
            "type": "pie"
           }
          ],
          "scatter": [
           {
            "fillpattern": {
             "fillmode": "overlay",
             "size": 10,
             "solidity": 0.2
            },
            "type": "scatter"
           }
          ],
          "scatter3d": [
           {
            "line": {
             "colorbar": {
              "outlinewidth": 0,
              "ticks": ""
             }
            },
            "marker": {
             "colorbar": {
              "outlinewidth": 0,
              "ticks": ""
             }
            },
            "type": "scatter3d"
           }
          ],
          "scattercarpet": [
           {
            "marker": {
             "colorbar": {
              "outlinewidth": 0,
              "ticks": ""
             }
            },
            "type": "scattercarpet"
           }
          ],
          "scattergeo": [
           {
            "marker": {
             "colorbar": {
              "outlinewidth": 0,
              "ticks": ""
             }
            },
            "type": "scattergeo"
           }
          ],
          "scattergl": [
           {
            "marker": {
             "colorbar": {
              "outlinewidth": 0,
              "ticks": ""
             }
            },
            "type": "scattergl"
           }
          ],
          "scattermapbox": [
           {
            "marker": {
             "colorbar": {
              "outlinewidth": 0,
              "ticks": ""
             }
            },
            "type": "scattermapbox"
           }
          ],
          "scatterpolar": [
           {
            "marker": {
             "colorbar": {
              "outlinewidth": 0,
              "ticks": ""
             }
            },
            "type": "scatterpolar"
           }
          ],
          "scatterpolargl": [
           {
            "marker": {
             "colorbar": {
              "outlinewidth": 0,
              "ticks": ""
             }
            },
            "type": "scatterpolargl"
           }
          ],
          "scatterternary": [
           {
            "marker": {
             "colorbar": {
              "outlinewidth": 0,
              "ticks": ""
             }
            },
            "type": "scatterternary"
           }
          ],
          "surface": [
           {
            "colorbar": {
             "outlinewidth": 0,
             "ticks": ""
            },
            "colorscale": [
             [
              0,
              "#0d0887"
             ],
             [
              0.1111111111111111,
              "#46039f"
             ],
             [
              0.2222222222222222,
              "#7201a8"
             ],
             [
              0.3333333333333333,
              "#9c179e"
             ],
             [
              0.4444444444444444,
              "#bd3786"
             ],
             [
              0.5555555555555556,
              "#d8576b"
             ],
             [
              0.6666666666666666,
              "#ed7953"
             ],
             [
              0.7777777777777778,
              "#fb9f3a"
             ],
             [
              0.8888888888888888,
              "#fdca26"
             ],
             [
              1,
              "#f0f921"
             ]
            ],
            "type": "surface"
           }
          ],
          "table": [
           {
            "cells": {
             "fill": {
              "color": "#EBF0F8"
             },
             "line": {
              "color": "white"
             }
            },
            "header": {
             "fill": {
              "color": "#C8D4E3"
             },
             "line": {
              "color": "white"
             }
            },
            "type": "table"
           }
          ]
         },
         "layout": {
          "annotationdefaults": {
           "arrowcolor": "#2a3f5f",
           "arrowhead": 0,
           "arrowwidth": 1
          },
          "autotypenumbers": "strict",
          "coloraxis": {
           "colorbar": {
            "outlinewidth": 0,
            "ticks": ""
           }
          },
          "colorscale": {
           "diverging": [
            [
             0,
             "#8e0152"
            ],
            [
             0.1,
             "#c51b7d"
            ],
            [
             0.2,
             "#de77ae"
            ],
            [
             0.3,
             "#f1b6da"
            ],
            [
             0.4,
             "#fde0ef"
            ],
            [
             0.5,
             "#f7f7f7"
            ],
            [
             0.6,
             "#e6f5d0"
            ],
            [
             0.7,
             "#b8e186"
            ],
            [
             0.8,
             "#7fbc41"
            ],
            [
             0.9,
             "#4d9221"
            ],
            [
             1,
             "#276419"
            ]
           ],
           "sequential": [
            [
             0,
             "#0d0887"
            ],
            [
             0.1111111111111111,
             "#46039f"
            ],
            [
             0.2222222222222222,
             "#7201a8"
            ],
            [
             0.3333333333333333,
             "#9c179e"
            ],
            [
             0.4444444444444444,
             "#bd3786"
            ],
            [
             0.5555555555555556,
             "#d8576b"
            ],
            [
             0.6666666666666666,
             "#ed7953"
            ],
            [
             0.7777777777777778,
             "#fb9f3a"
            ],
            [
             0.8888888888888888,
             "#fdca26"
            ],
            [
             1,
             "#f0f921"
            ]
           ],
           "sequentialminus": [
            [
             0,
             "#0d0887"
            ],
            [
             0.1111111111111111,
             "#46039f"
            ],
            [
             0.2222222222222222,
             "#7201a8"
            ],
            [
             0.3333333333333333,
             "#9c179e"
            ],
            [
             0.4444444444444444,
             "#bd3786"
            ],
            [
             0.5555555555555556,
             "#d8576b"
            ],
            [
             0.6666666666666666,
             "#ed7953"
            ],
            [
             0.7777777777777778,
             "#fb9f3a"
            ],
            [
             0.8888888888888888,
             "#fdca26"
            ],
            [
             1,
             "#f0f921"
            ]
           ]
          },
          "colorway": [
           "#636efa",
           "#EF553B",
           "#00cc96",
           "#ab63fa",
           "#FFA15A",
           "#19d3f3",
           "#FF6692",
           "#B6E880",
           "#FF97FF",
           "#FECB52"
          ],
          "font": {
           "color": "#2a3f5f"
          },
          "geo": {
           "bgcolor": "white",
           "lakecolor": "white",
           "landcolor": "#E5ECF6",
           "showlakes": true,
           "showland": true,
           "subunitcolor": "white"
          },
          "hoverlabel": {
           "align": "left"
          },
          "hovermode": "closest",
          "mapbox": {
           "style": "light"
          },
          "paper_bgcolor": "white",
          "plot_bgcolor": "#E5ECF6",
          "polar": {
           "angularaxis": {
            "gridcolor": "white",
            "linecolor": "white",
            "ticks": ""
           },
           "bgcolor": "#E5ECF6",
           "radialaxis": {
            "gridcolor": "white",
            "linecolor": "white",
            "ticks": ""
           }
          },
          "scene": {
           "xaxis": {
            "backgroundcolor": "#E5ECF6",
            "gridcolor": "white",
            "gridwidth": 2,
            "linecolor": "white",
            "showbackground": true,
            "ticks": "",
            "zerolinecolor": "white"
           },
           "yaxis": {
            "backgroundcolor": "#E5ECF6",
            "gridcolor": "white",
            "gridwidth": 2,
            "linecolor": "white",
            "showbackground": true,
            "ticks": "",
            "zerolinecolor": "white"
           },
           "zaxis": {
            "backgroundcolor": "#E5ECF6",
            "gridcolor": "white",
            "gridwidth": 2,
            "linecolor": "white",
            "showbackground": true,
            "ticks": "",
            "zerolinecolor": "white"
           }
          },
          "shapedefaults": {
           "line": {
            "color": "#2a3f5f"
           }
          },
          "ternary": {
           "aaxis": {
            "gridcolor": "white",
            "linecolor": "white",
            "ticks": ""
           },
           "baxis": {
            "gridcolor": "white",
            "linecolor": "white",
            "ticks": ""
           },
           "bgcolor": "#E5ECF6",
           "caxis": {
            "gridcolor": "white",
            "linecolor": "white",
            "ticks": ""
           }
          },
          "title": {
           "x": 0.05
          },
          "xaxis": {
           "automargin": true,
           "gridcolor": "white",
           "linecolor": "white",
           "ticks": "",
           "title": {
            "standoff": 15
           },
           "zerolinecolor": "white",
           "zerolinewidth": 2
          },
          "yaxis": {
           "automargin": true,
           "gridcolor": "white",
           "linecolor": "white",
           "ticks": "",
           "title": {
            "standoff": 15
           },
           "zerolinecolor": "white",
           "zerolinewidth": 2
          }
         }
        },
        "title": {
         "text": "Denoised vs Clean Signal"
        },
        "xaxis": {
         "title": {
          "text": "Time Step"
         }
        },
        "yaxis": {
         "title": {
          "text": "Signal Value"
         }
        }
       }
      }
     },
     "metadata": {},
     "output_type": "display_data"
    }
   ],
   "source": [
    "import numpy as np\n",
    "import torch\n",
    "import plotly.graph_objects as go\n",
    "\n",
    "# 模拟信号\n",
    "sequence_length = 500\n",
    "\n",
    "# linspace(start, stop, num=50)\n",
    "clean_signal = np.sin(np.linspace(0, 2 * np.pi * 10, sequence_length)).astype(np.float32)  # 模拟正弦波干净信号\n",
    "clean_signal = (clean_signal - clean_signal.mean()) / clean_signal.std()\n",
    "print(\"clean_signal shape:\", clean_signal.shape)\n",
    "noise = np.random.normal(0, 0.2, sequence_length).astype(np.float32)  # 添加噪声\n",
    "noisy_signal = clean_signal + noise  # 噪声信号\n",
    "noisy_signal = (noisy_signal - noisy_signal.mean()) / noisy_signal.std()\n",
    "print(\"noisy_signal shape:\", noisy_signal.shape)\n",
    "\n",
    "# 转换为 PyTorch 张量\n",
    "noisy_signal_tensor = torch.from_numpy(noisy_signal).unsqueeze(1).unsqueeze(0)  # (1, sequence_length, 1)\n",
    "print(\"noisy_signal_tensor shape:\", noisy_signal_tensor.shape)\n",
    "\n",
    "# 加载模型\n",
    "device = torch.device(\"cuda\" if torch.cuda.is_available() else \"cpu\")\n",
    "print(\"Training on:\", device)\n",
    "\n",
    "# 假设你有一个定义好的模型类\n",
    "model = LSTMDenoiser(input_size=1, hidden_size=128, num_layers=2)\n",
    "model.to(device)\n",
    "\n",
    "# 加载已训练的模型权重\n",
    "checkpoint = torch.load(\"models/best_model.pth\", map_location=device)\n",
    "model.load_state_dict(checkpoint['model_state_dict'])\n",
    "model.eval()  # 设置模型为评估模式\n",
    "\n",
    "# 预测降噪结果\n",
    "with torch.no_grad():\n",
    "    denoised_signal = model(noisy_signal_tensor.to(device))  # 模型输出 (batch_size, sequence_length, input_size)\n",
    "    print(\"denoised_signal shape:\", denoised_signal.shape)\n",
    "    \n",
    "# 绘制对比图\n",
    "fig3 = go.Figure()\n",
    "\n",
    "fig3.add_trace(go.Scatter(y=noisy_signal, mode='lines', name='Noisy Signal'))  # 噪声信号\n",
    "fig3.add_trace(go.Scatter(y=clean_signal, mode='lines', name='Clean Signal'))  # 干净信号\n",
    "fig3.add_trace(go.Scatter(y=denoised_signal.squeeze().cpu().numpy(), mode='lines', name='Denoised Signal'))  # 去噪信号\n",
    "\n",
    "# 更新布局\n",
    "fig3.update_layout(\n",
    "    title='Denoised vs Clean Signal',\n",
    "    xaxis_title='Time Step',\n",
    "    yaxis_title='Signal Value',\n",
    "    legend_title='Signal Type'\n",
    ")\n",
    "\n",
    "# 显示图表\n",
    "fig3.show()"
   ]
  },
  {
   "cell_type": "markdown",
   "metadata": {},
   "source": [
    "## Save as html file"
   ]
  },
  {
   "cell_type": "code",
   "execution_count": 3,
   "metadata": {},
   "outputs": [
    {
     "name": "stdout",
     "output_type": "stream",
     "text": [
      "Converting ./notebooks/04_train_lstm_with_validation.ipynb to HTML...\n"
     ]
    },
    {
     "name": "stderr",
     "output_type": "stream",
     "text": [
      "d:\\Foester\\initial preparation\\noise_reduction\\.venv\\share\\jupyter\\nbconvert\\templates\\base\\display_priority.j2:32: UserWarning: Your element with mimetype(s) dict_keys(['application/vnd.plotly.v1+json']) is not able to be represented.\n",
      "  {%- elif type == 'text/vnd.mermaid' -%}\n"
     ]
    },
    {
     "name": "stdout",
     "output_type": "stream",
     "text": [
      "HTML file saved to ./docs/reports\\04_train_lstm_with_validation.html\n"
     ]
    }
   ],
   "source": [
    "## Save as html file\n",
    "\n",
    "from src.utils import utils\n",
    "\n",
    "source_notebook = \"./notebooks/04_train_lstm_with_validation.ipynb\"\n",
    "target_folder = \"./docs/reports\"\n",
    "converter = utils.get_notebook_converter(\n",
    "    source_notebook, target_folder, additional_pdf=False\n",
    ")\n",
    "converter.convert()"
   ]
  }
 ],
 "metadata": {
  "kernelspec": {
   "display_name": ".venv",
   "language": "python",
   "name": "python3"
  },
  "language_info": {
   "codemirror_mode": {
    "name": "ipython",
    "version": 3
   },
   "file_extension": ".py",
   "mimetype": "text/x-python",
   "name": "python",
   "nbconvert_exporter": "python",
   "pygments_lexer": "ipython3",
   "version": "3.11.9"
  }
 },
 "nbformat": 4,
 "nbformat_minor": 2
}
